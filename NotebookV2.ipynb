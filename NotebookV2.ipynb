{
 "cells": [
  {
   "metadata": {},
   "cell_type": "markdown",
   "source": [
    "## Introduction and Dataset\n",
    "\n",
    "The Stanford Sentiment Treebank(SST-2 Dataset | Papers With Code, no date), introduced in (Socher et al., 2013), is a dataset consisting of 11855 labelled reviews used for sentiment analysis. The dataset is derived from another by (Pang and Lee, 2005), the data was processed using the Stanford parser and then annotated by 3 people. SST-2 is the binary form of this dataset, SST-5 contains 5 labels with varying degrees of sentiment analysis. The SST-2 dataset has been chosen as it is utilised in the research paper discussed later. The dataset is almost perfectly balanced (displayed in graphs later in this section).\n",
    "\n",
    "The task to be performed is sentiment analysis (or binary classification). The goal is to predict whether a given review parse tree is a positive or negative review. The labels are represented as Negative (0) or Positive (1).\n",
    "The dataset is separated into three sets, the Training Set, Testing Set and Validation Set. The training set is used to fit models, the testing set is used for evaluating their results during the training process. The validation set is used in the evaluation stage and contains data that has been kept separate from the test and train data.\n"
   ],
   "id": "36433f789368f2c2"
  },
  {
   "cell_type": "code",
   "id": "initial_id",
   "metadata": {
    "collapsed": true,
    "ExecuteTime": {
     "end_time": "2024-11-25T13:16:10.755551Z",
     "start_time": "2024-11-25T13:16:10.714766Z"
    }
   },
   "source": [
    "import gensim\n",
    "import pandas as pd\n",
    "import numpy as np\n",
    "import tensorflow as tf\n",
    "import random\n",
    "\n",
    "# Ensure consistency between runs\n",
    "SEED = 1337\n",
    "def reset_seed():\n",
    "    random.seed(SEED)\n",
    "    np.random.seed = SEED\n",
    "    tf.random.set_seed(SEED)\n",
    "reset_seed()\n",
    "tf.config.experimental.enable_op_determinism()\n",
    "\n",
    "# Train and Test are used for training/hyperparameter tuning\n",
    "# Validation set is used exclusively for set validation and comparison\n",
    "\n",
    "# Using the static split so that the results are comparable with the paper being referenced.\n",
    "train_df = pd.read_table(\"data/train.tsv\", header=None)\n",
    "test_df = pd.read_table(\"data/test.tsv\", header=None)\n",
    "validation_df = pd.read_table(\"data/dev.tsv\", header=None)\n",
    "\n",
    "print(train_df)\n",
    "\n",
    "train_y = train_df[0].to_numpy()\n",
    "train_x = train_df[1].to_numpy()\n",
    "\n",
    "test_y = test_df[0].to_numpy()\n",
    "test_x = test_df[1].to_numpy()\n",
    "\n",
    "validation_y = validation_df[0].to_numpy()\n",
    "validation_x = validation_df[1].to_numpy()\n",
    "\n",
    "print(len(train_x))\n",
    "print(len(test_x))\n",
    "print(len(validation_x))"
   ],
   "outputs": [
    {
     "name": "stdout",
     "output_type": "stream",
     "text": [
      "      0                                                  1\n",
      "0     1  a stirring , funny and finally transporting re...\n",
      "1     0  apparently reassembled from the cutting-room f...\n",
      "2     0  they presume their audience wo n't sit still f...\n",
      "3     1  this is a visually stunning rumination on love...\n",
      "4     1  jonathan parker 's bartleby should have been t...\n",
      "...  ..                                                ...\n",
      "6915  1  painful , horrifying and oppressively tragic ,...\n",
      "6916  0  take care is nicely performed by a quintet of ...\n",
      "6917  0  the script covers huge , heavy topics in a bla...\n",
      "6918  0  a seriously bad film with seriously warped log...\n",
      "6919  1  a deliciously nonsensical comedy about a city ...\n",
      "\n",
      "[6920 rows x 2 columns]\n",
      "6920\n",
      "1821\n",
      "872\n"
     ]
    }
   ],
   "execution_count": 15
  },
  {
   "metadata": {
    "ExecuteTime": {
     "end_time": "2024-11-24T20:36:07.017283Z",
     "start_time": "2024-11-24T20:36:07.008917Z"
    }
   },
   "cell_type": "code",
   "source": [
    "print(train_x)\n",
    "print(train_y)\n",
    "\n",
    "print(test_x)\n",
    "print(test_y)\n",
    "\n",
    "print(validation_x)\n",
    "print(validation_y)"
   ],
   "id": "24b90da7fa2f5d0f",
   "outputs": [
    {
     "name": "stdout",
     "output_type": "stream",
     "text": [
      "['a stirring , funny and finally transporting re-imagining of beauty and the beast and 1930s horror films'\n",
      " 'apparently reassembled from the cutting-room floor of any given daytime soap .'\n",
      " \"they presume their audience wo n't sit still for a sociology lesson , however entertainingly presented , so they trot out the conventional science-fiction elements of bug-eyed monsters and futuristic women in skimpy clothes .\"\n",
      " ...\n",
      " \"the script covers huge , heavy topics in a bland , surfacey way that does n't offer any insight into why , for instance , good things happen to bad people .\"\n",
      " 'a seriously bad film with seriously warped logic by writer-director kurt wimmer at the screenplay level .'\n",
      " 'a deliciously nonsensical comedy about a city coming apart at its seams .']\n",
      "[1 0 0 ... 0 0 1]\n",
      "['no movement , no yuks , not much of anything .'\n",
      " \"a gob of drivel so sickly sweet , even the eager consumers of moore 's pasteurized ditties will retch it up like rancid crème brûlée .\"\n",
      " 'gangs of new york is an unapologetic mess , whose only saving grace is that it ends by blowing just about everything up .'\n",
      " ...\n",
      " \"safe conduct , however ambitious and well-intentioned , fails to hit the entertainment bull 's - eye .\"\n",
      " 'a film made with as little wit , interest , and professionalism as artistically possible for a slummy hollywood caper flick .'\n",
      " \"but here 's the real damn : it is n't funny , either .\"]\n",
      "[0 0 0 ... 0 0 0]\n",
      "['one long string of cliches .'\n",
      " \"if you 've ever entertained the notion of doing what the title of this film implies , what sex with strangers actually shows may put you off the idea forever .\"\n",
      " 'k-19 exploits our substantial collective fear of nuclear holocaust to generate cheap hollywood tension .'\n",
      " \"it 's played in the most straight-faced fashion , with little humor to lighten things up .\"\n",
      " 'there is a fabric of complex ideas here , and feelings that profoundly deepen them .'\n",
      " 'although laced with humor and a few fanciful touches , the film is a refreshingly serious look at young women .'\n",
      " 'it all feels like a monty python sketch gone horribly wrong .'\n",
      " \"it 's a stunning lyrical work of considerable force and truth .\"\n",
      " 'however it may please those who love movies that blare with pop songs , young science fiction fans will stomp away in disgust .'\n",
      " \"broomfield turns his distinctive ` blundering ' style into something that could really help clear up the case .\"\n",
      " \"although german cooking does not come readily to mind when considering the world 's best cuisine , mostly martha could make deutchland a popular destination for hungry tourists .\"\n",
      " 'a very well-made , funny and entertaining picture .'\n",
      " 'a valueless kiddie paean to pro basketball underwritten by the nba .'\n",
      " \"all the amped-up tony hawk-style stunts and thrashing rap-metal ca n't disguise the fact that , really , we 've been here , done that .\"\n",
      " 'a swashbuckling tale of love , betrayal , revenge and above all , faith .'\n",
      " 'there ought to be a directing license , so that ed burns can have his revoked .'\n",
      " 'a rigorously structured and exquisitely filmed drama about a father and son connection that is a brief shooting star of love .'\n",
      " 'on this tricky topic , tadpole is very much a step in the right direction , with its blend of frankness , civility and compassion .'\n",
      " 'macdowell , whose wifty southern charm has anchored lighter affairs ... brings an absolutely riveting conviction to her role .'\n",
      " 'the jabs it employs are short , carefully placed and dead-center .'\n",
      " 'despite its title , punch-drunk love is never heavy-handed .'\n",
      " 'at once half-baked and overheated .'\n",
      " 'this is a shameless sham , calculated to cash in on the popularity of its stars .'\n",
      " 'jason x is positively anti-darwinian : nine sequels and 400 ### years later , the teens are none the wiser and jason still kills on auto-pilot .'\n",
      " 'people cinema at its finest .'\n",
      " \"` de niro ... is a veritable source of sincere passion that this hollywood contrivance orbits around . '\"\n",
      " 'if you believe any of this , i can make you a real deal on leftover enron stock that will double in value a week from friday .'\n",
      " 'candid and comfortable ; a film that deftly balances action and reflection as it lets you grasp and feel the passion others have for their work .'\n",
      " 'more romantic , more emotional and ultimately more satisfying than the teary-eyed original .'\n",
      " 'it offers little beyond the momentary joys of pretty and weightless intellectual entertainment .'\n",
      " \"it 's a remarkably solid and subtly satirical tour de force .\"\n",
      " 'coughs and sputters on its own postmodern conceit .'\n",
      " 'with virtually no interesting elements for an audience to focus on , chelsea walls is a triple-espresso endurance challenge .'\n",
      " 'lovely and poignant .'\n",
      " \"at times , the suspense is palpable , but by the end there 's a sense that the crux of the mystery hinges on a technicality that strains credulity and leaves the viewer haunted by the waste of potential .\"\n",
      " '... a boring parade of talking heads and technical gibberish that will do little to advance the linux cause .'\n",
      " \"paid in full is so stale , in fact , that its most vibrant scene is one that uses clips from brian de palma 's scarface .\"\n",
      " 'american chai encourages rueful laughter at stereotypes only an indian-american would recognize .'\n",
      " 'visually imaginative , thematically instructive and thoroughly delightful , it takes us on a roller-coaster ride from innocence to experience without even a hint of that typical kiddie-flick sentimentality .'\n",
      " 'directed in a paint-by-numbers manner .'\n",
      " \"the movie is dawn of the dead crossed with john carpenter 's ghosts of mars , with zombies not as ghoulish as the first and trains not as big as the second .\"\n",
      " 'detox is ultimately a pointless endeavor .'\n",
      " 'despite all evidence to the contrary , this clunker has somehow managed to pose as an actual feature movie , the kind that charges full admission and gets hyped on tv and purports to amuse small children and ostensible adults .'\n",
      " 'so unremittingly awful that labeling it a dog probably constitutes cruelty to canines .'\n",
      " 'i just loved every minute of this film .'\n",
      " \"the film contains no good jokes , no good scenes , barely a moment when carvey 's saturday night live-honed mimicry rises above the level of embarrassment .\"\n",
      " \"to say this was done better in wilder 's some like it hot is like saying the sun rises in the east .\"\n",
      " \"the longer the movie goes , the worse it gets , but it 's actually pretty good in the first few minutes .\"\n",
      " 'they should have called it gutterball .'\n",
      " \"it 's a bit disappointing that it only manages to be decent instead of dead brilliant .\"\n",
      " \"that 's a cheat .\"\n",
      " 'the title not only describes its main characters , but the lazy people behind the camera as well .'\n",
      " \"i do n't think i laughed out loud once .\"\n",
      " 'may reawaken discussion of the kennedy assassination but this fictional film looks made for cable rather than for the big screen .'\n",
      " 'taylor appears to have blown his entire budget on soundtrack rights and had nothing left over for jokes .'\n",
      " 'i am sorry that i was unable to get the full brunt of the comedy .'\n",
      " 'the movie fails to live up to the sum of its parts .'\n",
      " \"it 's just disappointingly superficial -- a movie that has all the elements necessary to be a fascinating , involving character study , but never does more than scratch the surface .\"\n",
      " \"here 's yet another studio horror franchise mucking up its storyline with glitches casual fans could correct in their sleep .\"\n",
      " \"for anyone unfamiliar with pentacostal practices in general and theatrical phenomenon of hell houses in particular , it 's an eye-opener .\"\n",
      " \"if steven soderbergh 's ` solaris ' is a failure it is a glorious failure .\"\n",
      " \"there 's a wickedly subversive bent to the best parts of birthday girl .\"\n",
      " 'while locals will get a kick out of spotting cleveland sites , the rest of the world will enjoy a fast-paced comedy with quirks that might make the award-winning coen brothers envious .'\n",
      " 'while -lrb- hill -rrb- has learned new tricks , the tricks alone are not enough to salvage this lifeless boxing film .'\n",
      " 'this is the sort of burly action flick where one coincidence pummels another , narrative necessity is a drunken roundhouse , and whatever passes for logic is a factor of the last plot device left standing .'\n",
      " 'the director knows how to apply textural gloss , but his portrait of sex-as-war is strictly sitcom .'\n",
      " '-lrb- a -rrb- shapeless blob of desperate entertainment .'\n",
      " 'dazzling in its complexity , disturbing for its extraordinary themes , the piano teacher is a film that defies categorisation .'\n",
      " 'an exhilarating futuristic thriller-noir , minority report twists the best of technology around a gripping story , delivering a riveting , pulse intensifying escapist adventure of the first order'\n",
      " 'this film seems thirsty for reflection , itself taking on adolescent qualities .'\n",
      " \"from the opening scenes , it 's clear that all about the benjamins is a totally formulaic movie .\"\n",
      " 'it has all the excitement of eating oatmeal .'\n",
      " 'the most hopelessly monotonous film of the year , noteworthy only for the gimmick of being filmed as a single unbroken 87-minute take .'\n",
      " 'it all adds up to good fun .'\n",
      " \"`` the time machine '' is a movie that has no interest in itself .\"\n",
      " 'something akin to a japanese alice through the looking glass , except that it seems to take itself far more seriously .'\n",
      " 'ultimately feels empty and unsatisfying , like swallowing a communion wafer without the wine .'\n",
      " \"the moviegoing equivalent of going to a dinner party and being forced to watch the host and hostess 's home video of their baby 's birth .\"\n",
      " 'a coarse and stupid gross-out .' 'cool ?'\n",
      " 'the film tunes into a grief that could lead a man across centuries .'\n",
      " 'a string of rehashed sight gags based in insipid vulgarity .'\n",
      " 'the weight of the piece , the unerring professionalism of the chilly production , and the fascination embedded in the lurid topic prove recommendation enough .'\n",
      " 'it appears that something has been lost in the translation to the screen .'\n",
      " 'the second coming of harry potter is a film far superior to its predecessor .'\n",
      " 'when leguizamo finally plugged an irritating character late in the movie .'\n",
      " \"as ` chick flicks ' go , this one is pretty miserable , resorting to string-pulling rather than legitimate character development and intelligent plotting .\"\n",
      " 'despite the 2-d animation , the wild thornberrys movie makes for a surprisingly cinematic experience .'\n",
      " 'uses high comedy to evoke surprising poignance .'\n",
      " \"the movie is what happens when you blow up small potatoes to 10 ### times their natural size , and it ai n't pretty .\"\n",
      " 'an infectious cultural fable with a tasty balance of family drama and frenetic comedy .'\n",
      " 'like being trapped at a perpetual frat party ... how can something so gross be so boring ?'\n",
      " 'feels too formulaic and too familiar to produce the transgressive thrills of early underground work .'\n",
      " \"a celebration of quirkiness , eccentricity , and certain individuals ' tendency to let it all hang out , and damn the consequences .\"\n",
      " \"awesome creatures , breathtaking scenery , and epic battle scenes add up to another ` spectacular spectacle . '\"\n",
      " '-lrb- a -rrb- n utterly charming and hilarious film that reminded me of the best of the disney comedies from the 60s .'\n",
      " 'neither parker nor donovan is a typical romantic lead , but they bring a fresh , quirky charm to the formula .'\n",
      " \"seldahl 's barbara is a precise and moving portrait of someone whose world is turned upside down , first by passion and then by illness .\"\n",
      " 'filmmakers who can deftly change moods are treasures and even marvels .'\n",
      " \"what 's surprising about full frontal is that despite its overt self-awareness , parts of the movie still manage to break past the artifice and thoroughly engage you .\"\n",
      " \"it 's a scattershot affair , but when it hits its mark it 's brilliant .\"\n",
      " 'just as moving , uplifting and funny as ever .'\n",
      " 'the wild thornberrys movie is a jolly surprise .'\n",
      " 'exquisitely nuanced in mood tics and dialogue , this chamber drama is superbly acted by the deeply appealing veteran bouquet and the chilling but quite human berling .'\n",
      " 'this movie is maddening .'\n",
      " 'not since freddy got fingered has a major release been so painful to sit through .'\n",
      " \"not only is undercover brother as funny , if not more so , than both austin powers films , but it 's also one of the smarter , savvier spoofs to come along in some time .\"\n",
      " 'another in-your-face wallow in the lower depths made by people who have never sung those blues .'\n",
      " \"that dogged good will of the parents and ` vain ' jia 's defoliation of ego , make the film touching despite some doldrums .\"\n",
      " 'allows us to hope that nolan is poised to embark a major career as a commercial yet inventive filmmaker .'\n",
      " 'one of the most significant moviegoing pleasures of the year .'\n",
      " 'an occasionally funny , but overall limp , fish-out-of-water story .'\n",
      " 'what the film lacks in general focus it makes up for in compassion , as corcuera manages to find the seeds of hope in the form of collective action .'\n",
      " 'but it could have been worse .'\n",
      " 'a wildly inconsistent emotional experience .'\n",
      " \"it 's as if you 're watching a movie that was made in 1978 but not released then because it was so weak , and it has been unearthed and released now , when it has become even weaker .\"\n",
      " \"we root for -lrb- clara and paul -rrb- , even like them , though perhaps it 's an emotion closer to pity .\"\n",
      " \"if you dig on david mamet 's mind tricks ... rent this movie and enjoy !\"\n",
      " \"you wo n't like roger , but you will quickly recognize him .\"\n",
      " 'delivers the same old same old , tarted up with latin flava and turned out by hollywood playas .'\n",
      " 'for starters , the story is just too slim .'\n",
      " \"the x potion gives the quickly named blossom , bubbles and buttercup supernatural powers that include extraordinary strength and laser-beam eyes , which unfortunately do n't enable them to discern flimsy screenplays .\"\n",
      " \"my wife is an actress is an utterly charming french comedy that feels so american in sensibility and style it 's virtually its own hollywood remake .\"\n",
      " 'an overemphatic , would-be wacky , ultimately tedious sex farce .'\n",
      " \"\\\\/ but daphne , you 're too buff \\\\/ fred thinks he 's tough \\\\/ and velma - wow , you 've lost weight !\"\n",
      " 'feels haphazard , as if the writers mistakenly thought they could achieve an air of frantic spontaneity by simply tossing in lots of characters doing silly stuff and stirring the pot .'\n",
      " 'the piquant story needs more dramatic meat on its bones .'\n",
      " 'a difficult , absorbing film that manages to convey more substance despite its repetitions and inconsistencies than do most films than are far more pointed and clear .'\n",
      " 'an unwise amalgam of broadcast news and vibes .'\n",
      " 'a bloated gasbag thesis grotesquely impressed by its own gargantuan aura of self-importance ...'\n",
      " 'not the kind of film that will appeal to a mainstream american audience , but there is a certain charm about the film that makes it a suitable entry into the fest circuit .'\n",
      " 'a full world has been presented onscreen , not some series of carefully structured plot points building to a pat resolution .'\n",
      " 'fancy a real downer ?' 'a painfully funny ode to bad behavior .'\n",
      " \"featuring a dangerously seductive performance from the great daniel auteuil , `` sade '' covers the same period as kaufmann 's `` quills '' with more unsettlingly realistic results .\"\n",
      " 'given how heavy-handed and portent-heavy it is , this could be the worst thing soderbergh has ever done .'\n",
      " 'has all the depth of a wading pool .'\n",
      " 'the fly-on-the-wall method used to document rural french school life is a refreshing departure from the now more prevalent technique of the docu-makers being a visible part of their work .'\n",
      " \"it 's just filler .\" 'a deep and meaningful film .'\n",
      " \"sit through this one , and you wo n't need a magic watch to stop time ; your dvd player will do it for you .\"\n",
      " 'holden caulfield did it better .'\n",
      " 'the action switches between past and present , but the material link is too tenuous to anchor the emotional connections that purport to span a 125-year divide .'\n",
      " \"samira makhmalbaf 's new film blackboards is much like the ethos of a stream of consciousness , although , it 's unfortunate for the viewer that the thoughts and reflections coming through are torpid and banal\"\n",
      " 'well-nigh unendurable ... though the picture strains to become cinematic poetry , it remains depressingly prosaic and dull .'\n",
      " 'there is no pleasure in watching a child suffer .'\n",
      " 'suffers from the lack of a compelling or comprehensible narrative .'\n",
      " \"-lrb- t -rrb- here 's only so much anyone can do with a florid , overplotted , anne rice rock 'n' roll vampire novel before the built-in silliness of the whole affair defeats them .\"\n",
      " \"if the movie succeeds in instilling a wary sense of ` there but for the grace of god , ' it is far too self-conscious to draw you deeply into its world .\"\n",
      " 'for movie lovers as well as opera lovers , tosca is a real treat .'\n",
      " 'the inspirational screenplay by mike rich covers a lot of ground , perhaps too much , but ties things together , neatly , by the end .'\n",
      " \"the film 's performances are thrilling .\"\n",
      " 'a fitfully amusing romp that , if nothing else , will appeal to fans of malcolm in the middle and its pubescent star , frankie muniz .'\n",
      " \"in all , this is a watchable movie that 's not quite the memorable experience it might have been .\"\n",
      " 'affleck and jackson are good sparring partners .'\n",
      " \"it inspires a continuing and deeply satisfying awareness of the best movies as monumental ` picture shows . '\"\n",
      " \"... with `` the bourne identity '' we return to the more traditional action genre .\"\n",
      " \"what the director ca n't do is make either of val kilmer 's two personas interesting or worth caring about .\"\n",
      " 'holm ... embodies the character with an effortlessly regal charisma .'\n",
      " '-lrb- næs -rrb- directed the stage version of elling , and gets fine performances from his two leads who originated the characters on stage .'\n",
      " 'my big fat greek wedding uses stereotypes in a delightful blend of sweet romance and lovingly dished out humor .'\n",
      " \"if director michael dowse only superficially understands his characters , he does n't hold them in contempt .\"\n",
      " \"whaley 's determination to immerse you in sheer , unrelenting wretchedness is exhausting .\"\n",
      " \"at its best , queen is campy fun like the vincent price horror classics of the '60s .\"\n",
      " \"moretti 's compelling anatomy of grief and the difficult process of adapting to loss .\"\n",
      " 'a tv style murder mystery with a few big screen moments -lrb- including one that seems to be made for a different film altogether -rrb- .'\n",
      " \"the end result is a film that 's neither .\"\n",
      " \"scorsese does n't give us a character worth giving a damn about .\"\n",
      " 'an artful , intelligent film that stays within the confines of a well-established genre .'\n",
      " 'makes for a pretty unpleasant viewing experience .'\n",
      " 'travels a fascinating arc from hope and euphoria to reality and disillusionment .'\n",
      " 'altogether , this is successful as a film , while at the same time being a most touching reconsideration of the familiar masterpiece .'\n",
      " \"... an otherwise intense , twist-and-turn thriller that certainly should n't hurt talented young gaghan 's resume .\"\n",
      " 'the story and structure are well-honed .'\n",
      " 'has a lot of the virtues of eastwood at his best .'\n",
      " \"do n't be fooled by the impressive cast list - eye see you is pure junk .\"\n",
      " 'do not see this film .' 'a fast , funny , highly enjoyable movie .'\n",
      " \"this tenth feature is a big deal , indeed -- at least the third-best , and maybe even a notch above the previous runner-up , nicholas meyer 's star trek vi : the undiscovered country .\"\n",
      " 'a rewarding work of art for only the most patient and challenge-hungry moviegoers .'\n",
      " \"due to some script weaknesses and the casting of the director 's brother , the film trails off into inconsequentiality .\"\n",
      " \"a by-the-numbers effort that wo n't do much to enhance the franchise .\"\n",
      " 'enormously entertaining for moviegoers of any age .'\n",
      " \"thanks to scott 's charismatic roger and eisenberg 's sweet nephew , roger dodger is one of the most compelling variations on in the company of men .\"\n",
      " 'richard gere and diane lane put in fine performances as does french actor oliver martinez .'\n",
      " 'immersing us in the endlessly inventive , fiercely competitive world of hip-hop djs , the project is sensational and revelatory , even if scratching makes you itch .'\n",
      " 'a pleasant enough romance with intellectual underpinnings , the kind of movie that entertains even as it turns maddeningly predictable .'\n",
      " 'an important movie , a reminder of the power of film to move us and to make us examine our values .'\n",
      " \"griffiths proves she 's that rare luminary who continually raises the standard of her profession .\"\n",
      " 'an entertaining , colorful , action-filled crime story with an intimate heart .'\n",
      " \"and that 's a big part of why we go to the movies .\"\n",
      " 'the movie achieves as great an impact by keeping these thoughts hidden as ... -lrb- quills -rrb- did by showing them .'\n",
      " \"the film 's welcome breeziness and some unbelievably hilarious moments -- most portraying the idiocy of the film industry -- make it mostly worth the trip .\"\n",
      " 'it takes a strange kind of laziness to waste the talents of robert forster , anne meara , eugene levy , and reginald veljohnson all in the same movie .'\n",
      " \"a rarity among recent iranian films : it 's a comedy full of gentle humor that chides the absurdity of its protagonist 's plight .\"\n",
      " \"while there 's something intrinsically funny about sir anthony hopkins saying ` get in the car , bitch , ' this jerry bruckheimer production has little else to offer\"\n",
      " \"if your taste runs to ` difficult ' films you absolutely ca n't miss it .\"\n",
      " \"the film 's tone and pacing are off almost from the get-go .\"\n",
      " \"the cold turkey would 've been a far better title .\"\n",
      " \"it does nothing new with the old story , except to show fisticuffs in this sort of stop-go slow motion that makes the gang rumbles look like they 're being streamed over a 28k modem .\"\n",
      " \"two hours fly by -- opera 's a pleasure when you do n't have to endure intermissions -- and even a novice to the form comes away exhilarated .\"\n",
      " \"hit and miss as far as the comedy goes and a big ole ' miss in the way of story .\"\n",
      " \"mcconaughey 's fun to watch , the dragons are okay , not much fire in the script .\"\n",
      " 'a gorgeous , high-spirited musical from india that exquisitely blends music , dance , song , and high drama .'\n",
      " 'looks and feels like a project better suited for the small screen .'\n",
      " \"inside the film 's conflict-powered plot there is a decent moral trying to get out , but it 's not that , it 's the tension that keeps you in your seat .\"\n",
      " 'its story may be a thousand years old , but why did it have to seem like it took another thousand to tell it to us ?'\n",
      " 'the best film about baseball to hit theaters since field of dreams .'\n",
      " 'the vitality of the actors keeps the intensity of the film high , even as the strafings blend together .'\n",
      " 'the film may appear naked in its narrative form ... but it goes deeper than that , to fundamental choices that include the complexity of the catholic doctrine'\n",
      " 'there are simply too many ideas floating around -- part farce , part sliding doors , part pop video -- and yet failing to exploit them .'\n",
      " \"overall very good for what it 's trying to do .\"\n",
      " 'it haunts , horrifies , startles and fascinates ; it is impossible to look away .'\n",
      " 'sacrifices the value of its wealth of archival foot-age with its less-than-objective stance .'\n",
      " \"it showcases carvey 's talent for voices , but not nearly enough and not without taxing every drop of one 's patience to get to the good stuff .\"\n",
      " 'escaping the studio , piccoli is warmly affecting and so is this adroitly minimalist movie .'\n",
      " 'the most compelling wiseman epic of recent years .'\n",
      " 'sam mendes has become valedictorian at the school for soft landings and easy ways out .'\n",
      " 'entertains by providing good , lively company .'\n",
      " 'just embarrassment and a vague sense of shame .'\n",
      " \"it 's a much more emotional journey than what shyamalan has given us in his past two movies , and gibson , stepping in for bruce willis , is the perfect actor to take us on the trip .\"\n",
      " \"it 's of the quality of a lesser harrison ford movie - six days , seven nights , maybe , or that dreadful sabrina remake .\"\n",
      " \"there is n't nearly enough fun here , despite the presence of some appealing ingredients .\"\n",
      " 'it takes talent to make a lifeless movie about the most heinous man who ever lived .'\n",
      " \"impostor has a handful of thrilling moments and a couple of good performances , but the movie does n't quite fly .\"\n",
      " 'preaches to two completely different choirs at the same time , which is a pretty amazing accomplishment .'\n",
      " 'there are plot holes big enough for shamu the killer whale to swim through .'\n",
      " \"it takes a certain kind of horror movie to qualify as ` worse than expected , ' but ghost ship somehow manages to do exactly that .\"\n",
      " 'manages to transcend the sex , drugs and show-tunes plot into something far richer .'\n",
      " 'a smart , witty follow-up .'\n",
      " \"it 's not the ultimate depression-era gangster movie .\"\n",
      " 'for all its impressive craftsmanship , and despite an overbearing series of third-act crescendos , lily chou-chou never really builds up a head of emotional steam .'\n",
      " \"anchored by friel and williams 's exceptional performances , the film 's power lies in its complexity .\"\n",
      " 'without non-stop techno or the existential overtones of a kieslowski morality tale , maelström is just another winter sleepers .'\n",
      " 'the film tries too hard to be funny and tries too hard to be hip .'\n",
      " \"it just may inspire a few younger moviegoers to read stevenson 's book , which is a treasure in and of itself .\"\n",
      " 'turns potentially forgettable formula into something strangely diverting .'\n",
      " \"it 's also , clearly , great fun .\"\n",
      " \"oscar wilde 's masterpiece , the importance of being earnest , may be the best play of the 19th century .\"\n",
      " \"it 's like watching a nightmare made flesh .\"\n",
      " 'forced , familiar and thoroughly condescending .'\n",
      " \"it 's hard to like a film about a guy who is utterly unlikeable , and shiner , starring michael caine as an aging british boxing promoter desperate for a taste of fame and fortune , is certainly that .\"\n",
      " 'the mesmerizing performances of the leads keep the film grounded and keep the audience riveted .'\n",
      " \"belongs to daniel day-lewis as much as it belongs to martin scorsese ; it 's a memorable performance in a big , brassy , disturbing , unusual and highly successful film .\"\n",
      " 'if the first men in black was money , the second is small change .'\n",
      " 'for the most part stevens glides through on some solid performances and witty dialogue .'\n",
      " \"it 's another video movie photographed like a film , with the bad lighting that 's often written off as indie film naturalism .\"\n",
      " \"it 's somewhat clumsy and too lethargically paced -- but its story about a mysterious creature with psychic abilities offers a solid build-up , a terrific climax , and some nice chills along the way .\"\n",
      " \"looking aristocratic , luminous yet careworn in jane hamilton 's exemplary costumes , rampling gives a performance that could not be improved upon . '\"\n",
      " 'thekids will probably stay amused at the kaleidoscope of big , colorful characters .'\n",
      " \"i do n't mind having my heartstrings pulled , but do n't treat me like a fool .\"\n",
      " 'an exquisitely crafted and acted tale .'\n",
      " 'not since tom cruise in risky business has an actor made such a strong impression in his underwear .'\n",
      " \"or doing last year 's taxes with your ex-wife .\"\n",
      " 'scooby dooby doo \\\\/ and shaggy too \\\\/ you both look and sound great .'\n",
      " \"may be far from the best of the series , but it 's assured , wonderfully respectful of its past and thrilling enough to make it abundantly clear that this movie phenomenon has once again reinvented itself for a new generation .\"\n",
      " 'one of those energetic surprises , an original that pleases almost everyone who sees it .'\n",
      " \"does n't offer much besides glib soullessness , raunchy language and a series of brutal set pieces ... that raise the bar on stylized screen violence .\"\n",
      " 'movie fans , get ready to take off ... the other direction .'\n",
      " 'not only unfunny , but downright repellent .'\n",
      " \"for the most part , it 's a work of incendiary genius , steering clear of knee-jerk reactions and quick solutions .\"\n",
      " 'seldom has a movie so closely matched the spirit of a man and his work .'\n",
      " \"you 'll gasp appalled and laugh outraged and possibly , watching the spectacle of a promising young lad treading desperately in a nasty sea , shed an errant tear .\"\n",
      " 'comes off like a rejected abc afterschool special , freshened up by the dunce of a screenwriting 101 ### class .'\n",
      " 'this flick is about as cool and crowd-pleasing as a documentary can get .'\n",
      " 'ramsay , as in ratcatcher , remains a filmmaker with an acid viewpoint and a real gift for teasing chilly poetry out of lives and settings that might otherwise seem drab and sordid .'\n",
      " \"if there 's one thing this world needs less of , it 's movies about college that are written and directed by people who could n't pass an entrance exam .\"\n",
      " 'director of photography benoit delhomme shot the movie in delicious colors , and the costumes and sets are grand .'\n",
      " 'instead , he shows them the respect they are due .'\n",
      " '... plot holes so large and obvious a marching band might as well be stomping through them in clown clothes , playing a college football fight song on untuned instruments .'\n",
      " 'a quiet treasure -- a film to be savored .'\n",
      " 'warm water under a red bridge is a quirky and poignant japanese film that explores the fascinating connections between women , water , nature , and sexuality .'\n",
      " \"it 's too self-important and plodding to be funny , and too clipped and abbreviated to be an epic .\"\n",
      " 'few films capture so perfectly the hopes and dreams of little boys on baseball fields as well as the grown men who sit in the stands .'\n",
      " \"the lower your expectations , the more you 'll enjoy it .\"\n",
      " 'yes , dull .' \"that 's pure pr hype .\"\n",
      " 'it is great summer fun to watch arnold and his buddy gerald bounce off a quirky cast of characters .'\n",
      " 'a subtle and well-crafted -lrb- for the most part -rrb- chiller .'\n",
      " 'that is a compliment to kuras and miller .'\n",
      " \"one of the more intelligent children 's movies to hit theaters this year .\"\n",
      " \"for the most part , director anne-sophie birot 's first feature is a sensitive , extraordinarily well-acted drama .\"\n",
      " \"it 's a beautiful madness .\"\n",
      " \"stealing harvard is evidence that the farrelly bros. -- peter and bobby -- and their brand of screen comedy are wheezing to an end , along with green 's half-hearted movie career .\"\n",
      " \"i sympathize with the plight of these families , but the movie does n't do a very good job conveying the issue at hand .\"\n",
      " 'a giggle-inducing comedy with snappy dialogue and winning performances by an unlikely team of oscar-winners : susan sarandon and goldie hawn .'\n",
      " \"the words , ` frankly , my dear , i do n't give a damn , ' have never been more appropriate .\"\n",
      " 'by getting myself wrapped up in the visuals and eccentricities of many of the characters , i found myself confused when it came time to get to the heart of the movie .'\n",
      " 'his healthy sense of satire is light and fun ...'\n",
      " 'a grimly competent and stolid and earnest military courtroom drama .'\n",
      " \"it moves quickly , adroitly , and without fuss ; it does n't give you time to reflect on the inanity -- and the cold war datedness -- of its premise .\"\n",
      " 'part low rent godfather .' 'or emptying rat traps .'\n",
      " \"the special effects and many scenes of weightlessness look as good or better than in the original , while the oscar-winning sound and james horner 's rousing score make good use of the hefty audio system .\"\n",
      " 'on the heels of the ring comes a similarly morose and humorless horror movie that , although flawed , is to be commended for its straight-ahead approach to creepiness .'\n",
      " 'harris commands the screen , using his frailty to suggest the ravages of a life of corruption and ruthlessness .'\n",
      " 'schaeffer has to find some hook on which to hang his persistently useless movies , and it might as well be the resuscitation of the middle-aged character .'\n",
      " 'offers much to enjoy ... and a lot to mull over in terms of love , loyalty and the nature of staying friends .'\n",
      " 'in execution , this clever idea is far less funny than the original , killers from space .'\n",
      " 'adults will wish the movie were less simplistic , obvious , clumsily plotted and shallowly characterized .'\n",
      " \"so unassuming and pure of heart , you ca n't help but warmly extend your arms and yell ` safe ! '\"\n",
      " \"professionally speaking , it 's tempting to jump ship in january to avoid ridiculous schlock like this shoddy suspense thriller .\"\n",
      " \"this is not the undisputed worst boxing movie ever , but it 's certainly not a champion - the big loser is the audience .\"\n",
      " \"it 's another stale , kill-by-numbers flick , complete with blade-thin characters and terrible , pun-laden dialogue .\"\n",
      " 'one of those pictures whose promising , if rather precious , premise is undercut by amateurish execution .'\n",
      " \"nothing 's at stake , just a twisty double-cross you can smell a mile away -- still , the derivative nine queens is lots of fun .\"\n",
      " 'drops you into a dizzying , volatile , pressure-cooker of a situation that quickly snowballs out of control , while focusing on the what much more than the why .'\n",
      " \"while undisputed is n't exactly a high , it is a gripping , tidy little movie that takes mr. hill higher than he 's been in a while .\"\n",
      " 'a delectable and intriguing thriller filled with surprises , read my lips is an original .'\n",
      " \"it does n't believe in itself , it has no sense of humor ... it 's just plain bored .\"\n",
      " 'it seems to me the film is about the art of ripping people off without ever letting them consciously know you have done so'\n",
      " \"the story and the friendship proceeds in such a way that you 're watching a soap opera rather than a chronicle of the ups and downs that accompany lifelong friendships .\"\n",
      " 'a warm , funny , engaging film .'\n",
      " 'uses sharp humor and insight into human nature to examine class conflict , adolescent yearning , the roots of friendship and sexual identity .'\n",
      " 'i thought my own watch had stopped keeping time as i slogged my way through clockstoppers .'\n",
      " '-lrb- serry -rrb- wants to blend politics and drama , an admirable ambition .'\n",
      " \"with tightly organized efficiency , numerous flashbacks and a constant edge of tension , miller 's film is one of 2002 's involvingly adult surprises .\"\n",
      " \"the emotions are raw and will strike a nerve with anyone who 's ever had family trauma .\"\n",
      " \"there seems to be no clear path as to where the story 's going , or how long it 's going to take to get there .\"\n",
      " 'aside from minor tinkering , this is the same movie you probably loved in 1994 , except that it looks even better .'\n",
      " 'by candidly detailing the politics involved in the creation of an extraordinary piece of music , -lrb- jones -rrb- calls our attention to the inherent conflict between commerce and creativity .'\n",
      " 'a breezy romantic comedy that has the punch of a good sitcom , while offering exceptionally well-detailed characters .'\n",
      " \"because of an unnecessary and clumsy last scene , ` swimfan ' left me with a very bad feeling .\"\n",
      " 'exciting and direct , with ghost imagery that shows just enough to keep us on our toes .'\n",
      " 'a superbly acted and funny\\\\/gritty fable of the humanizing of one woman at the hands of the unseen forces of fate .'\n",
      " \"the movie 's relatively simple plot and uncomplicated morality play well with the affable cast .\"\n",
      " 'in a way , the film feels like a breath of fresh air , but only to those that allow it in .'\n",
      " 'green might want to hang onto that ski mask , as robbery may be the only way to pay for his next project .'\n",
      " 'the socio-histo-political treatise is told in earnest strides ... -lrb- and -rrb- personal illusion is deconstructed with poignancy .'\n",
      " 'a beguiling splash of pastel colors and prankish comedy from disney .'\n",
      " \"writer\\\\/director joe carnahan 's grimy crime drama is a manual of precinct cliches , but it moves fast enough to cover its clunky dialogue and lapses in logic .\"\n",
      " 'too restrained to be a freak show , too mercenary and obvious to be cerebral , too dull and pretentious to be engaging ... the isle defies an easy categorization .'\n",
      " 'based on a devilishly witty script by heather mcgowan and niels mueller , the film gets great laughs , but never at the expense of its characters'\n",
      " 'the format gets used best ... to capture the dizzying heights achieved by motocross and bmx riders , whose balletic hotdogging occasionally ends in bone-crushing screwups .'\n",
      " 'even in its most tedious scenes , russian ark is mesmerizing .'\n",
      " 'this surreal gilliam-esque film is also a troubling interpretation of ecclesiastes .'\n",
      " \"you wonder why enough was n't just a music video rather than a full-length movie .\"\n",
      " 'funny but perilously slight .'\n",
      " 'chabrol has taken promising material for a black comedy and turned it instead into a somber chamber drama .'\n",
      " 'in the end , we are left with something like two ships passing in the night rather than any insights into gay love , chinese society or the price one pays for being dishonest .'\n",
      " \"this is wild surreal stuff , but brilliant and the camera just kind of sits there and lets you look at this and its like you 're going from one room to the next and none of them have any relation to the other .\"\n",
      " \"fresnadillo 's dark and jolting images have a way of plying into your subconscious like the nightmare you had a week ago that wo n't go away .\"\n",
      " \"` easily my choice for one of the year 's best films . '\"\n",
      " 'pumpkin takes an admirable look at the hypocrisy of political correctness , but it does so with such an uneven tone that you never know when humor ends and tragedy begins .'\n",
      " \"it 's so mediocre , despite the dynamic duo on the marquee , that we just ca n't get no satisfaction .\"\n",
      " \"but it 's too long and too convoluted and it ends in a muddle .\"\n",
      " 'no aspirations to social import inform the movie version .'\n",
      " 'outer-space buffs might love this film , but others will find its pleasures intermittent .'\n",
      " 'rarely has so much money delivered so little entertainment .'\n",
      " \"so , too , is this comedy about mild culture clashing in today 's new delhi .\"\n",
      " 'a subject like this should inspire reaction in its audience ; the pianist does not .'\n",
      " '... routine , harmless diversion and little else .'\n",
      " 'not really bad so much as distasteful : we need kidnapping suspense dramas right now like we need doomsday thrillers .'\n",
      " \"blanchett 's performance confirms her power once again .\"\n",
      " 'this is a winning ensemble comedy that shows canadians can put gentle laughs and equally gentle sentiments on the button , just as easily as their counterparts anywhere else in the world .'\n",
      " \"it ca n't decide if it wants to be a mystery\\\\/thriller , a romance or a comedy .\"\n",
      " \"while the ideas about techno-saturation are far from novel , they 're presented with a wry dark humor .\"\n",
      " 'the iditarod lasts for days - this just felt like it did .'\n",
      " 'a warm but realistic meditation on friendship , family and affection .'\n",
      " 'the volatile dynamics of female friendship is the subject of this unhurried , low-key film that is so off-hollywood that it seems positively french in its rhythms and resonance .'\n",
      " 'this movie is something of an impostor itself , stretching and padding its material in a blur of dead ends and distracting camera work .'\n",
      " 'it can not be enjoyed , even on the level that one enjoys a bad slasher flick , primarily because it is dull .'\n",
      " 'sticky sweet sentimentality , clumsy plotting and a rosily myopic view of life in the wwii-era mississippi delta undermine this adaptation .'\n",
      " 'a film about a young man finding god that is accessible and touching to the marrow .'\n",
      " \"nonsensical , dull `` cyber-horror '' flick is a grim , hollow exercise in flat scares and bad acting .\"\n",
      " \"it 's hard to imagine alan arkin being better than he is in this performance .\"\n",
      " 'it proves quite compelling as an intense , brooding character study .'\n",
      " 'a romantic comedy enriched by a sharp eye for manners and mores .'\n",
      " 'nothing in waking up in reno ever inspired me to think of its inhabitants as anything more than markers in a screenplay .'\n",
      " \"not since japanese filmmaker akira kurosawa 's ran have the savagery of combat and the specter of death been visualized with such operatic grandeur .\"\n",
      " 'though only 60 ### minutes long , the film is packed with information and impressions .'\n",
      " 'the character of zigzag is not sufficiently developed to support a film constructed around him .'\n",
      " \"reggio 's continual visual barrage is absorbing as well as thought-provoking .\"\n",
      " \"about a manga-like heroine who fights back at her abusers , it 's energetic and satisfying if not deep and psychological .\"\n",
      " 'too much of it feels unfocused and underdeveloped .'\n",
      " \"unfortunately , it 's not silly fun unless you enjoy really bad movies .\"\n",
      " 'the movie understands like few others how the depth and breadth of emotional intimacy give the physical act all of its meaning and most of its pleasure .'\n",
      " 'in the end , the movie collapses on its shaky foundation despite the best efforts of director joe carnahan .'\n",
      " \"cq 's reflection of artists and the love of cinema-and-self suggests nothing less than a new voice that deserves to be considered as a possible successor to the best european directors .\"\n",
      " 'jones ... does offer a brutal form of charisma .'\n",
      " 'it provides an honest look at a community striving to anchor itself in new grounds .'\n",
      " 'not an objectionable or dull film ; it merely lacks everything except good intentions .'\n",
      " 'this is a good script , good dialogue , funny even for adults .'\n",
      " 'the lion king was a roaring success when it was released eight years ago , but on imax it seems better , not just bigger .'\n",
      " \"kinnear does n't aim for our sympathy , but rather delivers a performance of striking skill and depth .\"\n",
      " 'is the time really ripe for a warmed-over james bond adventure , with a village idiot as the 007 clone ?'\n",
      " 'wince-inducing dialogue , thrift-shop costumes , prosthetic makeup by silly putty and kmart blue-light-special effects all conspire to test trekkie loyalty .'\n",
      " 'this is a train wreck of an action film -- a stupefying attempt by the filmmakers to force-feed james bond into the mindless xxx mold and throw 40 ### years of cinematic history down the toilet in favor of bright flashes and loud bangs .'\n",
      " \"you really have to wonder how on earth anyone , anywhere could have thought they 'd make audiences guffaw with a script as utterly diabolical as this .\"\n",
      " 'a quiet , pure , elliptical film'\n",
      " \"harrison 's flowers puts its heart in the right place , but its brains are in no particular place at all .\"\n",
      " \"it 's a work by an artist so in control of both his medium and his message that he can improvise like a jazzman .\"\n",
      " \"no screen fantasy-adventure in recent memory has the showmanship of clones ' last 45 minutes .\"\n",
      " 'despite the evocative aesthetics evincing the hollow state of modern love life , the film never percolates beyond a monotonous whine .'\n",
      " \"it 's difficult to imagine the process that produced such a script , but here 's guessing that spray cheese and underarm noises played a crucial role .\"\n",
      " 'building slowly and subtly , the film , sporting a breezy spontaneity and realistically drawn characterizations , develops into a significant character study that is both moving and wise .'\n",
      " 'overall the film feels like a low-budget tv pilot that could not find a buyer to play it on the tube .'\n",
      " 'this is human comedy at its most amusing , interesting and confirming .'\n",
      " \"the band 's courage in the face of official repression is inspiring , especially for aging hippies -lrb- this one included -rrb- .\"\n",
      " 'this movie seems to have been written using mad-libs .'\n",
      " \"thanks to haynes ' absolute control of the film 's mood , and buoyed by three terrific performances , far from heaven actually pulls off this stylistic juggling act .\"\n",
      " 'more whiny downer than corruscating commentary .'\n",
      " 'the film is powerful , accessible and funny .'\n",
      " 'a good piece of work more often than not .'\n",
      " 'there has always been something likable about the marquis de sade .'\n",
      " \"in exactly 89 minutes , most of which passed as slowly as if i 'd been sitting naked on an igloo , formula 51 ### sank from quirky to jerky to utter turkey .\"\n",
      " \"care deftly captures the wonder and menace of growing up , but he never really embraces the joy of fuhrman 's destructive escapism or the grace-in-rebellion found by his characters .\"\n",
      " 'the reality of the new live-action pinocchio he directed , cowrote and starred in borders on the grotesque .'\n",
      " 'the chateau cleverly probes the cross-cultural differences between gauls and yanks .'\n",
      " \"i can take infantile humor ... but this is the sort of infantile that makes you wonder about changing the director and writer 's diapers .\"\n",
      " '... the film suffers from a lack of humor -lrb- something needed to balance out the violence -rrb- ...'\n",
      " \"a working class `` us vs. them '' opera that leaves no heartstring untugged and no liberal cause unplundered .\"\n",
      " \"so refreshingly incisive is grant that for the first time he 'll probably appeal more to guys than to their girlfriends who drag them to this movie for the hugh factor .\"\n",
      " \"with the exception of some fleetingly amusing improvisations by cedric the entertainer as perry 's boss , there is n't a redeeming moment here .\"\n",
      " 'majidi is an unconventional storyteller , capable of finding beauty in the most depressing places .'\n",
      " 'the vivid lead performances sustain interest and empathy , but the journey is far more interesting than the final destination .'\n",
      " 'martin and barbara are complex characters -- sometimes tender , sometimes angry -- and the delicate performances by sven wollter and viveka seldahl make their hopes and frustrations vivid .'\n",
      " \"all that 's missing is the spontaneity , originality and delight .\"\n",
      " \"it confirms fincher 's status as a film maker who artfully bends technical know-how to the service of psychological insight .\"\n",
      " 'dense with characters and contains some thrilling moments .'\n",
      " 'good film , but very glum .'\n",
      " 'nine queens is not only than a frighteningly capable debut and genre piece , but also a snapshot of a dangerous political situation on the verge of coming to a head .'\n",
      " 'when the film ended , i felt tired and drained and wanted to lie on my own deathbed for a while .'\n",
      " \"the plot convolutions ultimately add up to nothing more than jerking the audience 's chain .\"\n",
      " 'a solid examination of the male midlife crisis .'\n",
      " \"-lrb- d -rrb- oes n't bother being as cloying or preachy as equivalent evangelical christian movies -- maybe the filmmakers know that the likely audience will already be among the faithful .\"\n",
      " \"-lrb- grant 's -rrb- bumbling magic takes over the film , and it turns out to be another winning star vehicle .\"\n",
      " 'a poignant and compelling story about relationships , food of love takes us on a bumpy but satisfying journey of the heart .'\n",
      " 'a better title , for all concerned , might be swept under the rug .'\n",
      " 'this nickleby thing might have more homosexual undertones than an eddie murphy film .'\n",
      " \"a marvel like none you 've seen .\"\n",
      " \"the affectionate loopiness that once seemed congenital to demme 's perspective has a tough time emerging from between the badly dated cutesy-pie mystery scenario and the newfangled hollywood post-production effects .\"\n",
      " \"leigh 's film is full of memorable performances from top to bottom .\"\n",
      " 'manages to be sweet and wickedly satisfying at the same time .'\n",
      " 'the film will play equally well on both the standard and giant screens .'\n",
      " \"determined to be fun , and bouncy , with energetic musicals , the humor did n't quite engage this adult .\"\n",
      " \"the last 20 ### minutes are somewhat redeeming , but most of the movie is the same teenage american road-trip drek we 've seen before - only this time you have to read the fart jokes\"\n",
      " \"whether you like rap music or loathe it , you ca n't deny either the tragic loss of two young men in the prime of their talent or the power of this movie .\"\n",
      " 'all-in-all , the film is an enjoyable and frankly told tale of a people who live among us , but not necessarily with us .'\n",
      " \"feature debuter d.j. caruso directs a crack ensemble cast , bringing screenwriter tony gayton 's narcotics noir to life .\"\n",
      " \"serving sara does n't serve up a whole lot of laughs .\"\n",
      " 'my reaction in a word : disappointment .'\n",
      " \"the film 's hackneyed message is not helped by the thin characterizations , nonexistent plot and pretentious visual style .\"\n",
      " 'very psychoanalytical -- provocatively so -- and also refreshingly literary .'\n",
      " 'the experience of going to a film festival is a rewarding one ; the experiencing of sampling one through this movie is not .'\n",
      " 'with rabbit-proof fence , noyce has tailored an epic tale into a lean , economical movie .'\n",
      " \"even horror fans will most likely not find what they 're seeking with trouble every day ; the movie lacks both thrills and humor .\"\n",
      " 'this piece of channel 5 grade trash is , quite frankly , an insult to the intelligence of the true genre enthusiast .'\n",
      " \"add yet another hat to a talented head , clooney 's a good director .\"\n",
      " 'as unseemly as its title suggests .'\n",
      " \"the movie is n't just hilarious : it 's witty and inventive , too , and in hindsight , it is n't even all that dumb .\"\n",
      " \"among the year 's most intriguing explorations of alientation .\"\n",
      " \"the sort of film that makes me miss hitchcock , but also feel optimistic that there 's hope for popular cinema yet .\"\n",
      " 'the primitive force of this film seems to bubble up from the vast collective memory of the combatants .'\n",
      " 'the terrific and bewilderingly underrated campbell scott gives a star performance that is nothing short of mesmerizing .'\n",
      " \"and if you 're not nearly moved to tears by a couple of scenes , you 've got ice water in your veins .\"\n",
      " \"a lean , deftly shot , well-acted , weirdly retro thriller that recalls a raft of '60s and '70s european-set spy pictures .\"\n",
      " 'the magic of the film lies not in the mysterious spring but in the richness of its performances .'\n",
      " '-lrb- lawrence bounces -rrb- all over the stage , dancing , running , sweating , mopping his face and generally displaying the wacky talent that brought him fame in the first place .'\n",
      " 'what distinguishes time of favor from countless other thrillers is its underlying concern with the consequences of words and with the complicated emotions fueling terrorist acts .'\n",
      " 'crackerjack entertainment -- nonstop romance , music , suspense and action .'\n",
      " 'with its dogged hollywood naturalism and the inexorable passage of its characters toward sainthood , windtalkers is nothing but a sticky-sweet soap .'\n",
      " 'in its best moments , resembles a bad high school production of grease , without benefit of song .'\n",
      " \"... designed to provide a mix of smiles and tears , `` crossroads '' instead provokes a handful of unintentional howlers and numerous yawns .\"\n",
      " \"worth watching for dong jie 's performance -- and for the way it documents a culture in the throes of rapid change .\"\n",
      " \"if you are an actor who can relate to the search for inner peace by dramatically depicting the lives of others onstage , then esther 's story is a compelling quest for truth .\"\n",
      " 'unlike the speedy wham-bam effect of most hollywood offerings , character development -- and more importantly , character empathy -- is at the heart of italian for beginners .'\n",
      " 'stultifyingly , dumbfoundingly , mind-numbingly bad .'\n",
      " \"`` mostly martha '' is a bright , light modern day family parable that wears its heart on its sleeve for all to see .\"\n",
      " 'no telegraphing is too obvious or simplistic for this movie .'\n",
      " \"writer-director 's mehta 's effort has tons of charm and the whimsy is in the mixture , the intoxicating masala , of cultures and film genres .\"\n",
      " '... takes the beauty of baseball and melds it with a story that could touch anyone regardless of their familiarity with the sport'\n",
      " \"one of the smartest takes on singles culture i 've seen in a long time .\"\n",
      " \"it 's not original , and , robbed of the element of surprise , it does n't have any huge laughs in its story of irresponsible cops who love to play pranks .\"\n",
      " 'this re-do is so dumb and so exploitative in its violence that , ironically , it becomes everything that the rather clumsy original was railing against .'\n",
      " \"to call the other side of heaven `` appalling '' would be to underestimate just how dangerous entertainments like it can be .\"\n",
      " 'it has charm to spare , and unlike many romantic comedies , it does not alienate either gender in the audience .'\n",
      " \"a great ensemble cast ca n't lift this heartfelt enterprise out of the familiar .\"\n",
      " \"lapaglia 's ability to convey grief and hope works with weaver 's sensitive reactions to make this a two-actor master class .\"\n",
      " 'my thoughts were focused on the characters .'\n",
      " \"it 's slow -- very , very slow .\"\n",
      " \"though it 's become almost redundant to say so , major kudos go to leigh for actually casting people who look working-class .\"\n",
      " 'should have been someone else -'\n",
      " \"it 's so good that its relentless , polished wit can withstand not only inept school productions , but even oliver parker 's movie adaptation .\"\n",
      " 'it feels like an after-school special gussied up with some fancy special effects , and watching its rote plot points connect is about as exciting as gazing at an egg timer for 93 minutes .'\n",
      " 'indifferently implausible popcorn programmer of a movie .'\n",
      " \"even the finest chef ca n't make a hotdog into anything more than a hotdog , and robert de niro ca n't make this movie anything more than a trashy cop buddy comedy .\"\n",
      " \"it 's fascinating to see how bettany and mcdowell play off each other .\"\n",
      " 'teen movies have really hit the skids .'\n",
      " \"stephen rea , aidan quinn , and alan bates play desmond 's legal eagles , and when joined by brosnan , the sight of this grandiloquent quartet lolling in pretty irish settings is a pleasant enough thing , ` tis .\"\n",
      " \"even on those rare occasions when the narrator stops yammering , miller 's hand often feels unsure .\"\n",
      " 'every time you look , sweet home alabama is taking another bummer of a wrong turn .'\n",
      " 'it gets onto the screen just about as much of the novella as one could reasonably expect , and is engrossing and moving in its own right .'\n",
      " 'a poignant , artfully crafted meditation on mortality .'\n",
      " 'one of the best films of the year with its exploration of the obstacles to happiness faced by five contemporary individuals ... a psychological masterpiece .'\n",
      " 'no sophomore slump for director sam mendes , who segues from oscar winner to oscar-winning potential with a smooth sleight of hand .'\n",
      " \"even if you do n't think -lrb- kissinger 's -rrb- any more guilty of criminal activity than most contemporary statesmen , he 'd sure make a courtroom trial great fun to watch .\"\n",
      " \"... a story we have n't seen on the big screen before , and it 's a story that we as americans , and human beings , should know .\"\n",
      " 'irwin is a man with enough charisma and audacity to carry a dozen films , but this particular result is ultimately held back from being something greater .'\n",
      " \"instead of a hyperbolic beat-charged urban western , it 's an unpretentious , sociologically pointed slice of life .\"\n",
      " \"the film 's few ideas are stretched to the point of evaporation ; the whole central section is one big chase that seems to have no goal and no urgency .\"\n",
      " 'though perry and hurley make inspiring efforts to breathe life into the disjointed , haphazard script by jay scherick and david ronn , neither the actors nor director reginald hudlin can make it more than fitfully entertaining .'\n",
      " \"woody allen 's latest is an ambling , broad comedy about all there is to love -- and hate -- about the movie biz .\"\n",
      " \"there 's too much falseness to the second half , and what began as an intriguing look at youth fizzles into a dull , ridiculous attempt at heart-tugging .\"\n",
      " 'as a first-time director , paxton has tapped something in himself as an actor that provides frailty with its dark soul .'\n",
      " 'a gripping movie , played with performances that are all understated and touching .'\n",
      " 'too slow , too long and too little happens .'\n",
      " 'plays like a volatile and overlong w magazine fashion spread .'\n",
      " 'attempts by this ensemble film to impart a message are so heavy-handed that they instead pummel the audience .'\n",
      " \"it 's a demented kitsch mess -lrb- although the smeary digital video does match the muddled narrative -rrb- , but it 's savvy about celebrity and has more guts and energy than much of what will open this year .\"\n",
      " 'bleakly funny , its characters all the more touching for refusing to pity or memorialize themselves .'\n",
      " \"it is amusing , and that 's all it needs to be .\"\n",
      " 'the characters are interesting and often very creatively constructed from figure to backstory .'\n",
      " \"a taut psychological thriller that does n't waste a moment of its two-hour running time .\"\n",
      " '... is an arthritic attempt at directing by callie khouri .'\n",
      " \"michael gerbosi 's script is economically packed with telling scenes .\"\n",
      " 'light years \\\\/ several warp speeds \\\\/ levels and levels of dilithium crystals better than the pitiful insurrection .'\n",
      " 'what was once original has been co-opted so frequently that it now seems pedestrian .'\n",
      " \"at a time when half the so-called real movies are little more than live-action cartoons , it 's refreshing to see a cartoon that knows what it is , and knows the form 's history .\"\n",
      " \"at the very least , if you do n't know anything about derrida when you walk into the theater , you wo n't know much more when you leave .\"\n",
      " 'partway through watching this saccharine , easter-egg-colored concoction , you realize that it is made up of three episodes of a rejected tv show .'\n",
      " \"bennett 's naturalistic performance speaks volumes more truth than any ` reality ' show , and anybody contemplating their own drastic life changes should watch some body first .\"\n",
      " 'jose campanella delivers a loosely autobiographical story brushed with sentimentality but brimming with gentle humor , bittersweet pathos , and lyric moments that linger like snapshots of memory .'\n",
      " \"... mafia , rap stars and hood rats butt their ugly heads in a regurgitation of cinematic violence that gives brutal birth to an unlikely , but likable , hero . '\"\n",
      " 'i got a headache watching this meaningless downer .'\n",
      " 'montias ... pumps a lot of energy into his nicely nuanced narrative and surrounds himself with a cast of quirky -- but not stereotyped -- street characters .'\n",
      " \"slapstick buffoonery can tickle many a preschooler 's fancy , but when it costs a family of four about $ 40 ### to see a film in theaters , why spend money on a dog like this when you can rent a pedigree instead ?\"\n",
      " 'his comedy premises are often hackneyed or just plain crude , calculated to provoke shocked laughter , without following up on a deeper level .'\n",
      " 'big fat waste of time .'\n",
      " \"it 's not that kung pow is n't funny some of the time -- it just is n't any funnier than bad martial arts movies are all by themselves , without all oedekerk 's impish augmentation .\"\n",
      " 'a delightful coming-of-age story .'\n",
      " 'binoche makes it interesting trying to find out .'\n",
      " 'the humor is forced and heavy-handed , and occasionally simply unpleasant .'\n",
      " '... a fun little timewaster , helped especially by the cool presence of jean reno .'\n",
      " \"prurient playthings aside , there 's little to love about this english trifle .\"\n",
      " \"the old-world - meets-new mesh is incarnated in the movie 's soundtrack , a joyful effusion of disco bollywood that , by the end of monsoon wedding , sent my spirit soaring out of the theater .\"\n",
      " 'as surreal as a dream and as detailed as a photograph , as visually dexterous as it is at times imaginatively overwhelming .'\n",
      " \"director uwe boll and the actors provide scant reason to care in this crude '70s throwback .\"\n",
      " 'the continued good chemistry between carmen and juni is what keeps this slightly disappointing sequel going , with enough amusing banter -- blessedly curse-free -- to keep both kids and parents entertained .'\n",
      " 'puts a human face on a land most westerners are unfamiliar with .'\n",
      " 'unflinchingly bleak and desperate'\n",
      " 'the heavy-handed film is almost laughable as a consequence .'\n",
      " \"it has the charm of the original american road movies , feasting on the gorgeous , ramshackle landscape of the filmmaker 's motherland .\"\n",
      " 'works hard to establish rounded characters , but then has nothing fresh or particularly interesting to say about them .'\n",
      " 'verbinski implements every hack-artist trick to give us the ooky-spookies .'\n",
      " 'uncommonly stylish but equally silly ... the picture fails to generate much suspense , nor does it ask searching enough questions to justify its pretensions .'\n",
      " 'as vulgar as it is banal .' \"i 'm just too bored to care .\"\n",
      " 'i had to look away - this was god awful .'\n",
      " 'a dumb movie with dumb characters doing dumb things and you have to be really dumb not to see where this is going .'\n",
      " \"what really makes it special is that it pulls us into its world , gives us a hero whose suffering and triumphs we can share , surrounds him with interesting characters and sends us out of the theater feeling we 've shared a great adventure .\"\n",
      " \"of course , by more objective measurements it 's still quite bad .\"\n",
      " 'for this reason and this reason only -- the power of its own steadfast , hoity-toity convictions -- chelsea walls deserves a medal .'\n",
      " 'scores no points for originality , wit , or intelligence .'\n",
      " \"though moonlight mile is replete with acclaimed actors and actresses and tackles a subject that 's potentially moving , the movie is too predictable and too self-conscious to reach a level of high drama .\"\n",
      " \"it 's a charming and often affecting journey .\"\n",
      " 'nervous breakdowns are not entertaining .'\n",
      " \"this is a story of two misfits who do n't stand a chance alone , but together they are magnificent .\"\n",
      " 'atom egoyan has conjured up a multilayered work that tackles any number of fascinating issues'\n",
      " 'as the latest bid in the tv-to-movie franchise game , i spy makes its big-screen entry with little of the nervy originality of its groundbreaking small-screen progenitor .'\n",
      " \"it 's one of those baseball pictures where the hero is stoic , the wife is patient , the kids are as cute as all get-out and the odds against success are long enough to intimidate , but short enough to make a dream seem possible .\"\n",
      " 'no way i can believe this load of junk .'\n",
      " \"we know the plot 's a little crazy , but it held my interest from start to finish .\"\n",
      " 'will amuse and provoke adventurous adults in specialty venues .'\n",
      " \"another one of those estrogen overdose movies like `` divine secrets of the ya ya sisterhood , '' except that the writing , acting and character development are a lot better .\"\n",
      " 'byler reveals his characters in a way that intrigues and even fascinates us , and he never reduces the situation to simple melodrama .'\n",
      " \"the humor is n't as sharp , the effects not as innovative , nor the story as imaginative as in the original .\"\n",
      " 'instead of hiding pinocchio from critics , miramax should have hidden it from everyone .'\n",
      " 'a moody , multi-dimensional love story and sci-fi mystery , solaris is a thought-provoking , haunting film that allows the seeds of the imagination to germinate .'\n",
      " 'offers very little genuine romance and even fewer laughs ... a sad sitcom of a movie , largely devoid of charm .'\n",
      " \"it haunts you , you ca n't forget it , you admire its conception and are able to resolve some of the confusions you had while watching it .\"\n",
      " 'sometimes seems less like storytelling than something the otherwise compelling director needed to get off his chest .'\n",
      " \"as a rumor of angels reveals itself to be a sudsy tub of supernatural hokum , not even ms. redgrave 's noblest efforts can redeem it from hopeless sentimentality .\"\n",
      " 'almost gags on its own gore .'\n",
      " 'the film is quiet , threatening and unforgettable .'\n",
      " '... the movie is just a plain old monster .'\n",
      " 'sustains its dreamlike glide through a succession of cheesy coincidences and voluptuous cheap effects , not the least of which is rebecca romijn-stamos .'\n",
      " 'displaying about equal amounts of naiveté , passion and talent , beneath clouds establishes sen as a filmmaker of considerable potential .'\n",
      " 'it provides the grand , intelligent entertainment of a superior cast playing smart people amid a compelling plot .'\n",
      " 'a strangely compelling and brilliantly acted psychological drama .'\n",
      " \"i 'll bet the video game is a lot more fun than the film .\"\n",
      " 'every nanosecond of the the new guy reminds you that you could be doing something else far more pleasurable .'\n",
      " \"the movie 's accumulated force still feels like an ugly knot tightening in your stomach .\"\n",
      " \"a broad , melodramatic estrogen opera that 's pretty toxic in its own right .\"\n",
      " 'minority report is exactly what the title indicates , a report .'\n",
      " 'the movie , directed by mick jackson , leaves no cliche unturned , from the predictable plot to the characters straight out of central casting .'\n",
      " 'like mike is a winner for kids , and no doubt a winner for lil bow wow , who can now add movies to the list of things he does well .'\n",
      " 'confirms the nagging suspicion that ethan hawke would be even worse behind the camera than he is in front of it .'\n",
      " '-lrb- e -rrb- ventually , every idea in this film is flushed down the latrine of heroism .'\n",
      " 'this riveting world war ii moral suspense story deals with the shadow side of american culture : racial prejudice in its ugly and diverse forms .'\n",
      " 'first-time writer-director serry shows a remarkable gift for storytelling with this moving , effective little film .'\n",
      " \"while it 's genuinely cool to hear characters talk about early rap records -lrb- sugar hill gang , etc. -rrb- , the constant referencing of hip-hop arcana can alienate even the savviest audiences .\"\n",
      " 'the far future may be awesome to consider , but from period detail to matters of the heart , this film is most transporting when it stays put in the past .'\n",
      " \"combining quick-cut editing and a blaring heavy metal much of the time , beck seems to be under the illusion that he 's shooting the latest system of a down video .\"\n",
      " \"there 's no emotional pulse to solaris .\"\n",
      " \"the best that can be said about the work here of scottish director ritchie ... is that he obviously does n't have his heart in it .\"\n",
      " 'does paint some memorable images ... , but makhmalbaf keeps her distance from the characters'\n",
      " 'rare birds has more than enough charm to make it memorable .'\n",
      " 'generally , clockstoppers will fulfill your wildest fantasies about being a different kind of time traveler , while happily killing 94 minutes .'\n",
      " 'dull , lifeless , and amateurishly assembled .'\n",
      " 'the quality of the art combined with the humor and intelligence of the script allow the filmmakers to present the biblical message of forgiveness without it ever becoming preachy or syrupy .'\n",
      " 'very bad .'\n",
      " 'having had the good sense to cast actors who are , generally speaking , adored by the movie-going public , khouri then gets terrific performances from them all .'\n",
      " \"a woman 's pic directed with resonance by ilya chaiken .\"\n",
      " 'mr. tsai is a very original artist in his medium , and what time is it there ?'\n",
      " 'for each chuckle there are at least 10 ### complete misses , many coming from the amazingly lifelike tara reid , whose acting skills are comparable to a cardboard cutout .'\n",
      " 'a by-the-numbers patient\\\\/doctor pic that covers all the usual ground'\n",
      " \"a lackluster , unessential sequel to the classic disney adaptation of j.m. barrie 's peter pan .\"\n",
      " 'why make a documentary about these marginal historical figures ?'\n",
      " 'burns never really harnesses to full effect the energetic cast .'\n",
      " 'oh come on .'\n",
      " 'even with a green mohawk and a sheet of fire-red flame tattoos covering his shoulder , however , kilmer seems to be posing , rather than acting .'\n",
      " 'its well of thorn and vinegar -lrb- and simple humanity -rrb- has long been plundered by similar works featuring the insight and punch this picture so conspicuously lacks .'\n",
      " 'the notion that bombing buildings is the funniest thing in the world goes entirely unexamined in this startlingly unfunny comedy .'\n",
      " 'at its worst , it implodes in a series of very bad special effects .'\n",
      " 'and the lesson , in the end , is nothing new .'\n",
      " '... plays like somebody spliced random moments of a chris rock routine into what is otherwise a cliche-riddled but self-serious spy thriller .'\n",
      " 'a misogynistic piece of filth that attempts to pass itself off as hip , young adult entertainment .'\n",
      " 'slick piece of cross-promotion .'\n",
      " 'sade is an engaging look at the controversial eponymous and fiercely atheistic hero .'\n",
      " 'deliriously funny , fast and loose , accessible to the uninitiated , and full of surprises'\n",
      " 'a literate presentation that wonderfully weaves a murderous event in 1873 with murderous rage in 2002 .'\n",
      " \"for the first time in years , de niro digs deep emotionally , perhaps because he 's been stirred by the powerful work of his co-stars .\"\n",
      " 'birthday girl is an amusing joy ride , with some surprisingly violent moments .'\n",
      " 'a tender , witty , captivating film about friendship , love , memory , trust and loyalty .'\n",
      " \"while its careful pace and seemingly opaque story may not satisfy every moviegoer 's appetite , the film 's final scene is soaringly , transparently moving .\"\n",
      " '... turns so unforgivably trite in its last 10 ### minutes that anyone without a fortified sweet tooth will likely go into sugar shock .'\n",
      " 'excessive , profane , packed with cartoonish violence and comic-strip characters .'\n",
      " \"if you 're hard up for raunchy college humor , this is your ticket right here .\"\n",
      " \"davis ... is so enamored of her own creation that she ca n't see how insufferable the character is .\"\n",
      " \"it 's great escapist fun that recreates a place and time that will never happen again .\"\n",
      " \"dazzles with its fully-written characters , its determined stylishness -lrb- which always relates to characters and story -rrb- and johnny dankworth 's best soundtrack in years .\"\n",
      " 'highbrow self-appointed guardians of culture need not apply , but those who loved cool as ice have at last found a worthy follow-up .'\n",
      " \"once -lrb- kim -rrb- begins to overplay the shock tactics and bait-and-tackle metaphors , you may decide it 's too high a price to pay for a shimmering picture postcard .\"\n",
      " '-lrb- t -rrb- his beguiling belgian fable , very much its own droll and delicate little film , has some touching things to say about what is important in life and why .'\n",
      " \"too often , the viewer is n't reacting to humor so much as they are wincing back in repugnance .\"\n",
      " \"it 's refreshing to see a girl-power movie that does n't feel it has to prove anything .\"\n",
      " \"bogdanovich tantalizes by offering a peep show into the lives of the era 's creme de la celluloid .\"\n",
      " \"it 's a cookie-cutter movie , a cut-and-paste job .\"\n",
      " \"it 's a grab bag of genres that do n't add up to a whole lot of sense .\"\n",
      " 'fun , flip and terribly hip bit of cinematic entertainment .'\n",
      " 'just one bad idea after another .'\n",
      " \"it 's a lovely film with lovely performances by buy and accorsi .\"\n",
      " \"the script kicks in , and mr. hartley 's distended pace and foot-dragging rhythms follow .\"\n",
      " 'does little more than play an innocuous game of fill-in - the-blanks with a tragic past .'\n",
      " 'a hamfisted romantic comedy that makes our girl the hapless facilitator of an extended cheap shot across the mason-dixon line .'\n",
      " \"like watching a dress rehearsal the week before the show goes up : everything 's in place but something 's just a little off-kilter .\"\n",
      " \"it 's a buggy drag .\"\n",
      " \"yakusho and shimizu ... create engaging characterizations in imamura 's lively and enjoyable cultural mix .\"\n",
      " \"it 's a bad thing when a movie has about as much substance as its end credits blooper reel .\"\n",
      " 'there is nothing outstanding about this film , but it is good enough and will likely be appreciated most by sailors and folks who know their way around a submarine .'\n",
      " 'a synthesis of cliches and absurdities that seems positively decadent in its cinematic flash and emptiness .'\n",
      " \"very special effects , brilliantly bold colors and heightened reality ca n't hide the giant achilles ' heel in `` stuart little 2 `` : there 's just no story , folks .\"\n",
      " 'manages to show life in all of its banality when the intention is quite the opposite .'\n",
      " \"it 's about following your dreams , no matter what your parents think .\"\n",
      " \"the very definition of the ` small ' movie , but it is a good stepping stone for director sprecher .\"\n",
      " 'one from the heart .'\n",
      " \"and when you 're talking about a slapstick comedy , that 's a pretty big problem .\"\n",
      " 'this is so bad .'\n",
      " 'so devoid of any kind of intelligible story that it makes films like xxx and collateral damage seem like thoughtful treatises'\n",
      " 'ahhhh ... revenge is sweet !'\n",
      " 'against all odds in heaven and hell , it creeped me out just fine .'\n",
      " 'the entire movie is about a boring , sad man being boring and sad .'\n",
      " \"it 's one heck of a character study -- not of hearst or davies but of the unique relationship between them .\"\n",
      " 'the structure the film takes may find matt damon and ben affleck once again looking for residuals as this officially completes a good will hunting trilogy that was never planned .'\n",
      " \"whether writer-director anne fontaine 's film is a ghost story , an account of a nervous breakdown , a trip down memory lane , all three or none of the above , it is as seductive as it is haunting .\"\n",
      " 'the man from elysian fields is a cold , bliss-less work that groans along thinking itself some important comment on how life throws us some beguiling curves .'\n",
      " \"the draw -lrb- for `` big bad love '' -rrb- is a solid performance by arliss howard .\"\n",
      " 'one of the more irritating cartoons you will see this , or any , year .'\n",
      " 'basically a static series of semi-improvised -lrb- and semi-coherent -rrb- raps between the stars .'\n",
      " \"for all its technical virtuosity , the film is so mired in juvenile and near-xenophobic pedagogy that it 's enough to make one pine for the day when godard can no longer handle the rigors of filmmaking .\"\n",
      " 'a very long movie , dull in stretches , with entirely too much focus on meal preparation and igloo construction .'\n",
      " 'there is very little dread or apprehension , and though i like the creepy ideas , they are not executed with anything more than perfunctory skill .'\n",
      " \"it 's fun lite .\"\n",
      " 'a big , gorgeous , sprawling swashbuckler that delivers its diversions in grand , uncomplicated fashion .'\n",
      " \"the overall effect is less like a children 's movie than a recruitment film for future hollywood sellouts .\"\n",
      " 'trite , banal , cliched , mostly inoffensive .'\n",
      " 'so much facile technique , such cute ideas , so little movie .'\n",
      " \"chilling , well-acted , and finely directed : david jacobson 's dahmer .\"\n",
      " 'visually rather stunning , but ultimately a handsome-looking bore , the true creativity would have been to hide treasure planet entirely and completely reimagine it .'\n",
      " 'a movie that successfully crushes a best selling novel into a timeframe that mandates that you avoid the godzilla sized soda .'\n",
      " 'once the 50 ### year old benigni appears as the title character , we find ourselves longing for the block of wood to come back .'\n",
      " 'but taken as a stylish and energetic one-shot , the queen of the damned can not be said to suck .'\n",
      " 'at least one scene is so disgusting that viewers may be hard pressed to retain their lunch .'\n",
      " 'the movie has an infectious exuberance that will engage anyone with a passing interest in the skate\\\\/surf culture , the l.a. beach scene and the imaginative -lrb- and sometimes illegal -rrb- ways kids can make a playground out of the refuse of adults .'\n",
      " 'corpus collosum -- while undeniably interesting -- wore out its welcome well before the end credits rolled about 45 minutes in .'\n",
      " 'this illuminating documentary transcends our preconceived vision of the holy land and its inhabitants , revealing the human complexities beneath .'\n",
      " 'trademark american triteness and simplicity are tossed out the window with the intelligent french drama that deftly explores the difficult relationship between a father and son .'\n",
      " \"villeneuve spends too much time wallowing in bibi 's generic angst -lrb- there are a lot of shots of her gazing out windows -rrb- .\"\n",
      " 'what is 100 ### % missing here is a script of even the most elemental literacy , an inkling of genuine wit , and anything resembling acting .'\n",
      " 'as the two leads , lathan and diggs are charming and have chemistry both as friends and lovers .'\n",
      " \"like leon , it 's frustrating and still oddly likable .\"\n",
      " \"if you can stomach the rough content , it 's worth checking out for the performances alone .\"\n",
      " \"there 's really only one good idea in this movie , but the director runs with it and presents it with an unforgettable visual panache .\"\n",
      " 'and that leaves a hole in the center of the salton sea .'\n",
      " \"there 's ... tremendous energy from the cast , a sense of playfulness and excitement that seems appropriate .\"\n",
      " 'director andrew niccol ... demonstrates a wry understanding of the quirks of fame .'\n",
      " \"try as i may , i ca n't think of a single good reason to see this movie , even though everyone in my group extemporaneously shouted , ` thank you ! '\"\n",
      " 'shaky close-ups of turkey-on-rolls , stubbly chins , liver spots , red noses and the filmmakers new bobbed do draw easy chuckles but lead nowhere .'\n",
      " \"utterly lacking in charm , wit and invention , roberto benigni 's pinocchio is an astonishingly bad film .\"\n",
      " \"further proof that the epicenter of cool , beautiful , thought-provoking foreign cinema is smack-dab in the middle of dubya 's axis of evil .\"\n",
      " 'but what are adults doing in the theater at all ?'\n",
      " 'miller is playing so free with emotions , and the fact that children are hostages to fortune , that he makes the audience hostage to his swaggering affectation of seriousness .'\n",
      " \"the piece plays as well as it does thanks in large measure to anspaugh 's three lead actresses .\"\n",
      " \"what better message than ` love thyself ' could young women of any size receive ?\"\n",
      " 'if you enjoy more thoughtful comedies with interesting conflicted characters ; this one is for you .'\n",
      " \"it 's like every bad idea that 's ever gone into an after-school special compiled in one place , minus those daytime programs ' slickness and sophistication -lrb- and who knew they even had any ? -rrb- .\"\n",
      " \"the movie is beautiful to behold and engages one in a sense of epic struggle -- inner and outer -- that 's all too rare in hollywood 's hastier productions .\"\n",
      " \"there 's not enough here to justify the almost two hours .\"\n",
      " \"although huppert 's intensity and focus has a raw exhilaration about it , the piano teacher is anything but fun .\"\n",
      " 'nothing is sacred in this gut-buster .'\n",
      " 'a tender , heartfelt family drama .'\n",
      " '... nothing scary here except for some awful acting and lame special effects .'\n",
      " 'it made me want to wrench my eyes out of my head and toss them at the screen .'\n",
      " \"but the power of these -lrb- subjects -rrb- is obscured by the majority of the film that shows a stationary camera on a subject that could be mistaken for giving a public oration , rather than contributing to a film 's narrative .\"\n",
      " \"suffocated by its fussy script and uptight characters , this musty adaptation is all the more annoying since it 's been packaged and sold back to us by hollywood .\"\n",
      " 'reign of fire looks as if it was made without much thought -- and is best watched that way .'\n",
      " \"the acting , costumes , music , cinematography and sound are all astounding given the production 's austere locales .\"\n",
      " \"this is n't even madonna 's swept away .\"\n",
      " \"a coda in every sense , the pinochet case splits time between a minute-by-minute account of the british court 's extradition chess game and the regime 's talking-head survivors .\"\n",
      " \"brilliantly explores the conflict between following one 's heart and following the demands of tradition .\"\n",
      " \"like you could n't smell this turkey rotting from miles away .\"\n",
      " 'involves two mysteries -- one it gives away and the other featuring such badly drawn characters that its outcome hardly matters .'\n",
      " \"i 'd have to say the star and director are the big problems here .\"\n",
      " \"-lrb- director -rrb- o'fallon manages to put some lovely pictures up on the big screen , but his skill at telling a story -- he also contributed to the screenplay -- falls short .\"\n",
      " 'the problem with this film is that it lacks focus .'\n",
      " 'on the whole , the movie lacks wit , feeling and believability to compensate for its incessant coarseness and banality .'\n",
      " '... a magnificent drama well worth tracking down .'\n",
      " 'perceptive in its vision of nascent industrialized world politics as a new art form , but far too clunky , didactic and saddled with scenes that seem simply an ill fit for this movie .'\n",
      " \"for all the writhing and wailing , tears , rage and opium overdoses , there 's no sense of actual passion being washed away in love 's dissolution .\"\n",
      " \"it 's an offbeat treat that pokes fun at the democratic exercise while also examining its significance for those who take part .\"\n",
      " 'old-form moviemaking at its best .' 'a sometimes tedious film .'\n",
      " 'a gorgeous , witty , seductive movie .'\n",
      " 'moody , heartbreaking , and filmed in a natural , unforced style that makes its characters seem entirely convincing even when its script is not .'\n",
      " 'a nightmare date with a half-formed wit done a great disservice by a lack of critical distance and a sad trust in liberal arts college bumper sticker platitudes .'\n",
      " \"late marriage 's stiffness is unlikely to demonstrate the emotional clout to sweep u.s. viewers off their feet .\"\n",
      " \"a movie that reminds us of just how exciting and satisfying the fantasy cinema can be when it 's approached with imagination and flair .\"\n",
      " 'but it still jingles in the pocket .'\n",
      " \"it 's the chemistry between the women and the droll scene-stealing wit and wolfish pessimism of anna chancellor that makes this `` two weddings and a funeral '' fun .\"\n",
      " \"it all drags on so interminably it 's like watching a miserable relationship unfold in real time .\"\n",
      " 'it wants to tweak them with a taste of tangy new humor .'\n",
      " 'an unclassifiably awful study in self - and audience-abuse .'\n",
      " 'comes ... uncomfortably close to coasting in the treads of the bicycle thief .'\n",
      " \"you do n't have to know about music to appreciate the film 's easygoing blend of comedy and romance .\"\n",
      " 'the film makes a fatal mistake : it asks us to care about a young man whose only apparent virtue is that he is not quite as unpleasant as some of the people in his life .'\n",
      " \"it will grip even viewers who are n't interested in rap , as it cuts to the heart of american society in an unnerving way .\"\n",
      " 'challenging , intermittently engrossing and unflaggingly creative .'\n",
      " 'expect the same-old , lame-old slasher nonsense , just with different scenery .'\n",
      " 'tries to add some spice to its quirky sentiments but the taste is all too familiar .'\n",
      " 'while the resident evil games may have set new standards for thrills , suspense , and gore for video games , the movie really only succeeds in the third of these .'\n",
      " 'beautifully observed , miraculously unsentimental comedy-drama .'\n",
      " 'a solid film ... but more conscientious than it is truly stirring .'\n",
      " 'stealing harvard aspires to comedic grand larceny but stands convicted of nothing more than petty theft of your time .'\n",
      " 'good old-fashioned slash-and-hack is back !'\n",
      " 'a movie with a real anarchic flair .'\n",
      " \"it 's one pussy-ass world when even killer-thrillers revolve around group therapy sessions .\"\n",
      " 'characters still need to function according to some set of believable and comprehensible impulses , no matter how many drugs they do or how much artistic license avary employs .'\n",
      " \"a densely constructed , highly referential film , and an audacious return to form that can comfortably sit among jean-luc godard 's finest work .\"\n",
      " 'far more imaginative and ambitious than the trivial , cash-in features nickelodeon has made from its other animated tv series .'\n",
      " 'pumpkin means to be an outrageous dark satire on fraternity life , but its ambitions far exceed the abilities of writer adam larson broder and his co-director , tony r. abrams , in their feature debut .'\n",
      " \"it 's too bad that the helping hand he uses to stir his ingredients is also a heavy one .\"\n",
      " 'zhang ... has done an amazing job of getting realistic performances from his mainly nonprofessional cast .'\n",
      " 'without ever becoming didactic , director carlos carrera expertly weaves this novelistic story of entangled interrelationships and complex morality .'\n",
      " \"it 's hampered by a lifetime-channel kind of plot and a lead actress who is out of her depth .\"\n",
      " 'gives you the steady pulse of life in a beautiful city viewed through the eyes of a character who , in spite of tragic loss and increasing decrepitude , knows in his bones that he is one of the luckiest men alive .'\n",
      " \"-lrb- chaiken 's -rrb- talent lies in an evocative , accurate observation of a distinctive milieu and in the lively , convincing dialogue she creates for her characters .\"\n",
      " \"a psychological thriller with a genuinely spooky premise and an above-average cast , actor bill paxton 's directing debut is a creepy slice of gothic rural americana .\"\n",
      " \"it 's worth seeing just on the basis of the wisdom , and at times , the startling optimism , of the children .\"\n",
      " 'dragonfly has no atmosphere , no tension -- nothing but costner , flailing away .'\n",
      " 'the film flat lines when it should peak and is more missed opportunity and trifle than dark , decadent truffle .'\n",
      " 'less dizzying than just dizzy , the jaunt is practically over before it begins .'\n",
      " 'a science-fiction pastiche so lacking in originality that if you stripped away its inspirations there would be precious little left .'\n",
      " \"-lrb- w -rrb- hile long on amiable monkeys and worthy environmentalism , jane goodall 's wild chimpanzees is short on the thrills the oversize medium demands .\"\n",
      " \"intriguing documentary which is emotionally diluted by focusing on the story 's least interesting subject .\"\n",
      " \"the son 's room is a triumph of gentility that earns its moments of pathos .\"\n",
      " 'a disappointment for those who love alternate versions of the bard , particularly ones that involve deep fryers and hamburgers .'\n",
      " \"it 's clear the filmmakers were n't sure where they wanted their story to go , and even more clear that they lack the skills to get us to this undetermined destination .\"\n",
      " '... a hollow joke told by a cinematic gymnast having too much fun embellishing the misanthropic tale to actually engage it .'\n",
      " 'this time mr. burns is trying something in the martin scorsese street-realist mode , but his self-regarding sentimentality trips him up again .'\n",
      " 'manages to be both repulsively sadistic and mundane .'\n",
      " 'a simple , but gritty and well-acted ensemble drama that encompasses a potent metaphor for a country still dealing with its fascist past .'\n",
      " \"the film is beautifully mounted , but , more to the point , the issues are subtly presented , managing to walk a fine line with regard to the question of joan 's madness .\"\n",
      " \"a sequel that 's much too big for its britches .\"\n",
      " 'this is an egotistical endeavor from the daughter of horror director dario argento -lrb- a producer here -rrb- , but her raw performance and utter fearlessness make it strangely magnetic .'\n",
      " \"nicks , seemingly uncertain what 's going to make people laugh , runs the gamut from stale parody to raunchy sex gags to formula romantic comedy .\"\n",
      " 'it deserves to be seen by anyone with even a passing interest in the events shaping the world beyond their own horizons .'\n",
      " 'it treats women like idiots .'\n",
      " 'there are some wonderfully fresh moments that smooth the moral stiffness with human kindness and hopefulness .'\n",
      " 'the result is a gaudy bag of stale candy , something from a halloween that died .'\n",
      " \"an interesting story with a pertinent -lrb- cinematically unique -rrb- message , told fairly well and scored to perfection , i found myself struggling to put my finger on that elusive `` missing thing . ''\"\n",
      " 'not far beneath the surface , this reconfigured tale asks disturbing questions about those things we expect from military epics .'\n",
      " 'an absurdist comedy about alienation , separation and loss .'\n",
      " \"the talented and clever robert rodriguez perhaps put a little too much heart into his first film and did n't reserve enough for his second .\"\n",
      " 'hilariously inept and ridiculous .'\n",
      " \"vera 's three actors -- mollà , gil and bardem -- excel in insightful , empathetic performances .\"\n",
      " 'for close to two hours the audience is forced to endure three terminally depressed , mostly inarticulate , hyper dysfunctional families for the price of one .'\n",
      " 'good car chases , great fight scenes , and a distinctive blend of european , american and asian influences .'\n",
      " 'the performances take the movie to a higher level .'\n",
      " 'some of their jokes work , but most fail miserably and in the end , pumpkin is far more offensive than it is funny .'\n",
      " 'chokes on its own depiction of upper-crust decorum .'\n",
      " \"if looking for a thrilling sci-fi cinematic ride , do n't settle for this imposter .\"\n",
      " 'deadeningly dull , mired in convoluted melodrama , nonsensical jargon and stiff-upper-lip laboriousness .'\n",
      " 'collateral damage finally delivers the goods for schwarzenegger fans .'\n",
      " 'still , as a visual treat , the film is almost unsurpassed .'\n",
      " 'his last movie was poetically romantic and full of indelible images , but his latest has nothing going for it .'\n",
      " 'portentous and pretentious , the weight of water is appropriately titled , given the heavy-handedness of it drama .'\n",
      " 'the minor figures surrounding -lrb- bobby -rrb- ... form a gritty urban mosaic .'\n",
      " 'no one but a convict guilty of some truly heinous crime should have to sit through the master of disguise .'\n",
      " 'complete lack of originality , cleverness or even visible effort'\n",
      " \"it 's inoffensive , cheerful , built to inspire the young people , set to an unending soundtrack of beach party pop numbers and aside from its remarkable camerawork and awesome scenery , it 's about as exciting as a sunburn .\"\n",
      " 'the movie does a good job of laying out some of the major issues that we encounter as we journey through life .'\n",
      " \"there 's enough melodrama in this magnolia primavera to make pta proud yet director muccino 's characters are less worthy of puccini than they are of daytime television .\"\n",
      " \"zaidan 's script has barely enough plot to string the stunts together and not quite enough characterization to keep the faces straight .\"\n",
      " \"not only are the special effects and narrative flow much improved , and daniel radcliffe more emotionally assertive this time around as harry , but the film conjures the magic of author j.k. rowling 's books .\"\n",
      " 'the best revenge may just be living well because this film , unlike other dumas adaptations , is far more likened to a treasure than a lengthy jail sentence .'\n",
      " 'too much of the humor falls flat .'\n",
      " 'falls neatly into the category of good stupid fun .'\n",
      " 'jaglom ... put -lrb- s -rrb- the audience in the privileged position of eavesdropping on his characters'\n",
      " 'every dance becomes about seduction , where backstabbing and betrayals are celebrated , and sex is currency .'\n",
      " \"velocity represents everything wrong with '' independent film '' as a commodified , sold-out concept on the american filmmaking scene .\"\n",
      " 'hardly a masterpiece , but it introduces viewers to a good charitable enterprise and some interesting real people .'\n",
      " 'one of creepiest , scariest movies to come along in a long , long time , easily rivaling blair witch or the others .'\n",
      " 'it has its moments of swaggering camaraderie , but more often just feels generic , derivative and done to death .'\n",
      " \"the so-inept - it 's - surreal dubbing -lrb- featuring the voices of glenn close , regis philbin and breckin meyer -rrb- brings back memories of cheesy old godzilla flicks .\"\n",
      " \"it 's everything you do n't go to the movies for .\"\n",
      " 'mattei is tiresomely grave and long-winded , as if circularity itself indicated profundity .'\n",
      " 'pacino is brilliant as the sleep-deprived dormer , his increasing weariness as much existential as it is physical .'\n",
      " 'a compelling spanish film about the withering effects of jealousy in the life of a young monarch whose sexual passion for her husband becomes an obsession .'\n",
      " \"there 's something auspicious , and daring , too , about the artistic instinct that pushes a majority-oriented director like steven spielberg to follow a.i. with this challenging report so liable to unnerve the majority .\"\n",
      " 'bad .'\n",
      " 'an intriguing cinematic omnibus and round-robin that occasionally is more interesting in concept than in execution .'\n",
      " \"the subtle strength of `` elling '' is that it never loses touch with the reality of the grim situation .\"\n",
      " 'not exactly the bees knees'\n",
      " \"audrey tatou has a knack for picking roles that magnify her outrageous charm , and in this literate french comedy , she 's as morning-glory exuberant as she was in amélie .\"\n",
      " 'just not campy enough'\n",
      " 'a must-see for the david mamet enthusiast and for anyone who appreciates intelligent , stylish moviemaking .'\n",
      " 'a spellbinding african film about the modern condition of rootlessness , a state experienced by millions around the globe .'\n",
      " \"a cartoon that 's truly cinematic in scope , and a story that 's compelling and heartfelt -- even if the heart belongs to a big , four-legged herbivore .\"\n",
      " 'you will emerge with a clearer view of how the gears of justice grind on and the death report comes to share airtime alongside the farm report .'\n",
      " \"an operatic , sprawling picture that 's entertainingly acted , magnificently shot and gripping enough to sustain most of its 170-minute length .\"\n",
      " \"i 've always dreamed of attending cannes , but after seeing this film , it 's not that big a deal .\"\n",
      " \"morton uses her face and her body language to bring us morvern 's soul , even though the character is almost completely deadpan .\"\n",
      " 'rarely has leukemia looked so shimmering and benign .'\n",
      " \"we have n't seen such hilarity since say it is n't so !\"\n",
      " 'true tale of courage -- and complicity -- at auschwitz is a harrowing drama that tries to tell of the unspeakable .'\n",
      " 'how do you spell cliché ?'\n",
      " \"the script is n't very good ; not even someone as gifted as hoffman -lrb- the actor -rrb- can make it work .\"\n",
      " 'a giggle a minute .'\n",
      " 'made with no discernible craft and monstrously sanctimonious in dealing with childhood loss .'\n",
      " 'the only excitement comes when the credits finally roll and you get to leave the theater .'\n",
      " \"maud and roland 's search for an unknowable past makes for a haunting literary detective story , but labute pulls off a neater trick in possession : he makes language sexy .\"\n",
      " 'but this films lacks the passion required to sell the material .'\n",
      " \"vera 's technical prowess ends up selling his film short ; he smoothes over hard truths even as he uncovers them .\"\n",
      " 'the film is based on truth and yet there is something about it that feels incomplete , as if the real story starts just around the corner .'\n",
      " 'corny , schmaltzy and predictable , but still manages to be kind of heartwarming , nonetheless .'\n",
      " 'huston nails both the glad-handing and the choking sense of hollow despair .'\n",
      " 'in an effort , i suspect , not to offend by appearing either too serious or too lighthearted , it offends by just being wishy-washy .'\n",
      " \"nelson 's brutally unsentimental approach ... sucks the humanity from the film , leaving behind an horrific but weirdly unemotional spectacle .\"\n",
      " \"a sequence of ridiculous shoot - 'em - up scenes .\"\n",
      " \"it seems like i have been waiting my whole life for this movie and now i ca n't wait for the sequel .\"\n",
      " 'liotta put on 30 ### pounds for the role , and has completely transformed himself from his smooth , goodfellas image .'\n",
      " \"passable entertainment , but it 's the kind of motion picture that wo n't make much of a splash when it 's released , and will not be remembered long afterwards .\"\n",
      " \"it 's made with deftly unsettling genre flair .\"\n",
      " \"it 's dumb , but more importantly , it 's just not scary .\"\n",
      " 'a study in shades of gray , offering itself up in subtle plot maneuvers ...'\n",
      " 'the tale of tok -lrb- andy lau -rrb- , a sleek sociopath on the trail of o -lrb- takashi sorimachi -rrb- , the most legendary of asian hitmen , is too scattershot to take hold .'\n",
      " 'something like scrubbing the toilet .'\n",
      " 'smart , provocative and blisteringly funny .'\n",
      " 'this one is definitely one to skip , even for horror movie fanatics .'\n",
      " \"charles ' entertaining film chronicles seinfeld 's return to stand-up comedy after the wrap of his legendary sitcom , alongside wannabe comic adams ' attempts to get his shot at the big time .\"\n",
      " 'an effectively creepy , fear-inducing -lrb- not fear-reducing -rrb- film from japanese director hideo nakata , who takes the superstitious curse on chain letters and actually applies it .']\n",
      "[0 0 0 0 1 1 0 1 0 1 1 1 0 0 1 0 1 1 1 1 1 0 0 0 1 1 0 1 1 0 1 0 0 1 0 0 0\n",
      " 0 1 0 0 0 0 0 1 0 0 0 0 0 0 0 0 0 0 0 0 0 0 1 1 1 1 0 0 0 0 1 1 0 0 0 0 1\n",
      " 0 1 0 0 0 1 1 0 1 0 1 0 0 1 1 0 1 0 0 1 1 1 1 1 1 1 1 1 1 1 0 0 1 0 1 1 1\n",
      " 0 1 0 0 0 1 1 0 0 0 0 1 0 0 0 0 1 0 0 1 1 0 1 1 0 0 1 0 1 0 0 0 0 0 0 0 0\n",
      " 0 1 1 1 1 0 1 1 1 0 1 1 1 0 0 1 0 0 0 0 1 0 1 1 1 1 1 0 0 1 1 1 0 0 1 1 1\n",
      " 1 1 1 1 1 1 1 1 0 1 1 1 0 0 0 1 0 1 1 0 1 0 1 1 1 0 1 1 0 0 1 1 0 1 0 1 0\n",
      " 0 0 0 1 0 0 1 1 0 0 1 0 0 1 1 1 1 0 0 0 1 1 0 1 0 0 1 1 0 1 1 0 1 1 1 0 0\n",
      " 0 1 1 1 0 1 1 0 1 1 0 1 1 0 1 0 0 0 1 1 1 1 1 1 0 0 1 0 0 1 1 1 0 0 1 1 1\n",
      " 0 1 0 0 1 0 0 0 0 1 1 1 1 0 0 0 1 1 0 1 1 1 0 1 1 1 0 1 1 1 1 0 1 1 1 0 1\n",
      " 1 1 1 0 1 0 0 1 1 1 0 0 0 0 0 0 1 0 1 0 1 1 0 1 0 1 1 0 0 0 1 0 1 1 1 0 1\n",
      " 1 0 1 1 0 0 1 0 1 1 1 0 1 1 1 0 0 0 0 1 1 1 1 0 0 1 0 1 1 0 1 0 1 1 1 0 0\n",
      " 0 1 0 0 1 1 0 1 1 1 0 1 1 1 1 0 0 1 1 1 1 0 0 1 0 1 1 1 0 0 1 1 1 0 0 0 1\n",
      " 0 1 0 0 1 1 1 1 1 1 1 1 1 1 1 1 1 0 0 0 1 1 1 0 1 0 1 1 1 0 0 0 1 0 1 1 0\n",
      " 1 0 1 0 0 0 1 0 1 0 0 1 1 1 1 1 1 0 1 0 0 1 0 1 1 0 0 0 1 1 1 1 1 0 1 1 0\n",
      " 1 0 0 1 1 1 0 1 0 0 0 0 1 1 0 1 0 1 1 0 1 1 0 0 1 0 0 0 0 0 0 0 1 0 1 0 0\n",
      " 1 0 1 1 0 1 0 1 1 1 1 0 0 1 0 1 0 0 0 1 0 0 1 1 1 0 0 0 0 1 0 1 0 0 0 1 0\n",
      " 1 0 0 0 1 1 1 0 1 0 1 1 1 0 0 0 0 0 0 0 0 0 0 0 0 0 1 1 1 1 1 1 1 1 0 0 1\n",
      " 0 1 1 1 0 1 0 1 1 0 0 1 0 1 0 0 0 0 0 1 0 1 0 0 0 1 1 1 0 0 0 1 1 0 1 1 1\n",
      " 0 1 0 0 0 0 0 1 1 0 0 1 1 0 1 0 1 0 1 0 1 1 0 0 1 1 1 1 0 1 1 0 0 0 1 0 1\n",
      " 1 1 1 0 1 0 0 0 1 0 0 0 0 1 1 0 1 1 0 0 0 0 0 0 1 0 0 1 1 0 1 1 0 0 1 1 1\n",
      " 0 1 0 0 1 0 1 1 0 0 0 1 1 0 1 1 0 0 1 1 0 0 1 1 0 1 1 1 1 0 0 0 0 0 1 1 0\n",
      " 0 0 0 0 1 1 0 1 0 1 0 1 0 1 1 0 0 1 1 0 1 1 0 0 0 0 1 1 0 0 1 0 0 0 1 0 0\n",
      " 1 1 0 1 1 0 0 1 1 0 0 0 0 1 1 1 0 1 1 0 1 0 1 1 1 1 1 0 1 0 1 1 0 0 1 0 0\n",
      " 1 0 0 0 1 1 0 0 0 1 1 0 1 0 1 0 0 1 0 1 1]\n"
     ]
    }
   ],
   "execution_count": 2
  },
  {
   "metadata": {
    "ExecuteTime": {
     "end_time": "2024-11-24T20:36:08.439169Z",
     "start_time": "2024-11-24T20:36:08.056926Z"
    }
   },
   "cell_type": "code",
   "source": [
    "# Check dataset balance\n",
    "import matplotlib.pyplot as plt\n",
    "\n",
    "train_counts = train_df[0].value_counts()\n",
    "plt.bar(train_counts.index, train_counts.values)\n",
    "plt.title(\"Training Set Balance\")\n",
    "plt.xlabel('Class')\n",
    "plt.ylabel('Count')\n",
    "plt.show()\n",
    "\n",
    "test_counts = test_df[0].value_counts()\n",
    "plt.bar(test_counts.index, test_counts.values)\n",
    "plt.title(\"Test Set Balance\")\n",
    "plt.xlabel('Class')\n",
    "plt.ylabel('Count')\n",
    "plt.show()\n",
    "\n",
    "validation_counts = validation_df[0].value_counts()\n",
    "plt.bar(validation_counts.index, validation_counts.values)\n",
    "plt.title(\"Validation Set Balance\")\n",
    "plt.xlabel('Class')\n",
    "plt.ylabel('Count')\n",
    "plt.show()"
   ],
   "id": "e0965e022ab339b7",
   "outputs": [
    {
     "data": {
      "text/plain": [
       "<Figure size 640x480 with 1 Axes>"
      ],
      "image/png": "[encoded data removed]"
     },
     "metadata": {},
     "output_type": "display_data"
    },
    {
     "data": {
      "text/plain": [
       "<Figure size 640x480 with 1 Axes>"
      ],
      "image/png": "[encoded data removed]"
     },
     "metadata": {},
     "output_type": "display_data"
    },
    {
     "data": {
      "text/plain": [
       "<Figure size 640x480 with 1 Axes>"
      ],
      "image/png": "[encoded data removed]"
     },
     "metadata": {},
     "output_type": "display_data"
    }
   ],
   "execution_count": 3
  },
  {
   "metadata": {
    "ExecuteTime": {
     "end_time": "2024-11-24T20:36:13.852734Z",
     "start_time": "2024-11-24T20:36:08.973439Z"
    }
   },
   "cell_type": "code",
   "source": [
    "import nltk\n",
    "\n",
    "# Word tokenizer packages\n",
    "nltk.download('punkt')\n",
    "nltk.download('punkt_tab')\n",
    "\n",
    "# WordNet lemmatizer\n",
    "nltk.download('wordnet')\n",
    "\n",
    "# Stopwords set\n",
    "nltk.download('stopwords')\n",
    "\n",
    "#https://medium.com/@maleeshadesilva21/preprocessing-steps-for-natural-language-processing-nlp-a-beginners-guide-d6d9bf7689c9\n",
    "nltk.download('averaged_perceptron_tagger_eng')\n",
    "\n",
    "from nltk.tokenize import word_tokenize #import the tokenize package\n",
    "from nltk.corpus import wordnet\n",
    "\n",
    "from nltk.stem import WordNetLemmatizer\n",
    "\n",
    "# Based on stopwords.words(\"english\")\n",
    "all_stopwords = ['i', 'me', 'my', 'myself', 'we', 'our', 'ours', 'ourselves', 'you', \"you're\", \"you've\", \"you'll\", \"you'd\", 'your', 'yours', 'yourself', 'yourselves', 'he', 'him', 'his', 'himself', 'she', \"she's\", 'her', 'hers', 'herself', 'it', \"it's\", 'its', 'itself', 'they', 'them', 'their', 'theirs', 'themselves']\n",
    "\n",
    "# Find most common words to add to stopwords set\n",
    "token_counts = {}\n",
    "for x in train_x:\n",
    "    tokens = word_tokenize(x)\n",
    "    for token in tokens:\n",
    "        token_counts[token] = token_counts.get(token, 0) + 1\n",
    "\n",
    "common_threshold = len(train_x) * 0.75\n",
    "for token in token_counts:\n",
    "    if token_counts[token] >= common_threshold:\n",
    "        all_stopwords.append(token)\n",
    "\n",
    "# Setup lemmatier\n",
    "lemmatizer = WordNetLemmatizer()\n",
    "\n",
    "# Part of Speech (POS) tagging conversion.\n",
    "# Convert between the NLTK and WordNet representations for the lemmatizer stage\n",
    "def posToWordnetPos(pos):\n",
    "    #https://medium.com/@maleeshadesilva21/preprocessing-steps-for-natural-language-processing-nlp-a-beginners-guide-d6d9bf7689c9\n",
    "    tag_mapping = {\"J\": wordnet.ADJ,\n",
    "                \"N\": wordnet.NOUN,\n",
    "                \"V\": wordnet.VERB,\n",
    "                \"R\": wordnet.ADV}\n",
    "    return tag_mapping.get(pos[0].upper(), wordnet.NOUN)\n",
    "\n",
    "# Tokenize sentence and \"POS\" tag tokens, strip stopwords, lemmatize words and recombine into \"sentences\"\n",
    "def preprocess(X):\n",
    "    prep_text = []\n",
    "    for x in X:\n",
    "        tokens = nltk.pos_tag(word_tokenize(x))\n",
    "        tokens_stripped = [token for token in tokens if token[0] not in all_stopwords]\n",
    "        tokens_lemmatized = [[lemmatizer.lemmatize(token[0], posToWordnetPos(token[1])) for token in tokens_stripped]]\n",
    "        prep_text += tokens_lemmatized\n",
    "\n",
    "    prep_sentences = [\" \".join(sentence) for sentence in prep_text]\n",
    "    return prep_sentences\n",
    "\n",
    "pre_train_x = preprocess(train_x)\n",
    "pre_test_x = preprocess(test_x)\n",
    "pre_validation_x = preprocess(validation_x)"
   ],
   "id": "c33444ff0baaf945",
   "outputs": [
    {
     "name": "stderr",
     "output_type": "stream",
     "text": [
      "[nltk_data] Downloading package punkt to\n",
      "[nltk_data]     /Users/reecemackie/nltk_data...\n",
      "[nltk_data]   Package punkt is already up-to-date!\n",
      "[nltk_data] Downloading package punkt_tab to\n",
      "[nltk_data]     /Users/reecemackie/nltk_data...\n",
      "[nltk_data]   Package punkt_tab is already up-to-date!\n",
      "[nltk_data] Downloading package wordnet to\n",
      "[nltk_data]     /Users/reecemackie/nltk_data...\n",
      "[nltk_data]   Package wordnet is already up-to-date!\n",
      "[nltk_data] Downloading package stopwords to\n",
      "[nltk_data]     /Users/reecemackie/nltk_data...\n",
      "[nltk_data]   Package stopwords is already up-to-date!\n",
      "[nltk_data] Downloading package averaged_perceptron_tagger_eng to\n",
      "[nltk_data]     /Users/reecemackie/nltk_data...\n",
      "[nltk_data]   Package averaged_perceptron_tagger_eng is already up-to-\n",
      "[nltk_data]       date!\n"
     ]
    }
   ],
   "execution_count": 4
  },
  {
   "metadata": {
    "ExecuteTime": {
     "end_time": "2024-11-24T20:36:14.371804Z",
     "start_time": "2024-11-24T20:36:14.305727Z"
    }
   },
   "cell_type": "code",
   "source": [
    "import tensorflow as tf\n",
    "from tensorflow import keras\n",
    "from keras import layers\n",
    "\n",
    "# Vectorization Constants\n",
    "max_features = 15000\n",
    "sequence_length = 100\n",
    "\n",
    "# Create a Keras vectorization layer to learn the vocabulary and create vector representations of sentences\n",
    "# These will be passed into embedding layers for feature extraction\n",
    "vectorize_layer = layers.TextVectorization(\n",
    "    standardize=None, # Inputs are already pre-processed\n",
    "    max_tokens=max_features,\n",
    "    output_mode='int',\n",
    "    output_sequence_length=sequence_length,\n",
    ")\n",
    "\n",
    "vectorize_layer.adapt(pre_train_x)\n",
    "\n",
    "def vectorize_text(text):\n",
    "    text = tf.expand_dims(text, -1)\n",
    "    return vectorize_layer(text)\n",
    "\n",
    "# Vectorize all inputs up-front to avoid needing to do it again.\n",
    "prep_train_x = vectorize_text(pre_train_x)\n",
    "prep_test_x = vectorize_text(pre_test_x)\n",
    "prep_validation_x = vectorize_text(pre_validation_x)"
   ],
   "id": "609adb7d4436f5f0",
   "outputs": [],
   "execution_count": 5
  },
  {
   "metadata": {},
   "cell_type": "markdown",
   "source": "## Representation Learning",
   "id": "b0b19433f8d25727"
  },
  {
   "metadata": {
    "ExecuteTime": {
     "end_time": "2024-11-24T20:36:46.401769Z",
     "start_time": "2024-11-24T20:36:33.277845Z"
    }
   },
   "cell_type": "code",
   "source": [
    "# Training a fresh embedding layer\n",
    "from sklearn.metrics import accuracy_score, f1_score\n",
    "\n",
    "# Reset random\n",
    "reset_seed()\n",
    "\n",
    "model = keras.Sequential([\n",
    "    layers.Input((sequence_length,)),\n",
    "    layers.Embedding(max_features, 128),\n",
    "    layers.Bidirectional(layers.SimpleRNN(64, activation=\"relu\")),\n",
    "    layers.Dense(1, activation=\"sigmoid\"),\n",
    "])\n",
    "\n",
    "model.compile(loss=\"binary_crossentropy\", optimizer=\"adam\", metrics=[\"accuracy\"])\n",
    "\n",
    "model.summary()\n",
    "\n",
    "print('Fitting Model')\n",
    "model.fit(x=prep_train_x, y=train_y, epochs=10, batch_size=128)\n",
    "\n",
    "pred = model.predict(prep_test_x)\n",
    "predictions = (pred > 0.5).astype(\"int32\")\n",
    "f1 = f1_score(test_y, predictions)\n",
    "print(f1)"
   ],
   "id": "a2197d1d01a21cd3",
   "outputs": [
    {
     "data": {
      "text/plain": [
       "\u001B[1mModel: \"sequential_1\"\u001B[0m\n"
      ],
      "text/html": [
       "<pre style=\"white-space:pre;overflow-x:auto;line-height:normal;font-family:Menlo,'DejaVu Sans Mono',consolas,'Courier New',monospace\"><span style=\"font-weight: bold\">Model: \"sequential_1\"</span>\n",
       "</pre>\n"
      ]
     },
     "metadata": {},
     "output_type": "display_data"
    },
    {
     "data": {
      "text/plain": [
       "┏━━━━━━━━━━━━━━━━━━━━━━━━━━━━━━━━━┳━━━━━━━━━━━━━━━━━━━━━━━━┳━━━━━━━━━━━━━━━┓\n",
       "┃\u001B[1m \u001B[0m\u001B[1mLayer (type)                   \u001B[0m\u001B[1m \u001B[0m┃\u001B[1m \u001B[0m\u001B[1mOutput Shape          \u001B[0m\u001B[1m \u001B[0m┃\u001B[1m \u001B[0m\u001B[1m      Param #\u001B[0m\u001B[1m \u001B[0m┃\n",
       "┡━━━━━━━━━━━━━━━━━━━━━━━━━━━━━━━━━╇━━━━━━━━━━━━━━━━━━━━━━━━╇━━━━━━━━━━━━━━━┩\n",
       "│ embedding_1 (\u001B[38;5;33mEmbedding\u001B[0m)         │ (\u001B[38;5;45mNone\u001B[0m, \u001B[38;5;34m100\u001B[0m, \u001B[38;5;34m128\u001B[0m)       │     \u001B[38;5;34m1,920,000\u001B[0m │\n",
       "├─────────────────────────────────┼────────────────────────┼───────────────┤\n",
       "│ bidirectional_1 (\u001B[38;5;33mBidirectional\u001B[0m) │ (\u001B[38;5;45mNone\u001B[0m, \u001B[38;5;34m128\u001B[0m)            │        \u001B[38;5;34m24,704\u001B[0m │\n",
       "├─────────────────────────────────┼────────────────────────┼───────────────┤\n",
       "│ dense_1 (\u001B[38;5;33mDense\u001B[0m)                 │ (\u001B[38;5;45mNone\u001B[0m, \u001B[38;5;34m1\u001B[0m)              │           \u001B[38;5;34m129\u001B[0m │\n",
       "└─────────────────────────────────┴────────────────────────┴───────────────┘\n"
      ],
      "text/html": [
       "<pre style=\"white-space:pre;overflow-x:auto;line-height:normal;font-family:Menlo,'DejaVu Sans Mono',consolas,'Courier New',monospace\">┏━━━━━━━━━━━━━━━━━━━━━━━━━━━━━━━━━┳━━━━━━━━━━━━━━━━━━━━━━━━┳━━━━━━━━━━━━━━━┓\n",
       "┃<span style=\"font-weight: bold\"> Layer (type)                    </span>┃<span style=\"font-weight: bold\"> Output Shape           </span>┃<span style=\"font-weight: bold\">       Param # </span>┃\n",
       "┡━━━━━━━━━━━━━━━━━━━━━━━━━━━━━━━━━╇━━━━━━━━━━━━━━━━━━━━━━━━╇━━━━━━━━━━━━━━━┩\n",
       "│ embedding_1 (<span style=\"color: #0087ff; text-decoration-color: #0087ff\">Embedding</span>)         │ (<span style=\"color: #00d7ff; text-decoration-color: #00d7ff\">None</span>, <span style=\"color: #00af00; text-decoration-color: #00af00\">100</span>, <span style=\"color: #00af00; text-decoration-color: #00af00\">128</span>)       │     <span style=\"color: #00af00; text-decoration-color: #00af00\">1,920,000</span> │\n",
       "├─────────────────────────────────┼────────────────────────┼───────────────┤\n",
       "│ bidirectional_1 (<span style=\"color: #0087ff; text-decoration-color: #0087ff\">Bidirectional</span>) │ (<span style=\"color: #00d7ff; text-decoration-color: #00d7ff\">None</span>, <span style=\"color: #00af00; text-decoration-color: #00af00\">128</span>)            │        <span style=\"color: #00af00; text-decoration-color: #00af00\">24,704</span> │\n",
       "├─────────────────────────────────┼────────────────────────┼───────────────┤\n",
       "│ dense_1 (<span style=\"color: #0087ff; text-decoration-color: #0087ff\">Dense</span>)                 │ (<span style=\"color: #00d7ff; text-decoration-color: #00d7ff\">None</span>, <span style=\"color: #00af00; text-decoration-color: #00af00\">1</span>)              │           <span style=\"color: #00af00; text-decoration-color: #00af00\">129</span> │\n",
       "└─────────────────────────────────┴────────────────────────┴───────────────┘\n",
       "</pre>\n"
      ]
     },
     "metadata": {},
     "output_type": "display_data"
    },
    {
     "data": {
      "text/plain": [
       "\u001B[1m Total params: \u001B[0m\u001B[38;5;34m1,944,833\u001B[0m (7.42 MB)\n"
      ],
      "text/html": [
       "<pre style=\"white-space:pre;overflow-x:auto;line-height:normal;font-family:Menlo,'DejaVu Sans Mono',consolas,'Courier New',monospace\"><span style=\"font-weight: bold\"> Total params: </span><span style=\"color: #00af00; text-decoration-color: #00af00\">1,944,833</span> (7.42 MB)\n",
       "</pre>\n"
      ]
     },
     "metadata": {},
     "output_type": "display_data"
    },
    {
     "data": {
      "text/plain": [
       "\u001B[1m Trainable params: \u001B[0m\u001B[38;5;34m1,944,833\u001B[0m (7.42 MB)\n"
      ],
      "text/html": [
       "<pre style=\"white-space:pre;overflow-x:auto;line-height:normal;font-family:Menlo,'DejaVu Sans Mono',consolas,'Courier New',monospace\"><span style=\"font-weight: bold\"> Trainable params: </span><span style=\"color: #00af00; text-decoration-color: #00af00\">1,944,833</span> (7.42 MB)\n",
       "</pre>\n"
      ]
     },
     "metadata": {},
     "output_type": "display_data"
    },
    {
     "data": {
      "text/plain": [
       "\u001B[1m Non-trainable params: \u001B[0m\u001B[38;5;34m0\u001B[0m (0.00 B)\n"
      ],
      "text/html": [
       "<pre style=\"white-space:pre;overflow-x:auto;line-height:normal;font-family:Menlo,'DejaVu Sans Mono',consolas,'Courier New',monospace\"><span style=\"font-weight: bold\"> Non-trainable params: </span><span style=\"color: #00af00; text-decoration-color: #00af00\">0</span> (0.00 B)\n",
       "</pre>\n"
      ]
     },
     "metadata": {},
     "output_type": "display_data"
    },
    {
     "name": "stdout",
     "output_type": "stream",
     "text": [
      "Fitting Model\n",
      "Epoch 1/10\n",
      "\u001B[1m55/55\u001B[0m \u001B[32m━━━━━━━━━━━━━━━━━━━━\u001B[0m\u001B[37m\u001B[0m \u001B[1m2s\u001B[0m 22ms/step - accuracy: 0.5275 - loss: 0.6892\n",
      "Epoch 2/10\n",
      "\u001B[1m55/55\u001B[0m \u001B[32m━━━━━━━━━━━━━━━━━━━━\u001B[0m\u001B[37m\u001B[0m \u001B[1m1s\u001B[0m 21ms/step - accuracy: 0.7108 - loss: 0.5900\n",
      "Epoch 3/10\n",
      "\u001B[1m55/55\u001B[0m \u001B[32m━━━━━━━━━━━━━━━━━━━━\u001B[0m\u001B[37m\u001B[0m \u001B[1m1s\u001B[0m 21ms/step - accuracy: 0.8883 - loss: 0.2940\n",
      "Epoch 4/10\n",
      "\u001B[1m55/55\u001B[0m \u001B[32m━━━━━━━━━━━━━━━━━━━━\u001B[0m\u001B[37m\u001B[0m \u001B[1m1s\u001B[0m 21ms/step - accuracy: 0.9578 - loss: 0.1469\n",
      "Epoch 5/10\n",
      "\u001B[1m55/55\u001B[0m \u001B[32m━━━━━━━━━━━━━━━━━━━━\u001B[0m\u001B[37m\u001B[0m \u001B[1m1s\u001B[0m 22ms/step - accuracy: 0.9672 - loss: 0.1051\n",
      "Epoch 6/10\n",
      "\u001B[1m55/55\u001B[0m \u001B[32m━━━━━━━━━━━━━━━━━━━━\u001B[0m\u001B[37m\u001B[0m \u001B[1m1s\u001B[0m 21ms/step - accuracy: 0.9803 - loss: 0.0670\n",
      "Epoch 7/10\n",
      "\u001B[1m55/55\u001B[0m \u001B[32m━━━━━━━━━━━━━━━━━━━━\u001B[0m\u001B[37m\u001B[0m \u001B[1m1s\u001B[0m 22ms/step - accuracy: 0.9910 - loss: 0.0295\n",
      "Epoch 8/10\n",
      "\u001B[1m55/55\u001B[0m \u001B[32m━━━━━━━━━━━━━━━━━━━━\u001B[0m\u001B[37m\u001B[0m \u001B[1m1s\u001B[0m 21ms/step - accuracy: 0.9956 - loss: 0.0165\n",
      "Epoch 9/10\n",
      "\u001B[1m55/55\u001B[0m \u001B[32m━━━━━━━━━━━━━━━━━━━━\u001B[0m\u001B[37m\u001B[0m \u001B[1m1s\u001B[0m 22ms/step - accuracy: 0.9981 - loss: 0.0111\n",
      "Epoch 10/10\n",
      "\u001B[1m55/55\u001B[0m \u001B[32m━━━━━━━━━━━━━━━━━━━━\u001B[0m\u001B[37m\u001B[0m \u001B[1m1s\u001B[0m 21ms/step - accuracy: 0.9991 - loss: 0.0076\n",
      "\u001B[1m31/57\u001B[0m \u001B[32m━━━━━━━━━━\u001B[0m\u001B[37m━━━━━━━━━━\u001B[0m \u001B[1m0s\u001B[0m 4ms/step"
     ]
    },
    {
     "name": "stderr",
     "output_type": "stream",
     "text": [
      "2024-11-24 20:36:46.056297: E tensorflow/core/framework/node_def_util.cc:676] NodeDef mentions attribute use_unbounded_threadpool which is not in the op definition: Op<name=MapDataset; signature=input_dataset:variant, other_arguments: -> handle:variant; attr=f:func; attr=Targuments:list(type),min=0; attr=output_types:list(type),min=1; attr=output_shapes:list(shape),min=1; attr=use_inter_op_parallelism:bool,default=true; attr=preserve_cardinality:bool,default=false; attr=force_synchronous:bool,default=false; attr=metadata:string,default=\"\"> This may be expected if your graph generating binary is newer  than this binary. Unknown attributes will be ignored. NodeDef: {{node ParallelMapDatasetV2/_14}}\n",
      "2024-11-24 20:36:46.056526: E tensorflow/core/framework/node_def_util.cc:676] NodeDef mentions attribute use_unbounded_threadpool which is not in the op definition: Op<name=MapDataset; signature=input_dataset:variant, other_arguments: -> handle:variant; attr=f:func; attr=Targuments:list(type),min=0; attr=output_types:list(type),min=1; attr=output_shapes:list(shape),min=1; attr=use_inter_op_parallelism:bool,default=true; attr=preserve_cardinality:bool,default=false; attr=force_synchronous:bool,default=false; attr=metadata:string,default=\"\"> This may be expected if your graph generating binary is newer  than this binary. Unknown attributes will be ignored. NodeDef: {{node ParallelMapDatasetV2/_14}}\n"
     ]
    },
    {
     "name": "stdout",
     "output_type": "stream",
     "text": [
      "\u001B[1m57/57\u001B[0m \u001B[32m━━━━━━━━━━━━━━━━━━━━\u001B[0m\u001B[37m\u001B[0m \u001B[1m0s\u001B[0m 5ms/step\n",
      "0.7836990595611285\n"
     ]
    }
   ],
   "execution_count": 7
  },
  {
   "metadata": {
    "ExecuteTime": {
     "end_time": "2024-11-24T20:41:23.715349Z",
     "start_time": "2024-11-24T20:41:04.282580Z"
    }
   },
   "cell_type": "code",
   "source": [
    "# Custom Trained Word2Vec + Fine-Tuning\n",
    "from gensim.models import Word2Vec, KeyedVectors\n",
    "\n",
    "# Reset random\n",
    "reset_seed()\n",
    "\n",
    "# Take the learned embeddings and remap them into the order as determined by the Text Vectorization layer being used\n",
    "def gensim_to_keras_embedding(keyed_vectors: KeyedVectors, tokenizer: layers.TextVectorization, train_embeddings=False):\n",
    "    vocab = tokenizer.get_vocabulary()\n",
    "    vocab_size = len(vocab)\n",
    "    embedding_dim = keyed_vectors.vector_size\n",
    "\n",
    "    embedding_matrix = np.zeros((vocab_size, embedding_dim))\n",
    "\n",
    "    # Initializes unknown tokens with a normal distribution\n",
    "    # This also covers TextVectorization's '[UNK]' for unrecognized tokens\n",
    "    for i, word in enumerate(vocab):\n",
    "        if word in keyed_vectors:\n",
    "            embedding_matrix[i] = keyed_vectors[word]\n",
    "        else:\n",
    "            embedding_matrix[i] = np.random.normal(size=(embedding_dim,))\n",
    "\n",
    "    # Construct the embedding layer, using the extracted weights\n",
    "    return layers.Embedding(\n",
    "        input_dim=vocab_size,\n",
    "        output_dim=embedding_dim,\n",
    "        weights=[embedding_matrix],\n",
    "        trainable=train_embeddings,\n",
    "    )\n",
    "\n",
    "# Train W2V model on pre-processed training data\n",
    "sentences = [word_tokenize(x) for x in pre_train_x]\n",
    "w2v_model = Word2Vec(sentences=sentences, vector_size=300, window=5, min_count=1, workers=1, epochs=10)\n",
    "\n",
    "w2v_embedding_layer = gensim_to_keras_embedding(w2v_model.wv, vectorize_layer, train_embeddings=True)\n",
    "\n",
    "model = keras.Sequential([\n",
    "    layers.Input((sequence_length,)),\n",
    "    w2v_embedding_layer,\n",
    "    layers.Bidirectional(layers.SimpleRNN(64, activation=\"relu\")),\n",
    "    layers.Dense(1, activation=\"sigmoid\"),\n",
    "])\n",
    "\n",
    "model.compile(loss=\"binary_crossentropy\", optimizer=\"adam\", metrics=[\"accuracy\"])\n",
    "\n",
    "model.summary()\n",
    "\n",
    "print('Fitting Model')\n",
    "model.fit(x=prep_train_x, y=train_y, epochs=10, batch_size=128)\n",
    "\n",
    "pred = model.predict(prep_test_x)\n",
    "predictions = (pred > 0.5).astype(\"int32\")\n",
    "f1 = f1_score(test_y, predictions)\n",
    "print(f1)"
   ],
   "id": "7a469e794d05d838",
   "outputs": [
    {
     "data": {
      "text/plain": [
       "\u001B[1mModel: \"sequential_3\"\u001B[0m\n"
      ],
      "text/html": [
       "<pre style=\"white-space:pre;overflow-x:auto;line-height:normal;font-family:Menlo,'DejaVu Sans Mono',consolas,'Courier New',monospace\"><span style=\"font-weight: bold\">Model: \"sequential_3\"</span>\n",
       "</pre>\n"
      ]
     },
     "metadata": {},
     "output_type": "display_data"
    },
    {
     "data": {
      "text/plain": [
       "┏━━━━━━━━━━━━━━━━━━━━━━━━━━━━━━━━━┳━━━━━━━━━━━━━━━━━━━━━━━━┳━━━━━━━━━━━━━━━┓\n",
       "┃\u001B[1m \u001B[0m\u001B[1mLayer (type)                   \u001B[0m\u001B[1m \u001B[0m┃\u001B[1m \u001B[0m\u001B[1mOutput Shape          \u001B[0m\u001B[1m \u001B[0m┃\u001B[1m \u001B[0m\u001B[1m      Param #\u001B[0m\u001B[1m \u001B[0m┃\n",
       "┡━━━━━━━━━━━━━━━━━━━━━━━━━━━━━━━━━╇━━━━━━━━━━━━━━━━━━━━━━━━╇━━━━━━━━━━━━━━━┩\n",
       "│ embedding_3 (\u001B[38;5;33mEmbedding\u001B[0m)         │ (\u001B[38;5;45mNone\u001B[0m, \u001B[38;5;34m100\u001B[0m, \u001B[38;5;34m300\u001B[0m)       │     \u001B[38;5;34m3,815,100\u001B[0m │\n",
       "├─────────────────────────────────┼────────────────────────┼───────────────┤\n",
       "│ bidirectional_3 (\u001B[38;5;33mBidirectional\u001B[0m) │ (\u001B[38;5;45mNone\u001B[0m, \u001B[38;5;34m128\u001B[0m)            │        \u001B[38;5;34m46,720\u001B[0m │\n",
       "├─────────────────────────────────┼────────────────────────┼───────────────┤\n",
       "│ dense_3 (\u001B[38;5;33mDense\u001B[0m)                 │ (\u001B[38;5;45mNone\u001B[0m, \u001B[38;5;34m1\u001B[0m)              │           \u001B[38;5;34m129\u001B[0m │\n",
       "└─────────────────────────────────┴────────────────────────┴───────────────┘\n"
      ],
      "text/html": [
       "<pre style=\"white-space:pre;overflow-x:auto;line-height:normal;font-family:Menlo,'DejaVu Sans Mono',consolas,'Courier New',monospace\">┏━━━━━━━━━━━━━━━━━━━━━━━━━━━━━━━━━┳━━━━━━━━━━━━━━━━━━━━━━━━┳━━━━━━━━━━━━━━━┓\n",
       "┃<span style=\"font-weight: bold\"> Layer (type)                    </span>┃<span style=\"font-weight: bold\"> Output Shape           </span>┃<span style=\"font-weight: bold\">       Param # </span>┃\n",
       "┡━━━━━━━━━━━━━━━━━━━━━━━━━━━━━━━━━╇━━━━━━━━━━━━━━━━━━━━━━━━╇━━━━━━━━━━━━━━━┩\n",
       "│ embedding_3 (<span style=\"color: #0087ff; text-decoration-color: #0087ff\">Embedding</span>)         │ (<span style=\"color: #00d7ff; text-decoration-color: #00d7ff\">None</span>, <span style=\"color: #00af00; text-decoration-color: #00af00\">100</span>, <span style=\"color: #00af00; text-decoration-color: #00af00\">300</span>)       │     <span style=\"color: #00af00; text-decoration-color: #00af00\">3,815,100</span> │\n",
       "├─────────────────────────────────┼────────────────────────┼───────────────┤\n",
       "│ bidirectional_3 (<span style=\"color: #0087ff; text-decoration-color: #0087ff\">Bidirectional</span>) │ (<span style=\"color: #00d7ff; text-decoration-color: #00d7ff\">None</span>, <span style=\"color: #00af00; text-decoration-color: #00af00\">128</span>)            │        <span style=\"color: #00af00; text-decoration-color: #00af00\">46,720</span> │\n",
       "├─────────────────────────────────┼────────────────────────┼───────────────┤\n",
       "│ dense_3 (<span style=\"color: #0087ff; text-decoration-color: #0087ff\">Dense</span>)                 │ (<span style=\"color: #00d7ff; text-decoration-color: #00d7ff\">None</span>, <span style=\"color: #00af00; text-decoration-color: #00af00\">1</span>)              │           <span style=\"color: #00af00; text-decoration-color: #00af00\">129</span> │\n",
       "└─────────────────────────────────┴────────────────────────┴───────────────┘\n",
       "</pre>\n"
      ]
     },
     "metadata": {},
     "output_type": "display_data"
    },
    {
     "data": {
      "text/plain": [
       "\u001B[1m Total params: \u001B[0m\u001B[38;5;34m3,861,949\u001B[0m (14.73 MB)\n"
      ],
      "text/html": [
       "<pre style=\"white-space:pre;overflow-x:auto;line-height:normal;font-family:Menlo,'DejaVu Sans Mono',consolas,'Courier New',monospace\"><span style=\"font-weight: bold\"> Total params: </span><span style=\"color: #00af00; text-decoration-color: #00af00\">3,861,949</span> (14.73 MB)\n",
       "</pre>\n"
      ]
     },
     "metadata": {},
     "output_type": "display_data"
    },
    {
     "data": {
      "text/plain": [
       "\u001B[1m Trainable params: \u001B[0m\u001B[38;5;34m3,861,949\u001B[0m (14.73 MB)\n"
      ],
      "text/html": [
       "<pre style=\"white-space:pre;overflow-x:auto;line-height:normal;font-family:Menlo,'DejaVu Sans Mono',consolas,'Courier New',monospace\"><span style=\"font-weight: bold\"> Trainable params: </span><span style=\"color: #00af00; text-decoration-color: #00af00\">3,861,949</span> (14.73 MB)\n",
       "</pre>\n"
      ]
     },
     "metadata": {},
     "output_type": "display_data"
    },
    {
     "data": {
      "text/plain": [
       "\u001B[1m Non-trainable params: \u001B[0m\u001B[38;5;34m0\u001B[0m (0.00 B)\n"
      ],
      "text/html": [
       "<pre style=\"white-space:pre;overflow-x:auto;line-height:normal;font-family:Menlo,'DejaVu Sans Mono',consolas,'Courier New',monospace\"><span style=\"font-weight: bold\"> Non-trainable params: </span><span style=\"color: #00af00; text-decoration-color: #00af00\">0</span> (0.00 B)\n",
       "</pre>\n"
      ]
     },
     "metadata": {},
     "output_type": "display_data"
    },
    {
     "name": "stdout",
     "output_type": "stream",
     "text": [
      "Fitting Model\n",
      "Epoch 1/10\n"
     ]
    },
    {
     "name": "stderr",
     "output_type": "stream",
     "text": [
      "2024-11-24 20:41:06.305356: E tensorflow/core/framework/node_def_util.cc:676] NodeDef mentions attribute use_unbounded_threadpool which is not in the op definition: Op<name=MapDataset; signature=input_dataset:variant, other_arguments: -> handle:variant; attr=f:func; attr=Targuments:list(type),min=0; attr=output_types:list(type),min=1; attr=output_shapes:list(shape),min=1; attr=use_inter_op_parallelism:bool,default=true; attr=preserve_cardinality:bool,default=false; attr=force_synchronous:bool,default=false; attr=metadata:string,default=\"\"> This may be expected if your graph generating binary is newer  than this binary. Unknown attributes will be ignored. NodeDef: {{node ParallelMapDatasetV2/_15}}\n",
      "2024-11-24 20:41:06.305673: E tensorflow/core/framework/node_def_util.cc:676] NodeDef mentions attribute use_unbounded_threadpool which is not in the op definition: Op<name=MapDataset; signature=input_dataset:variant, other_arguments: -> handle:variant; attr=f:func; attr=Targuments:list(type),min=0; attr=output_types:list(type),min=1; attr=output_shapes:list(shape),min=1; attr=use_inter_op_parallelism:bool,default=true; attr=preserve_cardinality:bool,default=false; attr=force_synchronous:bool,default=false; attr=metadata:string,default=\"\"> This may be expected if your graph generating binary is newer  than this binary. Unknown attributes will be ignored. NodeDef: {{node ParallelMapDatasetV2/_15}}\n"
     ]
    },
    {
     "name": "stdout",
     "output_type": "stream",
     "text": [
      "\u001B[1m55/55\u001B[0m \u001B[32m━━━━━━━━━━━━━━━━━━━━\u001B[0m\u001B[37m\u001B[0m \u001B[1m2s\u001B[0m 28ms/step - accuracy: 0.5335 - loss: 0.6937\n",
      "Epoch 2/10\n",
      "\u001B[1m55/55\u001B[0m \u001B[32m━━━━━━━━━━━━━━━━━━━━\u001B[0m\u001B[37m\u001B[0m \u001B[1m1s\u001B[0m 26ms/step - accuracy: 0.6807 - loss: 0.6274\n",
      "Epoch 3/10\n",
      "\u001B[1m55/55\u001B[0m \u001B[32m━━━━━━━━━━━━━━━━━━━━\u001B[0m\u001B[37m\u001B[0m \u001B[1m2s\u001B[0m 30ms/step - accuracy: 0.8184 - loss: 0.4677\n",
      "Epoch 4/10\n",
      "\u001B[1m55/55\u001B[0m \u001B[32m━━━━━━━━━━━━━━━━━━━━\u001B[0m\u001B[37m\u001B[0m \u001B[1m2s\u001B[0m 30ms/step - accuracy: 0.9296 - loss: 0.2314\n",
      "Epoch 5/10\n",
      "\u001B[1m55/55\u001B[0m \u001B[32m━━━━━━━━━━━━━━━━━━━━\u001B[0m\u001B[37m\u001B[0m \u001B[1m2s\u001B[0m 29ms/step - accuracy: 0.9576 - loss: 0.1444\n",
      "Epoch 6/10\n",
      "\u001B[1m55/55\u001B[0m \u001B[32m━━━━━━━━━━━━━━━━━━━━\u001B[0m\u001B[37m\u001B[0m \u001B[1m2s\u001B[0m 30ms/step - accuracy: 0.9854 - loss: 0.0635\n",
      "Epoch 7/10\n",
      "\u001B[1m55/55\u001B[0m \u001B[32m━━━━━━━━━━━━━━━━━━━━\u001B[0m\u001B[37m\u001B[0m \u001B[1m2s\u001B[0m 31ms/step - accuracy: 0.9908 - loss: 0.0446\n",
      "Epoch 8/10\n",
      "\u001B[1m55/55\u001B[0m \u001B[32m━━━━━━━━━━━━━━━━━━━━\u001B[0m\u001B[37m\u001B[0m \u001B[1m2s\u001B[0m 31ms/step - accuracy: 0.9907 - loss: 0.0420\n",
      "Epoch 9/10\n",
      "\u001B[1m55/55\u001B[0m \u001B[32m━━━━━━━━━━━━━━━━━━━━\u001B[0m\u001B[37m\u001B[0m \u001B[1m1s\u001B[0m 27ms/step - accuracy: 0.9924 - loss: 0.0352\n",
      "Epoch 10/10\n",
      "\u001B[1m55/55\u001B[0m \u001B[32m━━━━━━━━━━━━━━━━━━━━\u001B[0m\u001B[37m\u001B[0m \u001B[1m2s\u001B[0m 30ms/step - accuracy: 0.9912 - loss: 0.0387\n"
     ]
    },
    {
     "name": "stderr",
     "output_type": "stream",
     "text": [
      "2024-11-24 20:41:23.121751: E tensorflow/core/framework/node_def_util.cc:676] NodeDef mentions attribute use_unbounded_threadpool which is not in the op definition: Op<name=MapDataset; signature=input_dataset:variant, other_arguments: -> handle:variant; attr=f:func; attr=Targuments:list(type),min=0; attr=output_types:list(type),min=1; attr=output_shapes:list(shape),min=1; attr=use_inter_op_parallelism:bool,default=true; attr=preserve_cardinality:bool,default=false; attr=force_synchronous:bool,default=false; attr=metadata:string,default=\"\"> This may be expected if your graph generating binary is newer  than this binary. Unknown attributes will be ignored. NodeDef: {{node ParallelMapDatasetV2/_14}}\n",
      "2024-11-24 20:41:23.122043: E tensorflow/core/framework/node_def_util.cc:676] NodeDef mentions attribute use_unbounded_threadpool which is not in the op definition: Op<name=MapDataset; signature=input_dataset:variant, other_arguments: -> handle:variant; attr=f:func; attr=Targuments:list(type),min=0; attr=output_types:list(type),min=1; attr=output_shapes:list(shape),min=1; attr=use_inter_op_parallelism:bool,default=true; attr=preserve_cardinality:bool,default=false; attr=force_synchronous:bool,default=false; attr=metadata:string,default=\"\"> This may be expected if your graph generating binary is newer  than this binary. Unknown attributes will be ignored. NodeDef: {{node ParallelMapDatasetV2/_14}}\n"
     ]
    },
    {
     "name": "stdout",
     "output_type": "stream",
     "text": [
      "\u001B[1m57/57\u001B[0m \u001B[32m━━━━━━━━━━━━━━━━━━━━\u001B[0m\u001B[37m\u001B[0m \u001B[1m1s\u001B[0m 6ms/step\n",
      "0.6052463211772233\n"
     ]
    }
   ],
   "execution_count": 10
  },
  {
   "metadata": {
    "ExecuteTime": {
     "end_time": "2024-11-24T20:42:35.332663Z",
     "start_time": "2024-11-24T20:42:09.010361Z"
    }
   },
   "cell_type": "code",
   "source": [
    "# Google News 300 Word2Vec + Fine-Tuning\n",
    "\n",
    "# Reset random\n",
    "reset_seed()\n",
    "\n",
    "google_w2v = KeyedVectors.load_word2vec_format(\"/Users/reecemackie/gensim-data/word2vec-google-news-300/word2vec-google-news-300\", binary=True)\n",
    "w2v_embedding_layer = gensim_to_keras_embedding(google_w2v, vectorize_layer, train_embeddings=True)\n",
    "\n",
    "model = keras.Sequential([\n",
    "    layers.Input((sequence_length,)),\n",
    "    w2v_embedding_layer,\n",
    "    layers.Bidirectional(layers.SimpleRNN(64, activation=\"relu\")),\n",
    "    layers.Dense(1, activation=\"sigmoid\"),\n",
    "])\n",
    "\n",
    "model.compile(loss=\"binary_crossentropy\", optimizer=\"adam\", metrics=[\"accuracy\"])\n",
    "\n",
    "model.summary()\n",
    "\n",
    "print('Fitting Model')\n",
    "model.fit(x=prep_train_x, y=train_y, epochs=10, batch_size=128)\n",
    "\n",
    "pred = model.predict(prep_test_x)\n",
    "predictions = (pred > 0.5).astype(\"int32\")\n",
    "f1 = f1_score(test_y, predictions)\n",
    "print(f1)"
   ],
   "id": "d34350992bc1eb31",
   "outputs": [
    {
     "data": {
      "text/plain": [
       "\u001B[1mModel: \"sequential_5\"\u001B[0m\n"
      ],
      "text/html": [
       "<pre style=\"white-space:pre;overflow-x:auto;line-height:normal;font-family:Menlo,'DejaVu Sans Mono',consolas,'Courier New',monospace\"><span style=\"font-weight: bold\">Model: \"sequential_5\"</span>\n",
       "</pre>\n"
      ]
     },
     "metadata": {},
     "output_type": "display_data"
    },
    {
     "data": {
      "text/plain": [
       "┏━━━━━━━━━━━━━━━━━━━━━━━━━━━━━━━━━┳━━━━━━━━━━━━━━━━━━━━━━━━┳━━━━━━━━━━━━━━━┓\n",
       "┃\u001B[1m \u001B[0m\u001B[1mLayer (type)                   \u001B[0m\u001B[1m \u001B[0m┃\u001B[1m \u001B[0m\u001B[1mOutput Shape          \u001B[0m\u001B[1m \u001B[0m┃\u001B[1m \u001B[0m\u001B[1m      Param #\u001B[0m\u001B[1m \u001B[0m┃\n",
       "┡━━━━━━━━━━━━━━━━━━━━━━━━━━━━━━━━━╇━━━━━━━━━━━━━━━━━━━━━━━━╇━━━━━━━━━━━━━━━┩\n",
       "│ embedding_5 (\u001B[38;5;33mEmbedding\u001B[0m)         │ (\u001B[38;5;45mNone\u001B[0m, \u001B[38;5;34m100\u001B[0m, \u001B[38;5;34m300\u001B[0m)       │     \u001B[38;5;34m3,815,100\u001B[0m │\n",
       "├─────────────────────────────────┼────────────────────────┼───────────────┤\n",
       "│ bidirectional_5 (\u001B[38;5;33mBidirectional\u001B[0m) │ (\u001B[38;5;45mNone\u001B[0m, \u001B[38;5;34m128\u001B[0m)            │        \u001B[38;5;34m46,720\u001B[0m │\n",
       "├─────────────────────────────────┼────────────────────────┼───────────────┤\n",
       "│ dense_5 (\u001B[38;5;33mDense\u001B[0m)                 │ (\u001B[38;5;45mNone\u001B[0m, \u001B[38;5;34m1\u001B[0m)              │           \u001B[38;5;34m129\u001B[0m │\n",
       "└─────────────────────────────────┴────────────────────────┴───────────────┘\n"
      ],
      "text/html": [
       "<pre style=\"white-space:pre;overflow-x:auto;line-height:normal;font-family:Menlo,'DejaVu Sans Mono',consolas,'Courier New',monospace\">┏━━━━━━━━━━━━━━━━━━━━━━━━━━━━━━━━━┳━━━━━━━━━━━━━━━━━━━━━━━━┳━━━━━━━━━━━━━━━┓\n",
       "┃<span style=\"font-weight: bold\"> Layer (type)                    </span>┃<span style=\"font-weight: bold\"> Output Shape           </span>┃<span style=\"font-weight: bold\">       Param # </span>┃\n",
       "┡━━━━━━━━━━━━━━━━━━━━━━━━━━━━━━━━━╇━━━━━━━━━━━━━━━━━━━━━━━━╇━━━━━━━━━━━━━━━┩\n",
       "│ embedding_5 (<span style=\"color: #0087ff; text-decoration-color: #0087ff\">Embedding</span>)         │ (<span style=\"color: #00d7ff; text-decoration-color: #00d7ff\">None</span>, <span style=\"color: #00af00; text-decoration-color: #00af00\">100</span>, <span style=\"color: #00af00; text-decoration-color: #00af00\">300</span>)       │     <span style=\"color: #00af00; text-decoration-color: #00af00\">3,815,100</span> │\n",
       "├─────────────────────────────────┼────────────────────────┼───────────────┤\n",
       "│ bidirectional_5 (<span style=\"color: #0087ff; text-decoration-color: #0087ff\">Bidirectional</span>) │ (<span style=\"color: #00d7ff; text-decoration-color: #00d7ff\">None</span>, <span style=\"color: #00af00; text-decoration-color: #00af00\">128</span>)            │        <span style=\"color: #00af00; text-decoration-color: #00af00\">46,720</span> │\n",
       "├─────────────────────────────────┼────────────────────────┼───────────────┤\n",
       "│ dense_5 (<span style=\"color: #0087ff; text-decoration-color: #0087ff\">Dense</span>)                 │ (<span style=\"color: #00d7ff; text-decoration-color: #00d7ff\">None</span>, <span style=\"color: #00af00; text-decoration-color: #00af00\">1</span>)              │           <span style=\"color: #00af00; text-decoration-color: #00af00\">129</span> │\n",
       "└─────────────────────────────────┴────────────────────────┴───────────────┘\n",
       "</pre>\n"
      ]
     },
     "metadata": {},
     "output_type": "display_data"
    },
    {
     "data": {
      "text/plain": [
       "\u001B[1m Total params: \u001B[0m\u001B[38;5;34m3,861,949\u001B[0m (14.73 MB)\n"
      ],
      "text/html": [
       "<pre style=\"white-space:pre;overflow-x:auto;line-height:normal;font-family:Menlo,'DejaVu Sans Mono',consolas,'Courier New',monospace\"><span style=\"font-weight: bold\"> Total params: </span><span style=\"color: #00af00; text-decoration-color: #00af00\">3,861,949</span> (14.73 MB)\n",
       "</pre>\n"
      ]
     },
     "metadata": {},
     "output_type": "display_data"
    },
    {
     "data": {
      "text/plain": [
       "\u001B[1m Trainable params: \u001B[0m\u001B[38;5;34m3,861,949\u001B[0m (14.73 MB)\n"
      ],
      "text/html": [
       "<pre style=\"white-space:pre;overflow-x:auto;line-height:normal;font-family:Menlo,'DejaVu Sans Mono',consolas,'Courier New',monospace\"><span style=\"font-weight: bold\"> Trainable params: </span><span style=\"color: #00af00; text-decoration-color: #00af00\">3,861,949</span> (14.73 MB)\n",
       "</pre>\n"
      ]
     },
     "metadata": {},
     "output_type": "display_data"
    },
    {
     "data": {
      "text/plain": [
       "\u001B[1m Non-trainable params: \u001B[0m\u001B[38;5;34m0\u001B[0m (0.00 B)\n"
      ],
      "text/html": [
       "<pre style=\"white-space:pre;overflow-x:auto;line-height:normal;font-family:Menlo,'DejaVu Sans Mono',consolas,'Courier New',monospace\"><span style=\"font-weight: bold\"> Non-trainable params: </span><span style=\"color: #00af00; text-decoration-color: #00af00\">0</span> (0.00 B)\n",
       "</pre>\n"
      ]
     },
     "metadata": {},
     "output_type": "display_data"
    },
    {
     "name": "stdout",
     "output_type": "stream",
     "text": [
      "Fitting Model\n",
      "Epoch 1/10\n"
     ]
    },
    {
     "name": "stderr",
     "output_type": "stream",
     "text": [
      "2024-11-24 20:42:18.656932: E tensorflow/core/framework/node_def_util.cc:676] NodeDef mentions attribute use_unbounded_threadpool which is not in the op definition: Op<name=MapDataset; signature=input_dataset:variant, other_arguments: -> handle:variant; attr=f:func; attr=Targuments:list(type),min=0; attr=output_types:list(type),min=1; attr=output_shapes:list(shape),min=1; attr=use_inter_op_parallelism:bool,default=true; attr=preserve_cardinality:bool,default=false; attr=force_synchronous:bool,default=false; attr=metadata:string,default=\"\"> This may be expected if your graph generating binary is newer  than this binary. Unknown attributes will be ignored. NodeDef: {{node ParallelMapDatasetV2/_15}}\n",
      "2024-11-24 20:42:18.657204: E tensorflow/core/framework/node_def_util.cc:676] NodeDef mentions attribute use_unbounded_threadpool which is not in the op definition: Op<name=MapDataset; signature=input_dataset:variant, other_arguments: -> handle:variant; attr=f:func; attr=Targuments:list(type),min=0; attr=output_types:list(type),min=1; attr=output_shapes:list(shape),min=1; attr=use_inter_op_parallelism:bool,default=true; attr=preserve_cardinality:bool,default=false; attr=force_synchronous:bool,default=false; attr=metadata:string,default=\"\"> This may be expected if your graph generating binary is newer  than this binary. Unknown attributes will be ignored. NodeDef: {{node ParallelMapDatasetV2/_15}}\n"
     ]
    },
    {
     "name": "stdout",
     "output_type": "stream",
     "text": [
      "\u001B[1m55/55\u001B[0m \u001B[32m━━━━━━━━━━━━━━━━━━━━\u001B[0m\u001B[37m\u001B[0m \u001B[1m2s\u001B[0m 28ms/step - accuracy: 0.5695 - loss: 0.6758\n",
      "Epoch 2/10\n",
      "\u001B[1m55/55\u001B[0m \u001B[32m━━━━━━━━━━━━━━━━━━━━\u001B[0m\u001B[37m\u001B[0m \u001B[1m1s\u001B[0m 26ms/step - accuracy: 0.8048 - loss: 0.4379\n",
      "Epoch 3/10\n",
      "\u001B[1m55/55\u001B[0m \u001B[32m━━━━━━━━━━━━━━━━━━━━\u001B[0m\u001B[37m\u001B[0m \u001B[1m2s\u001B[0m 28ms/step - accuracy: 0.9105 - loss: 0.2462\n",
      "Epoch 4/10\n",
      "\u001B[1m55/55\u001B[0m \u001B[32m━━━━━━━━━━━━━━━━━━━━\u001B[0m\u001B[37m\u001B[0m \u001B[1m2s\u001B[0m 27ms/step - accuracy: 0.9419 - loss: 0.1687\n",
      "Epoch 5/10\n",
      "\u001B[1m55/55\u001B[0m \u001B[32m━━━━━━━━━━━━━━━━━━━━\u001B[0m\u001B[37m\u001B[0m \u001B[1m2s\u001B[0m 28ms/step - accuracy: 0.9579 - loss: 0.1221\n",
      "Epoch 6/10\n",
      "\u001B[1m55/55\u001B[0m \u001B[32m━━━━━━━━━━━━━━━━━━━━\u001B[0m\u001B[37m\u001B[0m \u001B[1m2s\u001B[0m 32ms/step - accuracy: 0.9754 - loss: 0.0744\n",
      "Epoch 7/10\n",
      "\u001B[1m55/55\u001B[0m \u001B[32m━━━━━━━━━━━━━━━━━━━━\u001B[0m\u001B[37m\u001B[0m \u001B[1m2s\u001B[0m 29ms/step - accuracy: 0.9912 - loss: 0.0307\n",
      "Epoch 8/10\n",
      "\u001B[1m55/55\u001B[0m \u001B[32m━━━━━━━━━━━━━━━━━━━━\u001B[0m\u001B[37m\u001B[0m \u001B[1m2s\u001B[0m 28ms/step - accuracy: 0.9964 - loss: 0.0155\n",
      "Epoch 9/10\n",
      "\u001B[1m55/55\u001B[0m \u001B[32m━━━━━━━━━━━━━━━━━━━━\u001B[0m\u001B[37m\u001B[0m \u001B[1m1s\u001B[0m 27ms/step - accuracy: 0.9979 - loss: 0.0095\n",
      "Epoch 10/10\n",
      "\u001B[1m55/55\u001B[0m \u001B[32m━━━━━━━━━━━━━━━━━━━━\u001B[0m\u001B[37m\u001B[0m \u001B[1m2s\u001B[0m 27ms/step - accuracy: 0.9989 - loss: 0.0082\n",
      "\u001B[1m22/57\u001B[0m \u001B[32m━━━━━━━\u001B[0m\u001B[37m━━━━━━━━━━━━━\u001B[0m \u001B[1m0s\u001B[0m 5ms/step"
     ]
    },
    {
     "name": "stderr",
     "output_type": "stream",
     "text": [
      "2024-11-24 20:42:34.921745: E tensorflow/core/framework/node_def_util.cc:676] NodeDef mentions attribute use_unbounded_threadpool which is not in the op definition: Op<name=MapDataset; signature=input_dataset:variant, other_arguments: -> handle:variant; attr=f:func; attr=Targuments:list(type),min=0; attr=output_types:list(type),min=1; attr=output_shapes:list(shape),min=1; attr=use_inter_op_parallelism:bool,default=true; attr=preserve_cardinality:bool,default=false; attr=force_synchronous:bool,default=false; attr=metadata:string,default=\"\"> This may be expected if your graph generating binary is newer  than this binary. Unknown attributes will be ignored. NodeDef: {{node ParallelMapDatasetV2/_14}}\n",
      "2024-11-24 20:42:34.921991: E tensorflow/core/framework/node_def_util.cc:676] NodeDef mentions attribute use_unbounded_threadpool which is not in the op definition: Op<name=MapDataset; signature=input_dataset:variant, other_arguments: -> handle:variant; attr=f:func; attr=Targuments:list(type),min=0; attr=output_types:list(type),min=1; attr=output_shapes:list(shape),min=1; attr=use_inter_op_parallelism:bool,default=true; attr=preserve_cardinality:bool,default=false; attr=force_synchronous:bool,default=false; attr=metadata:string,default=\"\"> This may be expected if your graph generating binary is newer  than this binary. Unknown attributes will be ignored. NodeDef: {{node ParallelMapDatasetV2/_14}}\n"
     ]
    },
    {
     "name": "stdout",
     "output_type": "stream",
     "text": [
      "\u001B[1m57/57\u001B[0m \u001B[32m━━━━━━━━━━━━━━━━━━━━\u001B[0m\u001B[37m\u001B[0m \u001B[1m0s\u001B[0m 6ms/step\n",
      "0.8111587982832618\n"
     ]
    }
   ],
   "execution_count": 12
  },
  {
   "metadata": {},
   "cell_type": "markdown",
   "source": "TODO: Explain that Google News W2V is best performing, explain Word2Vec and what I'm doing to it to fit it into Keras.",
   "id": "560a7ea9e209b0c8"
  },
  {
   "metadata": {},
   "cell_type": "markdown",
   "source": [
    "# Algorithms\n",
    "\n",
    "## Bi-Directional LSTM\n",
    "\n",
    "TODO\n",
    "\n",
    "## GRU\n",
    "\n",
    "TODO"
   ],
   "id": "651c86c47876dabf"
  },
  {
   "metadata": {},
   "cell_type": "code",
   "source": [
    "from keras_tuner import HyperParameters, RandomSearch\n",
    "\n",
    "# Reset random\n",
    "reset_seed()\n",
    "\n",
    "def create_bi_lstm_model(hp: HyperParameters):\n",
    "    model = keras.Sequential()\n",
    "    model.add(layers.Input((sequence_length,)))\n",
    "    model.add(gensim_to_keras_embedding(google_w2v, vectorize_layer, train_embeddings=True))\n",
    "\n",
    "    if hp.Boolean(\"dropout\"):\n",
    "        model.add(layers.Dropout(0.5))\n",
    "\n",
    "    model.add(layers.Bidirectional(\n",
    "        layers.LSTM(\n",
    "            units=hp.Int(\"units\", min_value=32, max_value=512, step=32),\n",
    "            activation=\"relu\")))\n",
    "\n",
    "    model.add(layers.Dense(1, activation=\"sigmoid\"))\n",
    "\n",
    "    learning_rate = hp.Float(\"lr\", min_value=1e-4, max_value=1e-2, sampling=\"log\")\n",
    "\n",
    "    model.compile(\n",
    "        optimizer=keras.optimizers.Adam(learning_rate=learning_rate),\n",
    "        loss=\"binary_crossentropy\",\n",
    "        metrics=[\"accuracy\"],\n",
    "    )\n",
    "\n",
    "    return model\n",
    "\n",
    "tuner = RandomSearch(\n",
    "    hypermodel=create_bi_lstm_model,\n",
    "    objective=\"val_accuracy\",\n",
    "    max_trials=3,\n",
    "    executions_per_trial=2,\n",
    "    #overwrite=True,\n",
    "    directory=\".tuning\",\n",
    "    project_name=\"bilstm\",\n",
    ")\n",
    "\n",
    "tuner.search_space_summary()\n",
    "\n",
    "tuner.search(prep_train_x, train_y, epochs=2, validation_data=(prep_validation_x, validation_y))\n",
    "\n",
    "models = tuner.get_best_models(num_models=2)\n",
    "best_model = models[0]\n",
    "best_model.summary()"
   ],
   "id": "4011da6653f0e64a",
   "execution_count": 77,
   "outputs": [
    {
     "name": "stdout",
     "output_type": "stream",
     "text": [
      "Trial 3 Complete [00h 02m 13s]\n",
      "val_accuracy: 0.7494266033172607\n",
      "\n",
      "Best val_accuracy So Far: 0.7746559679508209\n",
      "Total elapsed time: 00h 07m 18s\n"
     ]
    },
    {
     "name": "stderr",
     "output_type": "stream",
     "text": [
      "/Users/reecemackie/Projects/Rover656/CMM307-AdvancedAI/venv/lib/python3.12/site-packages/keras/src/saving/saving_lib.py:719: UserWarning: Skipping variable loading for optimizer 'adam', because it has 2 variables whereas the saved optimizer has 20 variables. \n",
      "  saveable.load_own_variables(weights_store.get(inner_path))\n"
     ]
    },
    {
     "data": {
      "text/plain": [
       "\u001B[1mModel: \"sequential\"\u001B[0m\n"
      ],
      "text/html": [
       "<pre style=\"white-space:pre;overflow-x:auto;line-height:normal;font-family:Menlo,'DejaVu Sans Mono',consolas,'Courier New',monospace\"><span style=\"font-weight: bold\">Model: \"sequential\"</span>\n",
       "</pre>\n"
      ]
     },
     "metadata": {},
     "output_type": "display_data"
    },
    {
     "data": {
      "text/plain": [
       "┏━━━━━━━━━━━━━━━━━━━━━━━━━━━━━━━━━┳━━━━━━━━━━━━━━━━━━━━━━━━┳━━━━━━━━━━━━━━━┓\n",
       "┃\u001B[1m \u001B[0m\u001B[1mLayer (type)                   \u001B[0m\u001B[1m \u001B[0m┃\u001B[1m \u001B[0m\u001B[1mOutput Shape          \u001B[0m\u001B[1m \u001B[0m┃\u001B[1m \u001B[0m\u001B[1m      Param #\u001B[0m\u001B[1m \u001B[0m┃\n",
       "┡━━━━━━━━━━━━━━━━━━━━━━━━━━━━━━━━━╇━━━━━━━━━━━━━━━━━━━━━━━━╇━━━━━━━━━━━━━━━┩\n",
       "│ embedding (\u001B[38;5;33mEmbedding\u001B[0m)           │ (\u001B[38;5;45mNone\u001B[0m, \u001B[38;5;34m100\u001B[0m, \u001B[38;5;34m300\u001B[0m)       │     \u001B[38;5;34m3,815,100\u001B[0m │\n",
       "├─────────────────────────────────┼────────────────────────┼───────────────┤\n",
       "│ dropout (\u001B[38;5;33mDropout\u001B[0m)               │ (\u001B[38;5;45mNone\u001B[0m, \u001B[38;5;34m100\u001B[0m, \u001B[38;5;34m300\u001B[0m)       │             \u001B[38;5;34m0\u001B[0m │\n",
       "├─────────────────────────────────┼────────────────────────┼───────────────┤\n",
       "│ bidirectional (\u001B[38;5;33mBidirectional\u001B[0m)   │ (\u001B[38;5;45mNone\u001B[0m, \u001B[38;5;34m320\u001B[0m)            │       \u001B[38;5;34m590,080\u001B[0m │\n",
       "├─────────────────────────────────┼────────────────────────┼───────────────┤\n",
       "│ dense (\u001B[38;5;33mDense\u001B[0m)                   │ (\u001B[38;5;45mNone\u001B[0m, \u001B[38;5;34m1\u001B[0m)              │           \u001B[38;5;34m321\u001B[0m │\n",
       "└─────────────────────────────────┴────────────────────────┴───────────────┘\n"
      ],
      "text/html": [
       "<pre style=\"white-space:pre;overflow-x:auto;line-height:normal;font-family:Menlo,'DejaVu Sans Mono',consolas,'Courier New',monospace\">┏━━━━━━━━━━━━━━━━━━━━━━━━━━━━━━━━━┳━━━━━━━━━━━━━━━━━━━━━━━━┳━━━━━━━━━━━━━━━┓\n",
       "┃<span style=\"font-weight: bold\"> Layer (type)                    </span>┃<span style=\"font-weight: bold\"> Output Shape           </span>┃<span style=\"font-weight: bold\">       Param # </span>┃\n",
       "┡━━━━━━━━━━━━━━━━━━━━━━━━━━━━━━━━━╇━━━━━━━━━━━━━━━━━━━━━━━━╇━━━━━━━━━━━━━━━┩\n",
       "│ embedding (<span style=\"color: #0087ff; text-decoration-color: #0087ff\">Embedding</span>)           │ (<span style=\"color: #00d7ff; text-decoration-color: #00d7ff\">None</span>, <span style=\"color: #00af00; text-decoration-color: #00af00\">100</span>, <span style=\"color: #00af00; text-decoration-color: #00af00\">300</span>)       │     <span style=\"color: #00af00; text-decoration-color: #00af00\">3,815,100</span> │\n",
       "├─────────────────────────────────┼────────────────────────┼───────────────┤\n",
       "│ dropout (<span style=\"color: #0087ff; text-decoration-color: #0087ff\">Dropout</span>)               │ (<span style=\"color: #00d7ff; text-decoration-color: #00d7ff\">None</span>, <span style=\"color: #00af00; text-decoration-color: #00af00\">100</span>, <span style=\"color: #00af00; text-decoration-color: #00af00\">300</span>)       │             <span style=\"color: #00af00; text-decoration-color: #00af00\">0</span> │\n",
       "├─────────────────────────────────┼────────────────────────┼───────────────┤\n",
       "│ bidirectional (<span style=\"color: #0087ff; text-decoration-color: #0087ff\">Bidirectional</span>)   │ (<span style=\"color: #00d7ff; text-decoration-color: #00d7ff\">None</span>, <span style=\"color: #00af00; text-decoration-color: #00af00\">320</span>)            │       <span style=\"color: #00af00; text-decoration-color: #00af00\">590,080</span> │\n",
       "├─────────────────────────────────┼────────────────────────┼───────────────┤\n",
       "│ dense (<span style=\"color: #0087ff; text-decoration-color: #0087ff\">Dense</span>)                   │ (<span style=\"color: #00d7ff; text-decoration-color: #00d7ff\">None</span>, <span style=\"color: #00af00; text-decoration-color: #00af00\">1</span>)              │           <span style=\"color: #00af00; text-decoration-color: #00af00\">321</span> │\n",
       "└─────────────────────────────────┴────────────────────────┴───────────────┘\n",
       "</pre>\n"
      ]
     },
     "metadata": {},
     "output_type": "display_data"
    },
    {
     "data": {
      "text/plain": [
       "\u001B[1m Total params: \u001B[0m\u001B[38;5;34m4,405,501\u001B[0m (16.81 MB)\n"
      ],
      "text/html": [
       "<pre style=\"white-space:pre;overflow-x:auto;line-height:normal;font-family:Menlo,'DejaVu Sans Mono',consolas,'Courier New',monospace\"><span style=\"font-weight: bold\"> Total params: </span><span style=\"color: #00af00; text-decoration-color: #00af00\">4,405,501</span> (16.81 MB)\n",
       "</pre>\n"
      ]
     },
     "metadata": {},
     "output_type": "display_data"
    },
    {
     "data": {
      "text/plain": [
       "\u001B[1m Trainable params: \u001B[0m\u001B[38;5;34m4,405,501\u001B[0m (16.81 MB)\n"
      ],
      "text/html": [
       "<pre style=\"white-space:pre;overflow-x:auto;line-height:normal;font-family:Menlo,'DejaVu Sans Mono',consolas,'Courier New',monospace\"><span style=\"font-weight: bold\"> Trainable params: </span><span style=\"color: #00af00; text-decoration-color: #00af00\">4,405,501</span> (16.81 MB)\n",
       "</pre>\n"
      ]
     },
     "metadata": {},
     "output_type": "display_data"
    },
    {
     "data": {
      "text/plain": [
       "\u001B[1m Non-trainable params: \u001B[0m\u001B[38;5;34m0\u001B[0m (0.00 B)\n"
      ],
      "text/html": [
       "<pre style=\"white-space:pre;overflow-x:auto;line-height:normal;font-family:Menlo,'DejaVu Sans Mono',consolas,'Courier New',monospace\"><span style=\"font-weight: bold\"> Non-trainable params: </span><span style=\"color: #00af00; text-decoration-color: #00af00\">0</span> (0.00 B)\n",
       "</pre>\n"
      ]
     },
     "metadata": {},
     "output_type": "display_data"
    }
   ]
  },
  {
   "metadata": {},
   "cell_type": "code",
   "source": [
    "# Reset random\n",
    "reset_seed()\n",
    "\n",
    "def create_gru_model(hp: HyperParameters):\n",
    "    model = keras.Sequential()\n",
    "    model.add(layers.Input((sequence_length,)))\n",
    "    model.add(gensim_to_keras_embedding(google_w2v, vectorize_layer, train_embeddings=True))\n",
    "\n",
    "    if hp.Boolean(\"emb-dropout\"):\n",
    "        model.add(layers.Dropout(0.5))\n",
    "\n",
    "    model.add(layers.Bidirectional(\n",
    "        layers.GRU(\n",
    "            units=hp.Int(\"units\", min_value=2, max_value=32, step=4),\n",
    "            #activation=\"relu\"\n",
    "        )))\n",
    "\n",
    "    if hp.Boolean(\"gru-dropout\"):\n",
    "        model.add(layers.Dropout(0.5))\n",
    "\n",
    "    model.add(layers.Dense(1, activation=\"sigmoid\"))\n",
    "\n",
    "    learning_rate = hp.Float(\"lr\", min_value=1e-4, max_value=1e-2, sampling=\"log\")\n",
    "\n",
    "    model.compile(\n",
    "        optimizer=keras.optimizers.Adam(learning_rate=learning_rate),\n",
    "        loss=\"binary_crossentropy\",\n",
    "        metrics=[\"accuracy\"],\n",
    "    )\n",
    "\n",
    "    return model\n",
    "\n",
    "tuner = RandomSearch(\n",
    "    hypermodel=create_gru_model,\n",
    "    objective=\"val_accuracy\",\n",
    "    max_trials=5,\n",
    "    executions_per_trial=2,\n",
    "    #overwrite=True,\n",
    "    directory=\".tuning\",\n",
    "    project_name=\"gru\",\n",
    ")\n",
    "\n",
    "tuner.search_space_summary()\n",
    "\n",
    "tuner.search(prep_train_x, train_y, epochs=2, validation_data=(prep_validation_x, validation_y))\n",
    "\n",
    "models = tuner.get_best_models(num_models=2)\n",
    "best_model = models[0]\n",
    "best_model.summary()"
   ],
   "id": "58af9fa7f8352a77",
   "execution_count": 79,
   "outputs": [
    {
     "name": "stdout",
     "output_type": "stream",
     "text": [
      "Trial 5 Complete [00h 00m 22s]\n",
      "val_accuracy: 0.7964449524879456\n",
      "\n",
      "Best val_accuracy So Far: 0.7975917458534241\n",
      "Total elapsed time: 00h 02m 00s\n"
     ]
    },
    {
     "name": "stderr",
     "output_type": "stream",
     "text": [
      "/Users/reecemackie/Projects/Rover656/CMM307-AdvancedAI/venv/lib/python3.12/site-packages/keras/src/saving/saving_lib.py:719: UserWarning: Skipping variable loading for optimizer 'adam', because it has 2 variables whereas the saved optimizer has 20 variables. \n",
      "  saveable.load_own_variables(weights_store.get(inner_path))\n"
     ]
    },
    {
     "data": {
      "text/plain": [
       "\u001B[1mModel: \"sequential\"\u001B[0m\n"
      ],
      "text/html": [
       "<pre style=\"white-space:pre;overflow-x:auto;line-height:normal;font-family:Menlo,'DejaVu Sans Mono',consolas,'Courier New',monospace\"><span style=\"font-weight: bold\">Model: \"sequential\"</span>\n",
       "</pre>\n"
      ]
     },
     "metadata": {},
     "output_type": "display_data"
    },
    {
     "data": {
      "text/plain": [
       "┏━━━━━━━━━━━━━━━━━━━━━━━━━━━━━━━━━┳━━━━━━━━━━━━━━━━━━━━━━━━┳━━━━━━━━━━━━━━━┓\n",
       "┃\u001B[1m \u001B[0m\u001B[1mLayer (type)                   \u001B[0m\u001B[1m \u001B[0m┃\u001B[1m \u001B[0m\u001B[1mOutput Shape          \u001B[0m\u001B[1m \u001B[0m┃\u001B[1m \u001B[0m\u001B[1m      Param #\u001B[0m\u001B[1m \u001B[0m┃\n",
       "┡━━━━━━━━━━━━━━━━━━━━━━━━━━━━━━━━━╇━━━━━━━━━━━━━━━━━━━━━━━━╇━━━━━━━━━━━━━━━┩\n",
       "│ embedding (\u001B[38;5;33mEmbedding\u001B[0m)           │ (\u001B[38;5;45mNone\u001B[0m, \u001B[38;5;34m100\u001B[0m, \u001B[38;5;34m300\u001B[0m)       │     \u001B[38;5;34m3,815,100\u001B[0m │\n",
       "├─────────────────────────────────┼────────────────────────┼───────────────┤\n",
       "│ dropout (\u001B[38;5;33mDropout\u001B[0m)               │ (\u001B[38;5;45mNone\u001B[0m, \u001B[38;5;34m100\u001B[0m, \u001B[38;5;34m300\u001B[0m)       │             \u001B[38;5;34m0\u001B[0m │\n",
       "├─────────────────────────────────┼────────────────────────┼───────────────┤\n",
       "│ bidirectional (\u001B[38;5;33mBidirectional\u001B[0m)   │ (\u001B[38;5;45mNone\u001B[0m, \u001B[38;5;34m4\u001B[0m)              │         \u001B[38;5;34m3,648\u001B[0m │\n",
       "├─────────────────────────────────┼────────────────────────┼───────────────┤\n",
       "│ dense (\u001B[38;5;33mDense\u001B[0m)                   │ (\u001B[38;5;45mNone\u001B[0m, \u001B[38;5;34m1\u001B[0m)              │             \u001B[38;5;34m5\u001B[0m │\n",
       "└─────────────────────────────────┴────────────────────────┴───────────────┘\n"
      ],
      "text/html": [
       "<pre style=\"white-space:pre;overflow-x:auto;line-height:normal;font-family:Menlo,'DejaVu Sans Mono',consolas,'Courier New',monospace\">┏━━━━━━━━━━━━━━━━━━━━━━━━━━━━━━━━━┳━━━━━━━━━━━━━━━━━━━━━━━━┳━━━━━━━━━━━━━━━┓\n",
       "┃<span style=\"font-weight: bold\"> Layer (type)                    </span>┃<span style=\"font-weight: bold\"> Output Shape           </span>┃<span style=\"font-weight: bold\">       Param # </span>┃\n",
       "┡━━━━━━━━━━━━━━━━━━━━━━━━━━━━━━━━━╇━━━━━━━━━━━━━━━━━━━━━━━━╇━━━━━━━━━━━━━━━┩\n",
       "│ embedding (<span style=\"color: #0087ff; text-decoration-color: #0087ff\">Embedding</span>)           │ (<span style=\"color: #00d7ff; text-decoration-color: #00d7ff\">None</span>, <span style=\"color: #00af00; text-decoration-color: #00af00\">100</span>, <span style=\"color: #00af00; text-decoration-color: #00af00\">300</span>)       │     <span style=\"color: #00af00; text-decoration-color: #00af00\">3,815,100</span> │\n",
       "├─────────────────────────────────┼────────────────────────┼───────────────┤\n",
       "│ dropout (<span style=\"color: #0087ff; text-decoration-color: #0087ff\">Dropout</span>)               │ (<span style=\"color: #00d7ff; text-decoration-color: #00d7ff\">None</span>, <span style=\"color: #00af00; text-decoration-color: #00af00\">100</span>, <span style=\"color: #00af00; text-decoration-color: #00af00\">300</span>)       │             <span style=\"color: #00af00; text-decoration-color: #00af00\">0</span> │\n",
       "├─────────────────────────────────┼────────────────────────┼───────────────┤\n",
       "│ bidirectional (<span style=\"color: #0087ff; text-decoration-color: #0087ff\">Bidirectional</span>)   │ (<span style=\"color: #00d7ff; text-decoration-color: #00d7ff\">None</span>, <span style=\"color: #00af00; text-decoration-color: #00af00\">4</span>)              │         <span style=\"color: #00af00; text-decoration-color: #00af00\">3,648</span> │\n",
       "├─────────────────────────────────┼────────────────────────┼───────────────┤\n",
       "│ dense (<span style=\"color: #0087ff; text-decoration-color: #0087ff\">Dense</span>)                   │ (<span style=\"color: #00d7ff; text-decoration-color: #00d7ff\">None</span>, <span style=\"color: #00af00; text-decoration-color: #00af00\">1</span>)              │             <span style=\"color: #00af00; text-decoration-color: #00af00\">5</span> │\n",
       "└─────────────────────────────────┴────────────────────────┴───────────────┘\n",
       "</pre>\n"
      ]
     },
     "metadata": {},
     "output_type": "display_data"
    },
    {
     "data": {
      "text/plain": [
       "\u001B[1m Total params: \u001B[0m\u001B[38;5;34m3,818,753\u001B[0m (14.57 MB)\n"
      ],
      "text/html": [
       "<pre style=\"white-space:pre;overflow-x:auto;line-height:normal;font-family:Menlo,'DejaVu Sans Mono',consolas,'Courier New',monospace\"><span style=\"font-weight: bold\"> Total params: </span><span style=\"color: #00af00; text-decoration-color: #00af00\">3,818,753</span> (14.57 MB)\n",
       "</pre>\n"
      ]
     },
     "metadata": {},
     "output_type": "display_data"
    },
    {
     "data": {
      "text/plain": [
       "\u001B[1m Trainable params: \u001B[0m\u001B[38;5;34m3,818,753\u001B[0m (14.57 MB)\n"
      ],
      "text/html": [
       "<pre style=\"white-space:pre;overflow-x:auto;line-height:normal;font-family:Menlo,'DejaVu Sans Mono',consolas,'Courier New',monospace\"><span style=\"font-weight: bold\"> Trainable params: </span><span style=\"color: #00af00; text-decoration-color: #00af00\">3,818,753</span> (14.57 MB)\n",
       "</pre>\n"
      ]
     },
     "metadata": {},
     "output_type": "display_data"
    },
    {
     "data": {
      "text/plain": [
       "\u001B[1m Non-trainable params: \u001B[0m\u001B[38;5;34m0\u001B[0m (0.00 B)\n"
      ],
      "text/html": [
       "<pre style=\"white-space:pre;overflow-x:auto;line-height:normal;font-family:Menlo,'DejaVu Sans Mono',consolas,'Courier New',monospace\"><span style=\"font-weight: bold\"> Non-trainable params: </span><span style=\"color: #00af00; text-decoration-color: #00af00\">0</span> (0.00 B)\n",
       "</pre>\n"
      ]
     },
     "metadata": {},
     "output_type": "display_data"
    }
   ]
  },
  {
   "metadata": {},
   "cell_type": "markdown",
   "source": "# Evaluation",
   "id": "caa348f6a9f9da65"
  },
  {
   "metadata": {},
   "cell_type": "markdown",
   "source": "# Paper Overview",
   "id": "498dc50a816e76dd"
  },
  {
   "metadata": {},
   "cell_type": "markdown",
   "source": "# Paper Implementation",
   "id": "bbe159007292c497"
  },
  {
   "metadata": {
    "ExecuteTime": {
     "end_time": "2024-11-26T01:09:34.886221Z",
     "start_time": "2024-11-26T01:07:42.158713Z"
    }
   },
   "cell_type": "code",
   "source": [
    "# TODO: Implement the C-LSTM\n",
    "\n",
    "from keras import regularizers, optimizers\n",
    "\n",
    "# Reset random\n",
    "reset_seed()\n",
    "\n",
    "model = keras.Sequential([\n",
    "    layers.Input((sequence_length,)),\n",
    "    # Google Word2Vec embedding\n",
    "    gensim_to_keras_embedding(google_w2v, vectorize_layer, train_embeddings=True),\n",
    "    layers.Dropout(0.5),\n",
    "\n",
    "    # Convolutional layer with 150 filters of size 3\n",
    "    layers.Conv1D(150, kernel_size=3, activation=\"relu\"),\n",
    "    # ! Deviation - using MaxPooling1D, without this, model performs ~66%\n",
    "    layers.MaxPooling1D(pool_size=2),\n",
    "\n",
    "    # LSTM layer with 150 dimensionality\n",
    "    layers.LSTM(150),\n",
    "    layers.Dropout(0.5),\n",
    "\n",
    "    # Softmax layer with L2 regularization\n",
    "    #layers.Dense(2, activation=\"softmax\", kernel_regularizer=regularizers.L1L2(0, 0.001)),\n",
    "    # layers.Dense(2, activation=\"softmax\"),\n",
    "\n",
    "    # ! Deviation - using sigmoid for binary instead of softmax\n",
    "    layers.Dense(1, activation=\"sigmoid\", kernel_regularizer=regularizers.L2(0.001), bias_regularizer=regularizers.L2(0.001)),\n",
    "])\n",
    "\n",
    "# model.compile(loss=\"sparse_categorical_crossentropy\", optimizer=optimizers.Adam(), metrics=[\"accuracy\"])\n",
    "# model.compile(loss=\"binary_crossentropy\", optimizer=optimizers.RMSprop(), metrics=[\"accuracy\"])\n",
    "model.compile(loss=\"binary_crossentropy\", optimizer=optimizers.Adam(), metrics=[\"accuracy\"])\n",
    "\n",
    "model.summary()\n",
    "\n",
    "print('Fitting Model')\n",
    "model.fit(x=prep_train_x, y=train_y, validation_data=(prep_validation_x, validation_y), epochs=20)#, epochs=20, batch_size=128)\n",
    "\n",
    "pred = model.predict(prep_test_x)#.argmax(axis=1)\n",
    "predictions = (pred > 0.5).astype(\"int32\")\n",
    "f1 = f1_score(test_y, predictions)\n",
    "print(f1)"
   ],
   "id": "b3f41ad4005c5c0a",
   "outputs": [
    {
     "data": {
      "text/plain": [
       "\u001B[1mModel: \"sequential_24\"\u001B[0m\n"
      ],
      "text/html": [
       "<pre style=\"white-space:pre;overflow-x:auto;line-height:normal;font-family:Menlo,'DejaVu Sans Mono',consolas,'Courier New',monospace\"><span style=\"font-weight: bold\">Model: \"sequential_24\"</span>\n",
       "</pre>\n"
      ]
     },
     "metadata": {},
     "output_type": "display_data"
    },
    {
     "data": {
      "text/plain": [
       "┏━━━━━━━━━━━━━━━━━━━━━━━━━━━━━━━━━┳━━━━━━━━━━━━━━━━━━━━━━━━┳━━━━━━━━━━━━━━━┓\n",
       "┃\u001B[1m \u001B[0m\u001B[1mLayer (type)                   \u001B[0m\u001B[1m \u001B[0m┃\u001B[1m \u001B[0m\u001B[1mOutput Shape          \u001B[0m\u001B[1m \u001B[0m┃\u001B[1m \u001B[0m\u001B[1m      Param #\u001B[0m\u001B[1m \u001B[0m┃\n",
       "┡━━━━━━━━━━━━━━━━━━━━━━━━━━━━━━━━━╇━━━━━━━━━━━━━━━━━━━━━━━━╇━━━━━━━━━━━━━━━┩\n",
       "│ embedding_28 (\u001B[38;5;33mEmbedding\u001B[0m)        │ (\u001B[38;5;45mNone\u001B[0m, \u001B[38;5;34m100\u001B[0m, \u001B[38;5;34m300\u001B[0m)       │     \u001B[38;5;34m3,815,100\u001B[0m │\n",
       "├─────────────────────────────────┼────────────────────────┼───────────────┤\n",
       "│ dropout_47 (\u001B[38;5;33mDropout\u001B[0m)            │ (\u001B[38;5;45mNone\u001B[0m, \u001B[38;5;34m100\u001B[0m, \u001B[38;5;34m300\u001B[0m)       │             \u001B[38;5;34m0\u001B[0m │\n",
       "├─────────────────────────────────┼────────────────────────┼───────────────┤\n",
       "│ conv1d_25 (\u001B[38;5;33mConv1D\u001B[0m)              │ (\u001B[38;5;45mNone\u001B[0m, \u001B[38;5;34m98\u001B[0m, \u001B[38;5;34m150\u001B[0m)        │       \u001B[38;5;34m135,150\u001B[0m │\n",
       "├─────────────────────────────────┼────────────────────────┼───────────────┤\n",
       "│ max_pooling1d_8 (\u001B[38;5;33mMaxPooling1D\u001B[0m)  │ (\u001B[38;5;45mNone\u001B[0m, \u001B[38;5;34m49\u001B[0m, \u001B[38;5;34m150\u001B[0m)        │             \u001B[38;5;34m0\u001B[0m │\n",
       "├─────────────────────────────────┼────────────────────────┼───────────────┤\n",
       "│ lstm_27 (\u001B[38;5;33mLSTM\u001B[0m)                  │ (\u001B[38;5;45mNone\u001B[0m, \u001B[38;5;34m150\u001B[0m)            │       \u001B[38;5;34m180,600\u001B[0m │\n",
       "├─────────────────────────────────┼────────────────────────┼───────────────┤\n",
       "│ dropout_48 (\u001B[38;5;33mDropout\u001B[0m)            │ (\u001B[38;5;45mNone\u001B[0m, \u001B[38;5;34m150\u001B[0m)            │             \u001B[38;5;34m0\u001B[0m │\n",
       "├─────────────────────────────────┼────────────────────────┼───────────────┤\n",
       "│ dense_28 (\u001B[38;5;33mDense\u001B[0m)                │ (\u001B[38;5;45mNone\u001B[0m, \u001B[38;5;34m1\u001B[0m)              │           \u001B[38;5;34m151\u001B[0m │\n",
       "└─────────────────────────────────┴────────────────────────┴───────────────┘\n"
      ],
      "text/html": [
       "<pre style=\"white-space:pre;overflow-x:auto;line-height:normal;font-family:Menlo,'DejaVu Sans Mono',consolas,'Courier New',monospace\">┏━━━━━━━━━━━━━━━━━━━━━━━━━━━━━━━━━┳━━━━━━━━━━━━━━━━━━━━━━━━┳━━━━━━━━━━━━━━━┓\n",
       "┃<span style=\"font-weight: bold\"> Layer (type)                    </span>┃<span style=\"font-weight: bold\"> Output Shape           </span>┃<span style=\"font-weight: bold\">       Param # </span>┃\n",
       "┡━━━━━━━━━━━━━━━━━━━━━━━━━━━━━━━━━╇━━━━━━━━━━━━━━━━━━━━━━━━╇━━━━━━━━━━━━━━━┩\n",
       "│ embedding_28 (<span style=\"color: #0087ff; text-decoration-color: #0087ff\">Embedding</span>)        │ (<span style=\"color: #00d7ff; text-decoration-color: #00d7ff\">None</span>, <span style=\"color: #00af00; text-decoration-color: #00af00\">100</span>, <span style=\"color: #00af00; text-decoration-color: #00af00\">300</span>)       │     <span style=\"color: #00af00; text-decoration-color: #00af00\">3,815,100</span> │\n",
       "├─────────────────────────────────┼────────────────────────┼───────────────┤\n",
       "│ dropout_47 (<span style=\"color: #0087ff; text-decoration-color: #0087ff\">Dropout</span>)            │ (<span style=\"color: #00d7ff; text-decoration-color: #00d7ff\">None</span>, <span style=\"color: #00af00; text-decoration-color: #00af00\">100</span>, <span style=\"color: #00af00; text-decoration-color: #00af00\">300</span>)       │             <span style=\"color: #00af00; text-decoration-color: #00af00\">0</span> │\n",
       "├─────────────────────────────────┼────────────────────────┼───────────────┤\n",
       "│ conv1d_25 (<span style=\"color: #0087ff; text-decoration-color: #0087ff\">Conv1D</span>)              │ (<span style=\"color: #00d7ff; text-decoration-color: #00d7ff\">None</span>, <span style=\"color: #00af00; text-decoration-color: #00af00\">98</span>, <span style=\"color: #00af00; text-decoration-color: #00af00\">150</span>)        │       <span style=\"color: #00af00; text-decoration-color: #00af00\">135,150</span> │\n",
       "├─────────────────────────────────┼────────────────────────┼───────────────┤\n",
       "│ max_pooling1d_8 (<span style=\"color: #0087ff; text-decoration-color: #0087ff\">MaxPooling1D</span>)  │ (<span style=\"color: #00d7ff; text-decoration-color: #00d7ff\">None</span>, <span style=\"color: #00af00; text-decoration-color: #00af00\">49</span>, <span style=\"color: #00af00; text-decoration-color: #00af00\">150</span>)        │             <span style=\"color: #00af00; text-decoration-color: #00af00\">0</span> │\n",
       "├─────────────────────────────────┼────────────────────────┼───────────────┤\n",
       "│ lstm_27 (<span style=\"color: #0087ff; text-decoration-color: #0087ff\">LSTM</span>)                  │ (<span style=\"color: #00d7ff; text-decoration-color: #00d7ff\">None</span>, <span style=\"color: #00af00; text-decoration-color: #00af00\">150</span>)            │       <span style=\"color: #00af00; text-decoration-color: #00af00\">180,600</span> │\n",
       "├─────────────────────────────────┼────────────────────────┼───────────────┤\n",
       "│ dropout_48 (<span style=\"color: #0087ff; text-decoration-color: #0087ff\">Dropout</span>)            │ (<span style=\"color: #00d7ff; text-decoration-color: #00d7ff\">None</span>, <span style=\"color: #00af00; text-decoration-color: #00af00\">150</span>)            │             <span style=\"color: #00af00; text-decoration-color: #00af00\">0</span> │\n",
       "├─────────────────────────────────┼────────────────────────┼───────────────┤\n",
       "│ dense_28 (<span style=\"color: #0087ff; text-decoration-color: #0087ff\">Dense</span>)                │ (<span style=\"color: #00d7ff; text-decoration-color: #00d7ff\">None</span>, <span style=\"color: #00af00; text-decoration-color: #00af00\">1</span>)              │           <span style=\"color: #00af00; text-decoration-color: #00af00\">151</span> │\n",
       "└─────────────────────────────────┴────────────────────────┴───────────────┘\n",
       "</pre>\n"
      ]
     },
     "metadata": {},
     "output_type": "display_data"
    },
    {
     "data": {
      "text/plain": [
       "\u001B[1m Total params: \u001B[0m\u001B[38;5;34m4,131,001\u001B[0m (15.76 MB)\n"
      ],
      "text/html": [
       "<pre style=\"white-space:pre;overflow-x:auto;line-height:normal;font-family:Menlo,'DejaVu Sans Mono',consolas,'Courier New',monospace\"><span style=\"font-weight: bold\"> Total params: </span><span style=\"color: #00af00; text-decoration-color: #00af00\">4,131,001</span> (15.76 MB)\n",
       "</pre>\n"
      ]
     },
     "metadata": {},
     "output_type": "display_data"
    },
    {
     "data": {
      "text/plain": [
       "\u001B[1m Trainable params: \u001B[0m\u001B[38;5;34m4,131,001\u001B[0m (15.76 MB)\n"
      ],
      "text/html": [
       "<pre style=\"white-space:pre;overflow-x:auto;line-height:normal;font-family:Menlo,'DejaVu Sans Mono',consolas,'Courier New',monospace\"><span style=\"font-weight: bold\"> Trainable params: </span><span style=\"color: #00af00; text-decoration-color: #00af00\">4,131,001</span> (15.76 MB)\n",
       "</pre>\n"
      ]
     },
     "metadata": {},
     "output_type": "display_data"
    },
    {
     "data": {
      "text/plain": [
       "\u001B[1m Non-trainable params: \u001B[0m\u001B[38;5;34m0\u001B[0m (0.00 B)\n"
      ],
      "text/html": [
       "<pre style=\"white-space:pre;overflow-x:auto;line-height:normal;font-family:Menlo,'DejaVu Sans Mono',consolas,'Courier New',monospace\"><span style=\"font-weight: bold\"> Non-trainable params: </span><span style=\"color: #00af00; text-decoration-color: #00af00\">0</span> (0.00 B)\n",
       "</pre>\n"
      ]
     },
     "metadata": {},
     "output_type": "display_data"
    },
    {
     "name": "stdout",
     "output_type": "stream",
     "text": [
      "Fitting Model\n",
      "Epoch 1/20\n"
     ]
    },
    {
     "name": "stderr",
     "output_type": "stream",
     "text": [
      "2024-11-26 01:07:42.256004: E tensorflow/core/framework/node_def_util.cc:676] NodeDef mentions attribute use_unbounded_threadpool which is not in the op definition: Op<name=MapDataset; signature=input_dataset:variant, other_arguments: -> handle:variant; attr=f:func; attr=Targuments:list(type),min=0; attr=output_types:list(type),min=1; attr=output_shapes:list(shape),min=1; attr=use_inter_op_parallelism:bool,default=true; attr=preserve_cardinality:bool,default=false; attr=force_synchronous:bool,default=false; attr=metadata:string,default=\"\"> This may be expected if your graph generating binary is newer  than this binary. Unknown attributes will be ignored. NodeDef: {{node ParallelMapDatasetV2/_15}}\n",
      "2024-11-26 01:07:42.256355: E tensorflow/core/framework/node_def_util.cc:676] NodeDef mentions attribute use_unbounded_threadpool which is not in the op definition: Op<name=MapDataset; signature=input_dataset:variant, other_arguments: -> handle:variant; attr=f:func; attr=Targuments:list(type),min=0; attr=output_types:list(type),min=1; attr=output_shapes:list(shape),min=1; attr=use_inter_op_parallelism:bool,default=true; attr=preserve_cardinality:bool,default=false; attr=force_synchronous:bool,default=false; attr=metadata:string,default=\"\"> This may be expected if your graph generating binary is newer  than this binary. Unknown attributes will be ignored. NodeDef: {{node ParallelMapDatasetV2/_15}}\n"
     ]
    },
    {
     "name": "stdout",
     "output_type": "stream",
     "text": [
      "\u001B[1m216/217\u001B[0m \u001B[32m━━━━━━━━━━━━━━━━━━━\u001B[0m\u001B[37m━\u001B[0m \u001B[1m0s\u001B[0m 25ms/step - accuracy: 0.5038 - loss: 0.6957"
     ]
    },
    {
     "name": "stderr",
     "output_type": "stream",
     "text": [
      "2024-11-26 01:07:48.289593: E tensorflow/core/framework/node_def_util.cc:676] NodeDef mentions attribute use_unbounded_threadpool which is not in the op definition: Op<name=MapDataset; signature=input_dataset:variant, other_arguments: -> handle:variant; attr=f:func; attr=Targuments:list(type),min=0; attr=output_types:list(type),min=1; attr=output_shapes:list(shape),min=1; attr=use_inter_op_parallelism:bool,default=true; attr=preserve_cardinality:bool,default=false; attr=force_synchronous:bool,default=false; attr=metadata:string,default=\"\"> This may be expected if your graph generating binary is newer  than this binary. Unknown attributes will be ignored. NodeDef: {{node ParallelMapDatasetV2/_15}}\n",
      "2024-11-26 01:07:48.289830: E tensorflow/core/framework/node_def_util.cc:676] NodeDef mentions attribute use_unbounded_threadpool which is not in the op definition: Op<name=MapDataset; signature=input_dataset:variant, other_arguments: -> handle:variant; attr=f:func; attr=Targuments:list(type),min=0; attr=output_types:list(type),min=1; attr=output_shapes:list(shape),min=1; attr=use_inter_op_parallelism:bool,default=true; attr=preserve_cardinality:bool,default=false; attr=force_synchronous:bool,default=false; attr=metadata:string,default=\"\"> This may be expected if your graph generating binary is newer  than this binary. Unknown attributes will be ignored. NodeDef: {{node ParallelMapDatasetV2/_15}}\n"
     ]
    },
    {
     "name": "stdout",
     "output_type": "stream",
     "text": [
      "\u001B[1m217/217\u001B[0m \u001B[32m━━━━━━━━━━━━━━━━━━━━\u001B[0m\u001B[37m\u001B[0m \u001B[1m6s\u001B[0m 26ms/step - accuracy: 0.5039 - loss: 0.6957 - val_accuracy: 0.3979 - val_loss: 0.8463\n",
      "Epoch 2/20\n",
      "\u001B[1m217/217\u001B[0m \u001B[32m━━━━━━━━━━━━━━━━━━━━\u001B[0m\u001B[37m\u001B[0m \u001B[1m5s\u001B[0m 25ms/step - accuracy: 0.6590 - loss: 0.6257 - val_accuracy: 0.7798 - val_loss: 0.5374\n",
      "Epoch 3/20\n",
      "\u001B[1m217/217\u001B[0m \u001B[32m━━━━━━━━━━━━━━━━━━━━\u001B[0m\u001B[37m\u001B[0m \u001B[1m5s\u001B[0m 25ms/step - accuracy: 0.8252 - loss: 0.4410 - val_accuracy: 0.7672 - val_loss: 0.6347\n",
      "Epoch 4/20\n",
      "\u001B[1m217/217\u001B[0m \u001B[32m━━━━━━━━━━━━━━━━━━━━\u001B[0m\u001B[37m\u001B[0m \u001B[1m6s\u001B[0m 26ms/step - accuracy: 0.8814 - loss: 0.3187 - val_accuracy: 0.7878 - val_loss: 0.6580\n",
      "Epoch 5/20\n",
      "\u001B[1m217/217\u001B[0m \u001B[32m━━━━━━━━━━━━━━━━━━━━\u001B[0m\u001B[37m\u001B[0m \u001B[1m6s\u001B[0m 26ms/step - accuracy: 0.9245 - loss: 0.2348 - val_accuracy: 0.7523 - val_loss: 0.7352\n",
      "Epoch 6/20\n",
      "\u001B[1m217/217\u001B[0m \u001B[32m━━━━━━━━━━━━━━━━━━━━\u001B[0m\u001B[37m\u001B[0m \u001B[1m6s\u001B[0m 26ms/step - accuracy: 0.9174 - loss: 0.2477 - val_accuracy: 0.7890 - val_loss: 0.6237\n",
      "Epoch 7/20\n",
      "\u001B[1m217/217\u001B[0m \u001B[32m━━━━━━━━━━━━━━━━━━━━\u001B[0m\u001B[37m\u001B[0m \u001B[1m6s\u001B[0m 26ms/step - accuracy: 0.9394 - loss: 0.1874 - val_accuracy: 0.7936 - val_loss: 0.7015\n",
      "Epoch 8/20\n",
      "\u001B[1m217/217\u001B[0m \u001B[32m━━━━━━━━━━━━━━━━━━━━\u001B[0m\u001B[37m\u001B[0m \u001B[1m6s\u001B[0m 25ms/step - accuracy: 0.9617 - loss: 0.1309 - val_accuracy: 0.7970 - val_loss: 0.7561\n",
      "Epoch 9/20\n",
      "\u001B[1m217/217\u001B[0m \u001B[32m━━━━━━━━━━━━━━━━━━━━\u001B[0m\u001B[37m\u001B[0m \u001B[1m5s\u001B[0m 25ms/step - accuracy: 0.9757 - loss: 0.0951 - val_accuracy: 0.7901 - val_loss: 0.8223\n",
      "Epoch 10/20\n",
      "\u001B[1m217/217\u001B[0m \u001B[32m━━━━━━━━━━━━━━━━━━━━\u001B[0m\u001B[37m\u001B[0m \u001B[1m5s\u001B[0m 25ms/step - accuracy: 0.9827 - loss: 0.0665 - val_accuracy: 0.7890 - val_loss: 0.8148\n",
      "Epoch 11/20\n",
      "\u001B[1m217/217\u001B[0m \u001B[32m━━━━━━━━━━━━━━━━━━━━\u001B[0m\u001B[37m\u001B[0m \u001B[1m5s\u001B[0m 25ms/step - accuracy: 0.9851 - loss: 0.0535 - val_accuracy: 0.7833 - val_loss: 0.8577\n",
      "Epoch 12/20\n",
      "\u001B[1m217/217\u001B[0m \u001B[32m━━━━━━━━━━━━━━━━━━━━\u001B[0m\u001B[37m\u001B[0m \u001B[1m6s\u001B[0m 26ms/step - accuracy: 0.9841 - loss: 0.0564 - val_accuracy: 0.7741 - val_loss: 0.9357\n",
      "Epoch 13/20\n",
      "\u001B[1m217/217\u001B[0m \u001B[32m━━━━━━━━━━━━━━━━━━━━\u001B[0m\u001B[37m\u001B[0m \u001B[1m6s\u001B[0m 25ms/step - accuracy: 0.9870 - loss: 0.0455 - val_accuracy: 0.7810 - val_loss: 0.8994\n",
      "Epoch 14/20\n",
      "\u001B[1m217/217\u001B[0m \u001B[32m━━━━━━━━━━━━━━━━━━━━\u001B[0m\u001B[37m\u001B[0m \u001B[1m6s\u001B[0m 25ms/step - accuracy: 0.9876 - loss: 0.0483 - val_accuracy: 0.7913 - val_loss: 0.8266\n",
      "Epoch 15/20\n",
      "\u001B[1m217/217\u001B[0m \u001B[32m━━━━━━━━━━━━━━━━━━━━\u001B[0m\u001B[37m\u001B[0m \u001B[1m6s\u001B[0m 25ms/step - accuracy: 0.9886 - loss: 0.0402 - val_accuracy: 0.7982 - val_loss: 0.9804\n",
      "Epoch 16/20\n",
      "\u001B[1m217/217\u001B[0m \u001B[32m━━━━━━━━━━━━━━━━━━━━\u001B[0m\u001B[37m\u001B[0m \u001B[1m5s\u001B[0m 25ms/step - accuracy: 0.9930 - loss: 0.0331 - val_accuracy: 0.7775 - val_loss: 0.9600\n",
      "Epoch 17/20\n",
      "\u001B[1m217/217\u001B[0m \u001B[32m━━━━━━━━━━━━━━━━━━━━\u001B[0m\u001B[37m\u001B[0m \u001B[1m6s\u001B[0m 26ms/step - accuracy: 0.9950 - loss: 0.0266 - val_accuracy: 0.7856 - val_loss: 0.9865\n",
      "Epoch 18/20\n",
      "\u001B[1m217/217\u001B[0m \u001B[32m━━━━━━━━━━━━━━━━━━━━\u001B[0m\u001B[37m\u001B[0m \u001B[1m6s\u001B[0m 26ms/step - accuracy: 0.9928 - loss: 0.0316 - val_accuracy: 0.7924 - val_loss: 0.9662\n",
      "Epoch 19/20\n",
      "\u001B[1m217/217\u001B[0m \u001B[32m━━━━━━━━━━━━━━━━━━━━\u001B[0m\u001B[37m\u001B[0m \u001B[1m6s\u001B[0m 26ms/step - accuracy: 0.9931 - loss: 0.0304 - val_accuracy: 0.7856 - val_loss: 1.0235\n",
      "Epoch 20/20\n",
      "\u001B[1m217/217\u001B[0m \u001B[32m━━━━━━━━━━━━━━━━━━━━\u001B[0m\u001B[37m\u001B[0m \u001B[1m6s\u001B[0m 26ms/step - accuracy: 0.9952 - loss: 0.0220 - val_accuracy: 0.7890 - val_loss: 0.9886\n",
      "\u001B[1m13/57\u001B[0m \u001B[32m━━━━\u001B[0m\u001B[37m━━━━━━━━━━━━━━━━\u001B[0m \u001B[1m0s\u001B[0m 9ms/step"
     ]
    },
    {
     "name": "stderr",
     "output_type": "stream",
     "text": [
      "2024-11-26 01:09:34.271291: E tensorflow/core/framework/node_def_util.cc:676] NodeDef mentions attribute use_unbounded_threadpool which is not in the op definition: Op<name=MapDataset; signature=input_dataset:variant, other_arguments: -> handle:variant; attr=f:func; attr=Targuments:list(type),min=0; attr=output_types:list(type),min=1; attr=output_shapes:list(shape),min=1; attr=use_inter_op_parallelism:bool,default=true; attr=preserve_cardinality:bool,default=false; attr=force_synchronous:bool,default=false; attr=metadata:string,default=\"\"> This may be expected if your graph generating binary is newer  than this binary. Unknown attributes will be ignored. NodeDef: {{node ParallelMapDatasetV2/_14}}\n",
      "2024-11-26 01:09:34.271521: E tensorflow/core/framework/node_def_util.cc:676] NodeDef mentions attribute use_unbounded_threadpool which is not in the op definition: Op<name=MapDataset; signature=input_dataset:variant, other_arguments: -> handle:variant; attr=f:func; attr=Targuments:list(type),min=0; attr=output_types:list(type),min=1; attr=output_shapes:list(shape),min=1; attr=use_inter_op_parallelism:bool,default=true; attr=preserve_cardinality:bool,default=false; attr=force_synchronous:bool,default=false; attr=metadata:string,default=\"\"> This may be expected if your graph generating binary is newer  than this binary. Unknown attributes will be ignored. NodeDef: {{node ParallelMapDatasetV2/_14}}\n"
     ]
    },
    {
     "name": "stdout",
     "output_type": "stream",
     "text": [
      "\u001B[1m57/57\u001B[0m \u001B[32m━━━━━━━━━━━━━━━━━━━━\u001B[0m\u001B[37m\u001B[0m \u001B[1m1s\u001B[0m 10ms/step\n",
      "0.7975460122699386\n"
     ]
    }
   ],
   "execution_count": 107
  },
  {
   "metadata": {},
   "cell_type": "markdown",
   "source": "# Evaluation",
   "id": "92dea322f27ab39e"
  },
  {
   "metadata": {},
   "cell_type": "markdown",
   "source": [
    "# References\n",
    "\n",
    "Pang, B. and Lee, L. (2005) “Seeing Stars: Exploiting Class Relationships for Sentiment Categorization with Respect to Rating Scales,” Proceedings of the 43rd Annual Meeting on Association for Computational Linguistics  - ACL ’05, pp. 115–124. Available at: https://doi.org/10.3115/1219840.1219855.\n",
    "\n",
    "Socher, R. et al. (2013) “Recursive Deep Models for Semantic Compositionality Over a Sentiment Treebank,” pp. 1631–1642. Available at: https://aclanthology.org/D13-1170 (Accessed: November 25, 2024).\n",
    "\n",
    "SST-2 Dataset | Papers With Code (no date). Available at: https://paperswithcode.com/dataset/sst-2 (Accessed: November 25, 2024).\n",
    "\n",
    "Zhou, C. et al. (2015) “A C-LSTM Neural Network for Text Classification.” Available at: https://arxiv.org/abs/1511.08630v2 (Accessed: November 25, 2024).\n"
   ],
   "id": "4c29f75890163b82"
  }
 ],
 "metadata": {
  "kernelspec": {
   "display_name": "Python 3",
   "language": "python",
   "name": "python3"
  },
  "language_info": {
   "codemirror_mode": {
    "name": "ipython",
    "version": 2
   },
   "file_extension": ".py",
   "mimetype": "text/x-python",
   "name": "python",
   "nbconvert_exporter": "python",
   "pygments_lexer": "ipython2",
   "version": "2.7.6"
  }
 },
 "nbformat": 4,
 "nbformat_minor": 5
}
